{
 "cells": [
  {
   "cell_type": "code",
   "execution_count": null,
   "id": "fac221dd-6217-4abf-86bc-7556988f5447",
   "metadata": {
    "tags": []
   },
   "outputs": [
    {
     "name": "stdout",
     "output_type": "stream",
     "text": [
      "5.2 -0.8834546557201531\n"
     ]
    }
   ],
   "source": [
    "import scipy as sp\n",
    "import numpy as np\n",
    "import math as m\n",
    "import matplotlib as mtp\n",
    "\n",
    "x=5.2\n",
    "y= np.sin(x)\n",
    "\n",
    "print(x,y)\n",
    "\n"
   ]
  },
  {
   "cell_type": "code",
   "execution_count": 2,
   "id": "6bedbd8c-cca2-44c1-ad30-9e4ea07f07c4",
   "metadata": {
    "tags": []
   },
   "outputs": [
    {
     "name": "stdout",
     "output_type": "stream",
     "text": [
      "5.2 -0.8834546557201531\n"
     ]
    }
   ],
   "source": [
    "import scipy as sp\n",
    "import numpy as np\n",
    "import math as m\n",
    "import matplotlib as mtp\n",
    "\n",
    "x=5.2\n",
    "y= m.sin(x)\n",
    "\n",
    "print(x,y)\n",
    "\n"
   ]
  }
 ],
 "metadata": {
  "kernelspec": {
   "display_name": "Python 3 (ipykernel)",
   "language": "python",
   "name": "python3"
  },
  "language_info": {
   "codemirror_mode": {
    "name": "ipython",
    "version": 3
   },
   "file_extension": ".py",
   "mimetype": "text/x-python",
   "name": "python",
   "nbconvert_exporter": "python",
   "pygments_lexer": "ipython3",
   "version": "3.10.9"
  }
 },
 "nbformat": 4,
 "nbformat_minor": 5
}
