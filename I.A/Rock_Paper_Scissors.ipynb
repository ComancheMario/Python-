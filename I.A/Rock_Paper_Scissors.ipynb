{
 "cells": [
  {
   "cell_type": "code",
   "id": "initial_id",
   "metadata": {
    "collapsed": true,
    "ExecuteTime": {
     "end_time": "2024-08-21T20:01:20.690056Z",
     "start_time": "2024-08-21T20:01:20.646790Z"
    }
   },
   "source": [
    "import tensorflow as tf\n",
    "import tensorflow_datasets as tfds\n",
    "import re\n"
   ],
   "outputs": [],
   "execution_count": 10
  },
  {
   "metadata": {
    "ExecuteTime": {
     "end_time": "2024-08-21T17:41:09.754387Z",
     "start_time": "2024-08-21T17:41:09.544909Z"
    }
   },
   "cell_type": "code",
   "source": [
    "#se carga el dataset\n",
    "dataset, info = tfds.load('rock_paper_scissors', with_info=True, as_supervised=True)\n",
    "\n",
    "#se separa en test y train\n",
    "train_dataset, test_dataset = dataset['train'], dataset['test']\n",
    "\n",
    "print(info)"
   ],
   "id": "505169c5b8fc50b9",
   "outputs": [
    {
     "name": "stdout",
     "output_type": "stream",
     "text": [
      "tfds.core.DatasetInfo(\n",
      "    name='rock_paper_scissors',\n",
      "    full_name='rock_paper_scissors/3.0.0',\n",
      "    description=\"\"\"\n",
      "    Images of hands playing rock, paper, scissor game.\n",
      "    \"\"\",\n",
      "    homepage='http://laurencemoroney.com/rock-paper-scissors-dataset',\n",
      "    data_dir='C:\\\\Users\\\\madro\\\\tensorflow_datasets\\\\rock_paper_scissors\\\\3.0.0',\n",
      "    file_format=tfrecord,\n",
      "    download_size=219.53 MiB,\n",
      "    dataset_size=219.23 MiB,\n",
      "    features=FeaturesDict({\n",
      "        'image': Image(shape=(300, 300, 3), dtype=uint8),\n",
      "        'label': ClassLabel(shape=(), dtype=int64, num_classes=3),\n",
      "    }),\n",
      "    supervised_keys=('image', 'label'),\n",
      "    disable_shuffling=False,\n",
      "    splits={\n",
      "        'test': <SplitInfo num_examples=372, num_shards=1>,\n",
      "        'train': <SplitInfo num_examples=2520, num_shards=2>,\n",
      "    },\n",
      "    citation=\"\"\"@ONLINE {rps,\n",
      "    author = \"Laurence Moroney\",\n",
      "    title = \"Rock, Paper, Scissors Dataset\",\n",
      "    month = \"feb\",\n",
      "    year = \"2019\",\n",
      "    url = \"http://laurencemoroney.com/rock-paper-scissors-dataset\"\n",
      "    }\"\"\",\n",
      ")\n"
     ]
    }
   ],
   "execution_count": 8
  },
  {
   "metadata": {},
   "cell_type": "markdown",
   "source": "## Preprocesamiento de datos",
   "id": "d65cd46469cecfcd"
  },
  {
   "metadata": {
    "ExecuteTime": {
     "end_time": "2024-08-21T17:41:09.905943Z",
     "start_time": "2024-08-21T17:41:09.754387Z"
    }
   },
   "cell_type": "code",
   "source": [
    "#se crea la funcion de procesamiento\n",
    "def preprocess(image,label):\n",
    "    image = tf.image.resize(image,(150,150))\n",
    "    image = image / 255.0 #se normalizan\n",
    "    return image, label\n",
    "\n",
    "train_dataset = train_dataset.map(preprocess).batch(32).shuffle(1000)\n",
    "test_dataset = test_dataset.map(preprocess).batch(32)"
   ],
   "id": "1525e744bddd8be0",
   "outputs": [],
   "execution_count": 9
  },
  {
   "metadata": {},
   "cell_type": "markdown",
   "source": "## Construccion del modelo",
   "id": "a38a70925d1da872"
  },
  {
   "metadata": {},
   "cell_type": "code",
   "outputs": [],
   "execution_count": null,
   "source": "",
   "id": "9403bbd556a8c581"
  }
 ],
 "metadata": {
  "kernelspec": {
   "display_name": "Python 3",
   "language": "python",
   "name": "python3"
  },
  "language_info": {
   "codemirror_mode": {
    "name": "ipython",
    "version": 2
   },
   "file_extension": ".py",
   "mimetype": "text/x-python",
   "name": "python",
   "nbconvert_exporter": "python",
   "pygments_lexer": "ipython2",
   "version": "2.7.6"
  }
 },
 "nbformat": 4,
 "nbformat_minor": 5
}
