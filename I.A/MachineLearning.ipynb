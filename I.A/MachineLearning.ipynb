{
 "cells": [
  {
   "cell_type": "markdown",
   "metadata": {},
   "source": [
    "## Tarea"
   ]
  },
  {
   "cell_type": "code",
   "execution_count": 5,
   "metadata": {},
   "outputs": [],
   "source": [
    "import pandas as pd\n",
    "import numpy as np\n",
    "import plotly.express as px\n",
    "import os\n",
    "import glob\n"
   ]
  },
  {
   "cell_type": "markdown",
   "metadata": {},
   "source": [
    "Para un archivo .ZIP qque contiene 5 hojas diferentes se debe:\n",
    "\n",
    "1. combinar los 5 archivos\n",
    "2. verificar que sean las mismas columnas\n",
    "3. eliminar columnas diferentes\n",
    "4. unir los datos en un solo archivo . dejarlo en un solo archivo que se llame data"
   ]
  },
  {
   "cell_type": "code",
   "execution_count": 19,
   "metadata": {},
   "outputs": [],
   "source": [
    "#se agrega la ruta hacia los archivos csv\n",
    "ruta_csv = 'I.A/FINAL FOOD DATASET'\n",
    "\n",
    "#obtenemos los nombres de los archivos csv\n",
    "archivos_csv = ['FINAL FOOD DATASET/FOOD-DATA-GROUP1.csv',\n",
    "                'FINAL FOOD DATASET/FOOD-DATA-GROUP2.csv',\n",
    "                'FINAL FOOD DATASET/FOOD-DATA-GROUP3.csv',\n",
    "                'FINAL FOOD DATASET/FOOD-DATA-GROUP4.csv',\n",
    "                'FINAL FOOD DATASET/FOOD-DATA-GROUP5.csv']\n",
    "\n",
    "\n",
    "#Verificando que las columnas son las mismas\n",
    "#para cada archivo csv\n",
    "columna_por_archivo = {}\n",
    "for archivo in archivos_csv:\n",
    "    df = pd.read_csv(archivo)\n",
    "    columna_por_archivo[os.path.basename(archivo)] = set(df.columns)\n",
    "\n",
    "\n",
    "\n",
    "#leemos los primeros 5 archivos para verificar la estructura\n",
    "primeros_cinco = [pd.read_csv(archivo) for archivo in archivos_csv[:5]]\n",
    "\n",
    "\n",
    "#print(primeros_cinco)\n",
    "#concatenar archivos csv\n",
    "df_unificado = pd.concat(primeros_cinco, ignore_index=True)\n",
    "\n",
    "\n"
   ]
  }
 ],
 "metadata": {
  "kernelspec": {
   "display_name": "Python 3",
   "language": "python",
   "name": "python3"
  },
  "language_info": {
   "codemirror_mode": {
    "name": "ipython",
    "version": 3
   },
   "file_extension": ".py",
   "mimetype": "text/x-python",
   "name": "python",
   "nbconvert_exporter": "python",
   "pygments_lexer": "ipython3",
   "version": "3.12.4"
  }
 },
 "nbformat": 4,
 "nbformat_minor": 2
}
