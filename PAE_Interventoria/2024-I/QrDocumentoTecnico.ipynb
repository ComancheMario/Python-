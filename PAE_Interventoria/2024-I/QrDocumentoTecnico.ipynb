{
 "cells": [
  {
   "cell_type": "code",
   "execution_count": 3,
   "metadata": {},
   "outputs": [],
   "source": [
    "import qrcode\n",
    "\n",
    "# Ruta del archivo PDF (puede ser una URL si está en línea)\n",
    "#pdf_path = \"ruta/del/archivo.pdf\"  # Reemplaza esto con la ruta a tu archivo PDF\n",
    "\n",
    "# Si el archivo está en línea, puedes usar la URL directa:\n",
    "pdf_url = \"https://unaledu-my.sharepoint.com/:b:/g/personal/ipinillap_unal_edu_co/EelWXXM-wZZNvejCRDRrEq4BM4j3_PoZO7FUOJZNm-rMtA?e=SfaRAO\"\n",
    "\n",
    "# Crear el código QR\n",
    "qr = qrcode.make(pdf_url)\n",
    "\n",
    "# Guardar el código QR como imagen\n",
    "qr.save(\"DocumentoTecnico.png\", \"PNG\")  # Guarda la imagen del código QR\n"
   ]
  }
 ],
 "metadata": {
  "kernelspec": {
   "display_name": "usr",
   "language": "python",
   "name": "python3"
  },
  "language_info": {
   "codemirror_mode": {
    "name": "ipython",
    "version": 3
   },
   "file_extension": ".py",
   "mimetype": "text/x-python",
   "name": "python",
   "nbconvert_exporter": "python",
   "pygments_lexer": "ipython3",
   "version": "3.12.5"
  }
 },
 "nbformat": 4,
 "nbformat_minor": 2
}
