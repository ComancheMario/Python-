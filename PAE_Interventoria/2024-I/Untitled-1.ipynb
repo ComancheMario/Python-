{
 "cells": [
  {
   "cell_type": "code",
   "execution_count": 1,
   "metadata": {},
   "outputs": [
    {
     "name": "stdout",
     "output_type": "stream",
     "text": [
      "Código                     0.000000\n",
      "N° Visita                  1.975881\n",
      "N° Visita Total            2.919141\n",
      "Fecha Planeada Inicio      0.000000\n",
      "Fecha Actualización        0.000000\n",
      "Municipio                  3.036485\n",
      "Nombre IED                 3.036485\n",
      "Nombre Sede                0.000000\n",
      "Item                       0.000000\n",
      "Instrumento                0.000000\n",
      "Pregunta                   0.000000\n",
      "Respuesta                 10.286498\n",
      "Observación               67.926453\n",
      "Actualizado Por            0.000000\n",
      "Estado                     0.000000\n",
      "Obligación Contractual    93.006337\n",
      "dtype: float64\n",
      "\n",
      "Conteo de iniciales únicas:\n",
      "iniciales\n",
      "IE    106957\n",
      "BO      3359\n",
      "OR       385\n",
      "PR        82\n",
      "Name: count, dtype: int64\n"
     ]
    },
    {
     "data": {
      "application/vnd.plotly.v1+json": {
       "config": {
        "plotlyServerURL": "https://plot.ly"
       },
       "data": [
        {
         "alignmentgroup": "True",
         "hovertemplate": "Nombre IED=%{x}<br>Cantidad=%{y}<extra></extra>",
         "legendgroup": "",
         "marker": {
          "color": "#636efa",
          "pattern": {
           "shape": ""
          }
         },
         "name": "",
         "offsetgroup": "",
         "orientation": "v",
         "showlegend": false,
         "textposition": "auto",
         "type": "bar",
         "x": [
          "CENTRO EDUCATIVO ALPES DE SEVILLA",
          "CENTRO EDUCATIVO JUARUCO",
          "CENTRO EDUCATIVO LA RETIRADA",
          "I.E. ADOLFO LEÓN BOLIVAR MARENCO DE SUAN",
          "I.E. DE CAMPO DE LA CRUZ",
          "I.E. JOSE CONSUEGRA HIGGINS",
          "I.E. MARTILLO",
          "I.E. SAN ANTONIO DE PIOJÓ",
          "I.E. SAN NICOLAS DE TOLENTINO",
          "I.E. TECNICA AGROPECUARIA DE PUERTO GIRALDO",
          "I.E. TECNICA AGROPECUARIA LA CANDELARIA",
          "I.E. TECNICA AGROPECUARIA SAN CAYETANO DE GALLEGO",
          "I.E. TECNICA JOSÉ AGUSTIN BLANCO BARROS",
          "I.E. TECNICO AGROPECUARIA",
          "I.E. TÉCNICA JUAN V PADILLA",
          "INSTITUCION EDUCATIVA ACADEMICA Y TECNICA - TURISTICA DE SANTA VERONICA",
          "INSTITUCION EDUCATIVA ADOLFO LEÓN BOLIVAR MARENCO DE SUAN",
          "INSTITUCION EDUCATIVA ALGODONAL",
          "INSTITUCION EDUCATIVA ANTONIA SANTOS DE MOLINEROS",
          "INSTITUCION EDUCATIVA ANTONIO NARIÑO DE PALUATO",
          "INSTITUCION EDUCATIVA ARROYO DE PIEDRA EL BUEN PASTOR",
          "INSTITUCION EDUCATIVA BOHORQUEZ",
          "INSTITUCION EDUCATIVA CAMPO DE LA CRUZ",
          "INSTITUCION EDUCATIVA CIEN PESOS Y LAS TABLAS",
          "INSTITUCION EDUCATIVA COMERCIAL DE PALMAR",
          "INSTITUCION EDUCATIVA DE BARANOA JULIO PANTOJA MALDONADO",
          "INSTITUCION EDUCATIVA DE BOHORQUEZ",
          "INSTITUCION EDUCATIVA DE CARRETO",
          "INSTITUCION EDUCATIVA DE LEÑA",
          "INSTITUCION EDUCATIVA DE SABANALARGA",
          "INSTITUCION EDUCATIVA DE SABANALARGA FERNANDO HOYOS RIPOLL",
          "INSTITUCION EDUCATIVA DEPARTAMENTAL ARROYO NEGRO",
          "INSTITUCION EDUCATIVA ESCUELA NORMAL SUPERIOR SANTA ANA DE BARANOA",
          "INSTITUCION EDUCATIVA FERMIN TILANO",
          "INSTITUCION EDUCATIVA FRANCISCO DE PAULA SANTANDER",
          "INSTITUCION EDUCATIVA FRUTO DE LA ESPERANZA",
          "INSTITUCION EDUCATIVA JOHN F. KENNEDY DE REPELON",
          "INSTITUCION EDUCATIVA JOSE CONSUEGRA HIGGINS",
          "INSTITUCION EDUCATIVA JOSE DAVID MONTEZUMA RECUERO",
          "INSTITUCION EDUCATIVA JUAN JOSE NIETO",
          "INSTITUCION EDUCATIVA JUAN V PADILLA",
          "INSTITUCION EDUCATIVA LA RETIRADA",
          "INSTITUCION EDUCATIVA MARIA AUXILIADORA",
          "INSTITUCION EDUCATIVA MARIA MANCILLA SANCHEZ",
          "INSTITUCION EDUCATIVA MARTILLO",
          "INSTITUCION EDUCATIVA MAXIMO MERCADO",
          "INSTITUCION EDUCATIVA MUNDO FELIZ DE GALAPA - SEDE PRINCIPAL",
          "INSTITUCION EDUCATIVA NIÑO JESUS DE PRAGADE HIBACHARO PIOJO",
          "INSTITUCION EDUCATIVA NORMAL SUPERIOR DE MANATI",
          "INSTITUCION EDUCATIVA NORMAL SUPERIOR NUESTRA SEÑORA DE FATIMA",
          "INSTITUCION EDUCATIVA NUESTRA SEÑORA DEL ROSARIO DE PITALITO",
          "INSTITUCION EDUCATIVA NUESTRA SEÑORA DEL TRANSITO DE USIACURI",
          "INSTITUCION EDUCATIVA PALMAR DE CANDELARIA",
          "INSTITUCION EDUCATIVA PANFILO CANTILLO MENDOZA",
          "INSTITUCION EDUCATIVA PLAYA MENDOZA",
          "INSTITUCION EDUCATIVA SAN ANTONIO",
          "INSTITUCION EDUCATIVA SAN JOSE DE AGUADA DE PABLO",
          "INSTITUCION EDUCATIVA SAN JOSE DE LURUACO",
          "INSTITUCION EDUCATIVA SAN JOSE DE SACO",
          "INSTITUCION EDUCATIVA SAN JUAN BOSCO",
          "INSTITUCION EDUCATIVA SAN JUAN DE TOCAGUA",
          "INSTITUCION EDUCATIVA SAN NICOLAS DE TOLENTINO",
          "INSTITUCION EDUCATIVA SAN PABLO DE POLONUEVO",
          "INSTITUCION EDUCATIVA SAN PEDRO CLAVER DE CASCAJAL",
          "INSTITUCION EDUCATIVA SANTA LUCIA",
          "INSTITUCION EDUCATIVA TECNICA  COMERCIAL DE SANTO TOMAS",
          "INSTITUCION EDUCATIVA TECNICA AGROINDUSTRIAL ORIENTAL",
          "INSTITUCION EDUCATIVA TECNICA AGROPECUARIA",
          "INSTITUCION EDUCATIVA TECNICA AGROPECUARIA DE CAMPECHE",
          "INSTITUCION EDUCATIVA TECNICA AGROPECUARIA DE LURUACO",
          "INSTITUCION EDUCATIVA TECNICA AGROPECUARIA DE PALMAR DE VARELA",
          "INSTITUCION EDUCATIVA TECNICA AGROPECUARIA DE PUERTO GIRALDO",
          "INSTITUCION EDUCATIVA TECNICA AGROPECUARIA DE SANTA CRUZ",
          "INSTITUCION EDUCATIVA TECNICA AGROPECUARIA DE VILLA ROSA",
          "INSTITUCION EDUCATIVA TECNICA AGROPECUARIA LA CANDELARIA",
          "INSTITUCION EDUCATIVA TECNICA AGROPECUARIA NUESTRA SE¿ORA DEL CARMEN DE PENDALES",
          "INSTITUCION EDUCATIVA TECNICA AGROPECUARIA NUESTRA SEÑORA DEL CARMEN DE PENDALES",
          "INSTITUCION EDUCATIVA TECNICA AGROPECUARIA SAN CAYETANO DE GALLEGO",
          "INSTITUCION EDUCATIVA TECNICA AGROPECUARIO DE CAMPECHE",
          "INSTITUCION EDUCATIVA TECNICA AGROPISCICOLA DE ROTINET",
          "INSTITUCION EDUCATIVA TECNICA AGROPISCICOLA LAS COMPUERTAS",
          "INSTITUCION EDUCATIVA TECNICA COMERCIAL DE PALMAR DE VARELA",
          "INSTITUCION EDUCATIVA TECNICA COMERCIAL DE PONEDERA",
          "INSTITUCION EDUCATIVA TECNICA COMERCIAL DE SABANAGRANDE",
          "INSTITUCION EDUCATIVA TECNICA COMERCIAL FRANCISCO JAVIER CISNEROS",
          "INSTITUCION EDUCATIVA TECNICA COMERCIAL LA INMACULADA",
          "INSTITUCION EDUCATIVA TECNICA DE LA PEÑA",
          "INSTITUCION EDUCATIVA TECNICA FRANCISCO DE PAULA SANTANDER",
          "INSTITUCION EDUCATIVA TECNICA INDUSTRIAL DE SABANALARGA",
          "INSTITUCION EDUCATIVA TECNICA JOSÉ AGUSTIN BLANCO BARROS",
          "INSTITUCION EDUCATIVA TECNICA JUAN JOSE NIETO",
          "INSTITUCION EDUCATIVA TECNICA MARIA INMACULADA DE PITAL DE MEGUA",
          "INSTITUCION EDUCATIVA TECNICA SAN PABLO DE POLONUEVO",
          "INSTITUCION EDUCATIVA TECNICA TURISTICA SIMON BOLIVAR",
          "INSTITUCION EDUCATIVA TECNICO AGROPECUARIA DE VILLA ROSA",
          "INSTITUCION EDUCATIVA TECNICO COMERCIAL DE SABANALARGA",
          "INSTITUCION EDUCATIVA TECNICO DE LA PE¿A",
          "INSTITUCION EDUCATIVA TECNICO INDUSTRIAL PEDRO A OÑORO DE BARANOA",
          "INSTITUCIÓN EDUCATIVA  SIMON BOLIVAR DE COLOMBIA",
          "INSTITUCIÓN EDUCATIVA DIVERSIFICADA ORIENTAL DE SANTO TOMAS",
          "INSTITUCIÓN EDUCATIVA TECNICA VILLA OLIMPICA",
          "INSTITUCIÓN EDUCATIVA TECNICA VILLA OLIMPICA DE GALAPA",
          "prueba"
         ],
         "xaxis": "x",
         "y": [
          330,
          264,
          66,
          132,
          82,
          66,
          66,
          132,
          82,
          230,
          198,
          214,
          214,
          198,
          66,
          675,
          3515,
          1371,
          134,
          332,
          132,
          572,
          988,
          661,
          264,
          2723,
          82,
          201,
          2052,
          860,
          1297,
          66,
          928,
          1193,
          82,
          200,
          66,
          201,
          1076,
          66,
          874,
          133,
          1142,
          2515,
          200,
          3760,
          82,
          1256,
          923,
          991,
          1281,
          2662,
          198,
          3093,
          332,
          992,
          1235,
          66,
          1526,
          1917,
          200,
          1147,
          164,
          66,
          2245,
          2111,
          148,
          927,
          132,
          1715,
          1647,
          4685,
          3374,
          3386,
          3303,
          148,
          3945,
          1541,
          2115,
          468,
          134,
          2907,
          971,
          1650,
          1065,
          1009,
          1126,
          2029,
          1056,
          3973,
          923,
          1781,
          1796,
          983,
          148,
          1236,
          132,
          859,
          201,
          1702,
          66,
          871,
          82
         ],
         "yaxis": "y"
        }
       ],
       "layout": {
        "barmode": "relative",
        "legend": {
         "tracegroupgap": 0
        },
        "margin": {
         "t": 60
        },
        "template": {
         "data": {
          "bar": [
           {
            "error_x": {
             "color": "#2a3f5f"
            },
            "error_y": {
             "color": "#2a3f5f"
            },
            "marker": {
             "line": {
              "color": "#E5ECF6",
              "width": 0.5
             },
             "pattern": {
              "fillmode": "overlay",
              "size": 10,
              "solidity": 0.2
             }
            },
            "type": "bar"
           }
          ],
          "barpolar": [
           {
            "marker": {
             "line": {
              "color": "#E5ECF6",
              "width": 0.5
             },
             "pattern": {
              "fillmode": "overlay",
              "size": 10,
              "solidity": 0.2
             }
            },
            "type": "barpolar"
           }
          ],
          "carpet": [
           {
            "aaxis": {
             "endlinecolor": "#2a3f5f",
             "gridcolor": "white",
             "linecolor": "white",
             "minorgridcolor": "white",
             "startlinecolor": "#2a3f5f"
            },
            "baxis": {
             "endlinecolor": "#2a3f5f",
             "gridcolor": "white",
             "linecolor": "white",
             "minorgridcolor": "white",
             "startlinecolor": "#2a3f5f"
            },
            "type": "carpet"
           }
          ],
          "choropleth": [
           {
            "colorbar": {
             "outlinewidth": 0,
             "ticks": ""
            },
            "type": "choropleth"
           }
          ],
          "contour": [
           {
            "colorbar": {
             "outlinewidth": 0,
             "ticks": ""
            },
            "colorscale": [
             [
              0,
              "#0d0887"
             ],
             [
              0.1111111111111111,
              "#46039f"
             ],
             [
              0.2222222222222222,
              "#7201a8"
             ],
             [
              0.3333333333333333,
              "#9c179e"
             ],
             [
              0.4444444444444444,
              "#bd3786"
             ],
             [
              0.5555555555555556,
              "#d8576b"
             ],
             [
              0.6666666666666666,
              "#ed7953"
             ],
             [
              0.7777777777777778,
              "#fb9f3a"
             ],
             [
              0.8888888888888888,
              "#fdca26"
             ],
             [
              1,
              "#f0f921"
             ]
            ],
            "type": "contour"
           }
          ],
          "contourcarpet": [
           {
            "colorbar": {
             "outlinewidth": 0,
             "ticks": ""
            },
            "type": "contourcarpet"
           }
          ],
          "heatmap": [
           {
            "colorbar": {
             "outlinewidth": 0,
             "ticks": ""
            },
            "colorscale": [
             [
              0,
              "#0d0887"
             ],
             [
              0.1111111111111111,
              "#46039f"
             ],
             [
              0.2222222222222222,
              "#7201a8"
             ],
             [
              0.3333333333333333,
              "#9c179e"
             ],
             [
              0.4444444444444444,
              "#bd3786"
             ],
             [
              0.5555555555555556,
              "#d8576b"
             ],
             [
              0.6666666666666666,
              "#ed7953"
             ],
             [
              0.7777777777777778,
              "#fb9f3a"
             ],
             [
              0.8888888888888888,
              "#fdca26"
             ],
             [
              1,
              "#f0f921"
             ]
            ],
            "type": "heatmap"
           }
          ],
          "heatmapgl": [
           {
            "colorbar": {
             "outlinewidth": 0,
             "ticks": ""
            },
            "colorscale": [
             [
              0,
              "#0d0887"
             ],
             [
              0.1111111111111111,
              "#46039f"
             ],
             [
              0.2222222222222222,
              "#7201a8"
             ],
             [
              0.3333333333333333,
              "#9c179e"
             ],
             [
              0.4444444444444444,
              "#bd3786"
             ],
             [
              0.5555555555555556,
              "#d8576b"
             ],
             [
              0.6666666666666666,
              "#ed7953"
             ],
             [
              0.7777777777777778,
              "#fb9f3a"
             ],
             [
              0.8888888888888888,
              "#fdca26"
             ],
             [
              1,
              "#f0f921"
             ]
            ],
            "type": "heatmapgl"
           }
          ],
          "histogram": [
           {
            "marker": {
             "pattern": {
              "fillmode": "overlay",
              "size": 10,
              "solidity": 0.2
             }
            },
            "type": "histogram"
           }
          ],
          "histogram2d": [
           {
            "colorbar": {
             "outlinewidth": 0,
             "ticks": ""
            },
            "colorscale": [
             [
              0,
              "#0d0887"
             ],
             [
              0.1111111111111111,
              "#46039f"
             ],
             [
              0.2222222222222222,
              "#7201a8"
             ],
             [
              0.3333333333333333,
              "#9c179e"
             ],
             [
              0.4444444444444444,
              "#bd3786"
             ],
             [
              0.5555555555555556,
              "#d8576b"
             ],
             [
              0.6666666666666666,
              "#ed7953"
             ],
             [
              0.7777777777777778,
              "#fb9f3a"
             ],
             [
              0.8888888888888888,
              "#fdca26"
             ],
             [
              1,
              "#f0f921"
             ]
            ],
            "type": "histogram2d"
           }
          ],
          "histogram2dcontour": [
           {
            "colorbar": {
             "outlinewidth": 0,
             "ticks": ""
            },
            "colorscale": [
             [
              0,
              "#0d0887"
             ],
             [
              0.1111111111111111,
              "#46039f"
             ],
             [
              0.2222222222222222,
              "#7201a8"
             ],
             [
              0.3333333333333333,
              "#9c179e"
             ],
             [
              0.4444444444444444,
              "#bd3786"
             ],
             [
              0.5555555555555556,
              "#d8576b"
             ],
             [
              0.6666666666666666,
              "#ed7953"
             ],
             [
              0.7777777777777778,
              "#fb9f3a"
             ],
             [
              0.8888888888888888,
              "#fdca26"
             ],
             [
              1,
              "#f0f921"
             ]
            ],
            "type": "histogram2dcontour"
           }
          ],
          "mesh3d": [
           {
            "colorbar": {
             "outlinewidth": 0,
             "ticks": ""
            },
            "type": "mesh3d"
           }
          ],
          "parcoords": [
           {
            "line": {
             "colorbar": {
              "outlinewidth": 0,
              "ticks": ""
             }
            },
            "type": "parcoords"
           }
          ],
          "pie": [
           {
            "automargin": true,
            "type": "pie"
           }
          ],
          "scatter": [
           {
            "fillpattern": {
             "fillmode": "overlay",
             "size": 10,
             "solidity": 0.2
            },
            "type": "scatter"
           }
          ],
          "scatter3d": [
           {
            "line": {
             "colorbar": {
              "outlinewidth": 0,
              "ticks": ""
             }
            },
            "marker": {
             "colorbar": {
              "outlinewidth": 0,
              "ticks": ""
             }
            },
            "type": "scatter3d"
           }
          ],
          "scattercarpet": [
           {
            "marker": {
             "colorbar": {
              "outlinewidth": 0,
              "ticks": ""
             }
            },
            "type": "scattercarpet"
           }
          ],
          "scattergeo": [
           {
            "marker": {
             "colorbar": {
              "outlinewidth": 0,
              "ticks": ""
             }
            },
            "type": "scattergeo"
           }
          ],
          "scattergl": [
           {
            "marker": {
             "colorbar": {
              "outlinewidth": 0,
              "ticks": ""
             }
            },
            "type": "scattergl"
           }
          ],
          "scattermapbox": [
           {
            "marker": {
             "colorbar": {
              "outlinewidth": 0,
              "ticks": ""
             }
            },
            "type": "scattermapbox"
           }
          ],
          "scatterpolar": [
           {
            "marker": {
             "colorbar": {
              "outlinewidth": 0,
              "ticks": ""
             }
            },
            "type": "scatterpolar"
           }
          ],
          "scatterpolargl": [
           {
            "marker": {
             "colorbar": {
              "outlinewidth": 0,
              "ticks": ""
             }
            },
            "type": "scatterpolargl"
           }
          ],
          "scatterternary": [
           {
            "marker": {
             "colorbar": {
              "outlinewidth": 0,
              "ticks": ""
             }
            },
            "type": "scatterternary"
           }
          ],
          "surface": [
           {
            "colorbar": {
             "outlinewidth": 0,
             "ticks": ""
            },
            "colorscale": [
             [
              0,
              "#0d0887"
             ],
             [
              0.1111111111111111,
              "#46039f"
             ],
             [
              0.2222222222222222,
              "#7201a8"
             ],
             [
              0.3333333333333333,
              "#9c179e"
             ],
             [
              0.4444444444444444,
              "#bd3786"
             ],
             [
              0.5555555555555556,
              "#d8576b"
             ],
             [
              0.6666666666666666,
              "#ed7953"
             ],
             [
              0.7777777777777778,
              "#fb9f3a"
             ],
             [
              0.8888888888888888,
              "#fdca26"
             ],
             [
              1,
              "#f0f921"
             ]
            ],
            "type": "surface"
           }
          ],
          "table": [
           {
            "cells": {
             "fill": {
              "color": "#EBF0F8"
             },
             "line": {
              "color": "white"
             }
            },
            "header": {
             "fill": {
              "color": "#C8D4E3"
             },
             "line": {
              "color": "white"
             }
            },
            "type": "table"
           }
          ]
         },
         "layout": {
          "annotationdefaults": {
           "arrowcolor": "#2a3f5f",
           "arrowhead": 0,
           "arrowwidth": 1
          },
          "autotypenumbers": "strict",
          "coloraxis": {
           "colorbar": {
            "outlinewidth": 0,
            "ticks": ""
           }
          },
          "colorscale": {
           "diverging": [
            [
             0,
             "#8e0152"
            ],
            [
             0.1,
             "#c51b7d"
            ],
            [
             0.2,
             "#de77ae"
            ],
            [
             0.3,
             "#f1b6da"
            ],
            [
             0.4,
             "#fde0ef"
            ],
            [
             0.5,
             "#f7f7f7"
            ],
            [
             0.6,
             "#e6f5d0"
            ],
            [
             0.7,
             "#b8e186"
            ],
            [
             0.8,
             "#7fbc41"
            ],
            [
             0.9,
             "#4d9221"
            ],
            [
             1,
             "#276419"
            ]
           ],
           "sequential": [
            [
             0,
             "#0d0887"
            ],
            [
             0.1111111111111111,
             "#46039f"
            ],
            [
             0.2222222222222222,
             "#7201a8"
            ],
            [
             0.3333333333333333,
             "#9c179e"
            ],
            [
             0.4444444444444444,
             "#bd3786"
            ],
            [
             0.5555555555555556,
             "#d8576b"
            ],
            [
             0.6666666666666666,
             "#ed7953"
            ],
            [
             0.7777777777777778,
             "#fb9f3a"
            ],
            [
             0.8888888888888888,
             "#fdca26"
            ],
            [
             1,
             "#f0f921"
            ]
           ],
           "sequentialminus": [
            [
             0,
             "#0d0887"
            ],
            [
             0.1111111111111111,
             "#46039f"
            ],
            [
             0.2222222222222222,
             "#7201a8"
            ],
            [
             0.3333333333333333,
             "#9c179e"
            ],
            [
             0.4444444444444444,
             "#bd3786"
            ],
            [
             0.5555555555555556,
             "#d8576b"
            ],
            [
             0.6666666666666666,
             "#ed7953"
            ],
            [
             0.7777777777777778,
             "#fb9f3a"
            ],
            [
             0.8888888888888888,
             "#fdca26"
            ],
            [
             1,
             "#f0f921"
            ]
           ]
          },
          "colorway": [
           "#636efa",
           "#EF553B",
           "#00cc96",
           "#ab63fa",
           "#FFA15A",
           "#19d3f3",
           "#FF6692",
           "#B6E880",
           "#FF97FF",
           "#FECB52"
          ],
          "font": {
           "color": "#2a3f5f"
          },
          "geo": {
           "bgcolor": "white",
           "lakecolor": "white",
           "landcolor": "#E5ECF6",
           "showlakes": true,
           "showland": true,
           "subunitcolor": "white"
          },
          "hoverlabel": {
           "align": "left"
          },
          "hovermode": "closest",
          "mapbox": {
           "style": "light"
          },
          "paper_bgcolor": "white",
          "plot_bgcolor": "#E5ECF6",
          "polar": {
           "angularaxis": {
            "gridcolor": "white",
            "linecolor": "white",
            "ticks": ""
           },
           "bgcolor": "#E5ECF6",
           "radialaxis": {
            "gridcolor": "white",
            "linecolor": "white",
            "ticks": ""
           }
          },
          "scene": {
           "xaxis": {
            "backgroundcolor": "#E5ECF6",
            "gridcolor": "white",
            "gridwidth": 2,
            "linecolor": "white",
            "showbackground": true,
            "ticks": "",
            "zerolinecolor": "white"
           },
           "yaxis": {
            "backgroundcolor": "#E5ECF6",
            "gridcolor": "white",
            "gridwidth": 2,
            "linecolor": "white",
            "showbackground": true,
            "ticks": "",
            "zerolinecolor": "white"
           },
           "zaxis": {
            "backgroundcolor": "#E5ECF6",
            "gridcolor": "white",
            "gridwidth": 2,
            "linecolor": "white",
            "showbackground": true,
            "ticks": "",
            "zerolinecolor": "white"
           }
          },
          "shapedefaults": {
           "line": {
            "color": "#2a3f5f"
           }
          },
          "ternary": {
           "aaxis": {
            "gridcolor": "white",
            "linecolor": "white",
            "ticks": ""
           },
           "baxis": {
            "gridcolor": "white",
            "linecolor": "white",
            "ticks": ""
           },
           "bgcolor": "#E5ECF6",
           "caxis": {
            "gridcolor": "white",
            "linecolor": "white",
            "ticks": ""
           }
          },
          "title": {
           "x": 0.05
          },
          "xaxis": {
           "automargin": true,
           "gridcolor": "white",
           "linecolor": "white",
           "ticks": "",
           "title": {
            "standoff": 15
           },
           "zerolinecolor": "white",
           "zerolinewidth": 2
          },
          "yaxis": {
           "automargin": true,
           "gridcolor": "white",
           "linecolor": "white",
           "ticks": "",
           "title": {
            "standoff": 15
           },
           "zerolinecolor": "white",
           "zerolinewidth": 2
          }
         }
        },
        "xaxis": {
         "anchor": "y",
         "domain": [
          0,
          1
         ],
         "title": {
          "text": "Nombre IED"
         }
        },
        "yaxis": {
         "anchor": "x",
         "domain": [
          0,
          1
         ],
         "title": {
          "text": "Cantidad"
         }
        }
       }
      }
     },
     "metadata": {},
     "output_type": "display_data"
    },
    {
     "data": {
      "application/vnd.plotly.v1+json": {
       "config": {
        "plotlyServerURL": "https://plot.ly"
       },
       "data": [
        {
         "alignmentgroup": "True",
         "hovertemplate": "Nombre IED=%{x}<br>Cantidad=%{y}<extra></extra>",
         "legendgroup": "",
         "marker": {
          "color": "#636efa",
          "pattern": {
           "shape": ""
          }
         },
         "name": "",
         "offsetgroup": "",
         "orientation": "v",
         "showlegend": false,
         "textposition": "auto",
         "type": "bar",
         "x": [
          "CENTRO EDUCATIVO ALPES DE SEVILLA",
          "CENTRO EDUCATIVO JUARUCO",
          "CENTRO EDUCATIVO LA RETIRADA",
          "I.E. ADOLFO LEÓN BOLIVAR MARENCO DE SUAN",
          "I.E. DE CAMPO DE LA CRUZ",
          "I.E. JOSE CONSUEGRA HIGGINS",
          "I.E. MARTILLO",
          "I.E. SAN ANTONIO DE PIOJÓ",
          "I.E. SAN NICOLAS DE TOLENTINO",
          "I.E. TECNICA AGROPECUARIA DE PUERTO GIRALDO",
          "I.E. TECNICA AGROPECUARIA LA CANDELARIA",
          "I.E. TECNICA AGROPECUARIA SAN CAYETANO DE GALLEGO",
          "I.E. TECNICA JOSÉ AGUSTIN BLANCO BARROS",
          "I.E. TECNICO AGROPECUARIA",
          "I.E. TÉCNICA JUAN V PADILLA",
          "INSTITUCION EDUCATIVA ACADEMICA Y TECNICA - TURISTICA DE SANTA VERONICA",
          "INSTITUCION EDUCATIVA ADOLFO LEÓN BOLIVAR MARENCO DE SUAN",
          "INSTITUCION EDUCATIVA ALGODONAL",
          "INSTITUCION EDUCATIVA ANTONIA SANTOS DE MOLINEROS",
          "INSTITUCION EDUCATIVA ANTONIO NARIÑO DE PALUATO",
          "INSTITUCION EDUCATIVA ARROYO DE PIEDRA EL BUEN PASTOR",
          "INSTITUCION EDUCATIVA BOHORQUEZ",
          "INSTITUCION EDUCATIVA CAMPO DE LA CRUZ",
          "INSTITUCION EDUCATIVA CIEN PESOS Y LAS TABLAS",
          "INSTITUCION EDUCATIVA COMERCIAL DE PALMAR",
          "INSTITUCION EDUCATIVA DE BARANOA JULIO PANTOJA MALDONADO",
          "INSTITUCION EDUCATIVA DE BOHORQUEZ",
          "INSTITUCION EDUCATIVA DE CARRETO",
          "INSTITUCION EDUCATIVA DE LEÑA",
          "INSTITUCION EDUCATIVA DE SABANALARGA",
          "INSTITUCION EDUCATIVA DE SABANALARGA FERNANDO HOYOS RIPOLL",
          "INSTITUCION EDUCATIVA DEPARTAMENTAL ARROYO NEGRO",
          "INSTITUCION EDUCATIVA ESCUELA NORMAL SUPERIOR SANTA ANA DE BARANOA",
          "INSTITUCION EDUCATIVA FERMIN TILANO",
          "INSTITUCION EDUCATIVA FRANCISCO DE PAULA SANTANDER",
          "INSTITUCION EDUCATIVA FRUTO DE LA ESPERANZA",
          "INSTITUCION EDUCATIVA JOHN F. KENNEDY DE REPELON",
          "INSTITUCION EDUCATIVA JOSE CONSUEGRA HIGGINS",
          "INSTITUCION EDUCATIVA JOSE DAVID MONTEZUMA RECUERO",
          "INSTITUCION EDUCATIVA JUAN JOSE NIETO",
          "INSTITUCION EDUCATIVA JUAN V PADILLA",
          "INSTITUCION EDUCATIVA LA RETIRADA",
          "INSTITUCION EDUCATIVA MARIA AUXILIADORA",
          "INSTITUCION EDUCATIVA MARIA MANCILLA SANCHEZ",
          "INSTITUCION EDUCATIVA MARTILLO",
          "INSTITUCION EDUCATIVA MAXIMO MERCADO",
          "INSTITUCION EDUCATIVA MUNDO FELIZ DE GALAPA - SEDE PRINCIPAL",
          "INSTITUCION EDUCATIVA NIÑO JESUS DE PRAGADE HIBACHARO PIOJO",
          "INSTITUCION EDUCATIVA NORMAL SUPERIOR DE MANATI",
          "INSTITUCION EDUCATIVA NORMAL SUPERIOR NUESTRA SEÑORA DE FATIMA",
          "INSTITUCION EDUCATIVA NUESTRA SEÑORA DEL ROSARIO DE PITALITO",
          "INSTITUCION EDUCATIVA NUESTRA SEÑORA DEL TRANSITO DE USIACURI",
          "INSTITUCION EDUCATIVA PALMAR DE CANDELARIA",
          "INSTITUCION EDUCATIVA PANFILO CANTILLO MENDOZA",
          "INSTITUCION EDUCATIVA PLAYA MENDOZA",
          "INSTITUCION EDUCATIVA SAN ANTONIO",
          "INSTITUCION EDUCATIVA SAN JOSE DE AGUADA DE PABLO",
          "INSTITUCION EDUCATIVA SAN JOSE DE LURUACO",
          "INSTITUCION EDUCATIVA SAN JOSE DE SACO",
          "INSTITUCION EDUCATIVA SAN JUAN BOSCO",
          "INSTITUCION EDUCATIVA SAN JUAN DE TOCAGUA",
          "INSTITUCION EDUCATIVA SAN NICOLAS DE TOLENTINO",
          "INSTITUCION EDUCATIVA SAN PABLO DE POLONUEVO",
          "INSTITUCION EDUCATIVA SAN PEDRO CLAVER DE CASCAJAL",
          "INSTITUCION EDUCATIVA SANTA LUCIA",
          "INSTITUCION EDUCATIVA TECNICA  COMERCIAL DE SANTO TOMAS",
          "INSTITUCION EDUCATIVA TECNICA AGROINDUSTRIAL ORIENTAL",
          "INSTITUCION EDUCATIVA TECNICA AGROPECUARIA",
          "INSTITUCION EDUCATIVA TECNICA AGROPECUARIA DE CAMPECHE",
          "INSTITUCION EDUCATIVA TECNICA AGROPECUARIA DE LURUACO",
          "INSTITUCION EDUCATIVA TECNICA AGROPECUARIA DE PALMAR DE VARELA",
          "INSTITUCION EDUCATIVA TECNICA AGROPECUARIA DE PUERTO GIRALDO",
          "INSTITUCION EDUCATIVA TECNICA AGROPECUARIA DE SANTA CRUZ",
          "INSTITUCION EDUCATIVA TECNICA AGROPECUARIA DE VILLA ROSA",
          "INSTITUCION EDUCATIVA TECNICA AGROPECUARIA LA CANDELARIA",
          "INSTITUCION EDUCATIVA TECNICA AGROPECUARIA NUESTRA SE¿ORA DEL CARMEN DE PENDALES",
          "INSTITUCION EDUCATIVA TECNICA AGROPECUARIA NUESTRA SEÑORA DEL CARMEN DE PENDALES",
          "INSTITUCION EDUCATIVA TECNICA AGROPECUARIA SAN CAYETANO DE GALLEGO",
          "INSTITUCION EDUCATIVA TECNICA AGROPECUARIO DE CAMPECHE",
          "INSTITUCION EDUCATIVA TECNICA AGROPISCICOLA DE ROTINET",
          "INSTITUCION EDUCATIVA TECNICA AGROPISCICOLA LAS COMPUERTAS",
          "INSTITUCION EDUCATIVA TECNICA COMERCIAL DE PALMAR DE VARELA",
          "INSTITUCION EDUCATIVA TECNICA COMERCIAL DE PONEDERA",
          "INSTITUCION EDUCATIVA TECNICA COMERCIAL DE SABANAGRANDE",
          "INSTITUCION EDUCATIVA TECNICA COMERCIAL FRANCISCO JAVIER CISNEROS",
          "INSTITUCION EDUCATIVA TECNICA COMERCIAL LA INMACULADA",
          "INSTITUCION EDUCATIVA TECNICA DE LA PEÑA",
          "INSTITUCION EDUCATIVA TECNICA FRANCISCO DE PAULA SANTANDER",
          "INSTITUCION EDUCATIVA TECNICA INDUSTRIAL DE SABANALARGA",
          "INSTITUCION EDUCATIVA TECNICA JOSÉ AGUSTIN BLANCO BARROS",
          "INSTITUCION EDUCATIVA TECNICA JUAN JOSE NIETO",
          "INSTITUCION EDUCATIVA TECNICA MARIA INMACULADA DE PITAL DE MEGUA",
          "INSTITUCION EDUCATIVA TECNICA SAN PABLO DE POLONUEVO",
          "INSTITUCION EDUCATIVA TECNICA TURISTICA SIMON BOLIVAR",
          "INSTITUCION EDUCATIVA TECNICO AGROPECUARIA DE VILLA ROSA",
          "INSTITUCION EDUCATIVA TECNICO COMERCIAL DE SABANALARGA",
          "INSTITUCION EDUCATIVA TECNICO DE LA PE¿A",
          "INSTITUCION EDUCATIVA TECNICO INDUSTRIAL PEDRO A OÑORO DE BARANOA",
          "INSTITUCIÓN EDUCATIVA  SIMON BOLIVAR DE COLOMBIA",
          "INSTITUCIÓN EDUCATIVA DIVERSIFICADA ORIENTAL DE SANTO TOMAS",
          "INSTITUCIÓN EDUCATIVA TECNICA VILLA OLIMPICA",
          "INSTITUCIÓN EDUCATIVA TECNICA VILLA OLIMPICA DE GALAPA",
          "prueba"
         ],
         "xaxis": "x",
         "y": [
          330,
          264,
          66,
          132,
          82,
          66,
          66,
          132,
          82,
          230,
          198,
          214,
          214,
          198,
          66,
          675,
          3515,
          1371,
          134,
          332,
          132,
          572,
          988,
          661,
          264,
          2723,
          82,
          201,
          2052,
          860,
          1297,
          66,
          928,
          1193,
          82,
          200,
          66,
          201,
          1076,
          66,
          874,
          133,
          1142,
          2515,
          200,
          3760,
          82,
          1256,
          923,
          991,
          1281,
          2662,
          198,
          3093,
          332,
          992,
          1235,
          66,
          1526,
          1917,
          200,
          1147,
          164,
          66,
          2245,
          2111,
          148,
          927,
          132,
          1715,
          1647,
          4685,
          3374,
          3386,
          3303,
          148,
          3945,
          1541,
          2115,
          468,
          134,
          2907,
          971,
          1650,
          1065,
          1009,
          1126,
          2029,
          1056,
          3973,
          923,
          1781,
          1796,
          983,
          148,
          1236,
          132,
          859,
          201,
          1702,
          66,
          871,
          82
         ],
         "yaxis": "y"
        }
       ],
       "layout": {
        "barmode": "relative",
        "legend": {
         "tracegroupgap": 0
        },
        "margin": {
         "t": 60
        },
        "template": {
         "data": {
          "bar": [
           {
            "error_x": {
             "color": "#2a3f5f"
            },
            "error_y": {
             "color": "#2a3f5f"
            },
            "marker": {
             "line": {
              "color": "#E5ECF6",
              "width": 0.5
             },
             "pattern": {
              "fillmode": "overlay",
              "size": 10,
              "solidity": 0.2
             }
            },
            "type": "bar"
           }
          ],
          "barpolar": [
           {
            "marker": {
             "line": {
              "color": "#E5ECF6",
              "width": 0.5
             },
             "pattern": {
              "fillmode": "overlay",
              "size": 10,
              "solidity": 0.2
             }
            },
            "type": "barpolar"
           }
          ],
          "carpet": [
           {
            "aaxis": {
             "endlinecolor": "#2a3f5f",
             "gridcolor": "white",
             "linecolor": "white",
             "minorgridcolor": "white",
             "startlinecolor": "#2a3f5f"
            },
            "baxis": {
             "endlinecolor": "#2a3f5f",
             "gridcolor": "white",
             "linecolor": "white",
             "minorgridcolor": "white",
             "startlinecolor": "#2a3f5f"
            },
            "type": "carpet"
           }
          ],
          "choropleth": [
           {
            "colorbar": {
             "outlinewidth": 0,
             "ticks": ""
            },
            "type": "choropleth"
           }
          ],
          "contour": [
           {
            "colorbar": {
             "outlinewidth": 0,
             "ticks": ""
            },
            "colorscale": [
             [
              0,
              "#0d0887"
             ],
             [
              0.1111111111111111,
              "#46039f"
             ],
             [
              0.2222222222222222,
              "#7201a8"
             ],
             [
              0.3333333333333333,
              "#9c179e"
             ],
             [
              0.4444444444444444,
              "#bd3786"
             ],
             [
              0.5555555555555556,
              "#d8576b"
             ],
             [
              0.6666666666666666,
              "#ed7953"
             ],
             [
              0.7777777777777778,
              "#fb9f3a"
             ],
             [
              0.8888888888888888,
              "#fdca26"
             ],
             [
              1,
              "#f0f921"
             ]
            ],
            "type": "contour"
           }
          ],
          "contourcarpet": [
           {
            "colorbar": {
             "outlinewidth": 0,
             "ticks": ""
            },
            "type": "contourcarpet"
           }
          ],
          "heatmap": [
           {
            "colorbar": {
             "outlinewidth": 0,
             "ticks": ""
            },
            "colorscale": [
             [
              0,
              "#0d0887"
             ],
             [
              0.1111111111111111,
              "#46039f"
             ],
             [
              0.2222222222222222,
              "#7201a8"
             ],
             [
              0.3333333333333333,
              "#9c179e"
             ],
             [
              0.4444444444444444,
              "#bd3786"
             ],
             [
              0.5555555555555556,
              "#d8576b"
             ],
             [
              0.6666666666666666,
              "#ed7953"
             ],
             [
              0.7777777777777778,
              "#fb9f3a"
             ],
             [
              0.8888888888888888,
              "#fdca26"
             ],
             [
              1,
              "#f0f921"
             ]
            ],
            "type": "heatmap"
           }
          ],
          "heatmapgl": [
           {
            "colorbar": {
             "outlinewidth": 0,
             "ticks": ""
            },
            "colorscale": [
             [
              0,
              "#0d0887"
             ],
             [
              0.1111111111111111,
              "#46039f"
             ],
             [
              0.2222222222222222,
              "#7201a8"
             ],
             [
              0.3333333333333333,
              "#9c179e"
             ],
             [
              0.4444444444444444,
              "#bd3786"
             ],
             [
              0.5555555555555556,
              "#d8576b"
             ],
             [
              0.6666666666666666,
              "#ed7953"
             ],
             [
              0.7777777777777778,
              "#fb9f3a"
             ],
             [
              0.8888888888888888,
              "#fdca26"
             ],
             [
              1,
              "#f0f921"
             ]
            ],
            "type": "heatmapgl"
           }
          ],
          "histogram": [
           {
            "marker": {
             "pattern": {
              "fillmode": "overlay",
              "size": 10,
              "solidity": 0.2
             }
            },
            "type": "histogram"
           }
          ],
          "histogram2d": [
           {
            "colorbar": {
             "outlinewidth": 0,
             "ticks": ""
            },
            "colorscale": [
             [
              0,
              "#0d0887"
             ],
             [
              0.1111111111111111,
              "#46039f"
             ],
             [
              0.2222222222222222,
              "#7201a8"
             ],
             [
              0.3333333333333333,
              "#9c179e"
             ],
             [
              0.4444444444444444,
              "#bd3786"
             ],
             [
              0.5555555555555556,
              "#d8576b"
             ],
             [
              0.6666666666666666,
              "#ed7953"
             ],
             [
              0.7777777777777778,
              "#fb9f3a"
             ],
             [
              0.8888888888888888,
              "#fdca26"
             ],
             [
              1,
              "#f0f921"
             ]
            ],
            "type": "histogram2d"
           }
          ],
          "histogram2dcontour": [
           {
            "colorbar": {
             "outlinewidth": 0,
             "ticks": ""
            },
            "colorscale": [
             [
              0,
              "#0d0887"
             ],
             [
              0.1111111111111111,
              "#46039f"
             ],
             [
              0.2222222222222222,
              "#7201a8"
             ],
             [
              0.3333333333333333,
              "#9c179e"
             ],
             [
              0.4444444444444444,
              "#bd3786"
             ],
             [
              0.5555555555555556,
              "#d8576b"
             ],
             [
              0.6666666666666666,
              "#ed7953"
             ],
             [
              0.7777777777777778,
              "#fb9f3a"
             ],
             [
              0.8888888888888888,
              "#fdca26"
             ],
             [
              1,
              "#f0f921"
             ]
            ],
            "type": "histogram2dcontour"
           }
          ],
          "mesh3d": [
           {
            "colorbar": {
             "outlinewidth": 0,
             "ticks": ""
            },
            "type": "mesh3d"
           }
          ],
          "parcoords": [
           {
            "line": {
             "colorbar": {
              "outlinewidth": 0,
              "ticks": ""
             }
            },
            "type": "parcoords"
           }
          ],
          "pie": [
           {
            "automargin": true,
            "type": "pie"
           }
          ],
          "scatter": [
           {
            "fillpattern": {
             "fillmode": "overlay",
             "size": 10,
             "solidity": 0.2
            },
            "type": "scatter"
           }
          ],
          "scatter3d": [
           {
            "line": {
             "colorbar": {
              "outlinewidth": 0,
              "ticks": ""
             }
            },
            "marker": {
             "colorbar": {
              "outlinewidth": 0,
              "ticks": ""
             }
            },
            "type": "scatter3d"
           }
          ],
          "scattercarpet": [
           {
            "marker": {
             "colorbar": {
              "outlinewidth": 0,
              "ticks": ""
             }
            },
            "type": "scattercarpet"
           }
          ],
          "scattergeo": [
           {
            "marker": {
             "colorbar": {
              "outlinewidth": 0,
              "ticks": ""
             }
            },
            "type": "scattergeo"
           }
          ],
          "scattergl": [
           {
            "marker": {
             "colorbar": {
              "outlinewidth": 0,
              "ticks": ""
             }
            },
            "type": "scattergl"
           }
          ],
          "scattermapbox": [
           {
            "marker": {
             "colorbar": {
              "outlinewidth": 0,
              "ticks": ""
             }
            },
            "type": "scattermapbox"
           }
          ],
          "scatterpolar": [
           {
            "marker": {
             "colorbar": {
              "outlinewidth": 0,
              "ticks": ""
             }
            },
            "type": "scatterpolar"
           }
          ],
          "scatterpolargl": [
           {
            "marker": {
             "colorbar": {
              "outlinewidth": 0,
              "ticks": ""
             }
            },
            "type": "scatterpolargl"
           }
          ],
          "scatterternary": [
           {
            "marker": {
             "colorbar": {
              "outlinewidth": 0,
              "ticks": ""
             }
            },
            "type": "scatterternary"
           }
          ],
          "surface": [
           {
            "colorbar": {
             "outlinewidth": 0,
             "ticks": ""
            },
            "colorscale": [
             [
              0,
              "#0d0887"
             ],
             [
              0.1111111111111111,
              "#46039f"
             ],
             [
              0.2222222222222222,
              "#7201a8"
             ],
             [
              0.3333333333333333,
              "#9c179e"
             ],
             [
              0.4444444444444444,
              "#bd3786"
             ],
             [
              0.5555555555555556,
              "#d8576b"
             ],
             [
              0.6666666666666666,
              "#ed7953"
             ],
             [
              0.7777777777777778,
              "#fb9f3a"
             ],
             [
              0.8888888888888888,
              "#fdca26"
             ],
             [
              1,
              "#f0f921"
             ]
            ],
            "type": "surface"
           }
          ],
          "table": [
           {
            "cells": {
             "fill": {
              "color": "#EBF0F8"
             },
             "line": {
              "color": "white"
             }
            },
            "header": {
             "fill": {
              "color": "#C8D4E3"
             },
             "line": {
              "color": "white"
             }
            },
            "type": "table"
           }
          ]
         },
         "layout": {
          "annotationdefaults": {
           "arrowcolor": "#2a3f5f",
           "arrowhead": 0,
           "arrowwidth": 1
          },
          "autotypenumbers": "strict",
          "coloraxis": {
           "colorbar": {
            "outlinewidth": 0,
            "ticks": ""
           }
          },
          "colorscale": {
           "diverging": [
            [
             0,
             "#8e0152"
            ],
            [
             0.1,
             "#c51b7d"
            ],
            [
             0.2,
             "#de77ae"
            ],
            [
             0.3,
             "#f1b6da"
            ],
            [
             0.4,
             "#fde0ef"
            ],
            [
             0.5,
             "#f7f7f7"
            ],
            [
             0.6,
             "#e6f5d0"
            ],
            [
             0.7,
             "#b8e186"
            ],
            [
             0.8,
             "#7fbc41"
            ],
            [
             0.9,
             "#4d9221"
            ],
            [
             1,
             "#276419"
            ]
           ],
           "sequential": [
            [
             0,
             "#0d0887"
            ],
            [
             0.1111111111111111,
             "#46039f"
            ],
            [
             0.2222222222222222,
             "#7201a8"
            ],
            [
             0.3333333333333333,
             "#9c179e"
            ],
            [
             0.4444444444444444,
             "#bd3786"
            ],
            [
             0.5555555555555556,
             "#d8576b"
            ],
            [
             0.6666666666666666,
             "#ed7953"
            ],
            [
             0.7777777777777778,
             "#fb9f3a"
            ],
            [
             0.8888888888888888,
             "#fdca26"
            ],
            [
             1,
             "#f0f921"
            ]
           ],
           "sequentialminus": [
            [
             0,
             "#0d0887"
            ],
            [
             0.1111111111111111,
             "#46039f"
            ],
            [
             0.2222222222222222,
             "#7201a8"
            ],
            [
             0.3333333333333333,
             "#9c179e"
            ],
            [
             0.4444444444444444,
             "#bd3786"
            ],
            [
             0.5555555555555556,
             "#d8576b"
            ],
            [
             0.6666666666666666,
             "#ed7953"
            ],
            [
             0.7777777777777778,
             "#fb9f3a"
            ],
            [
             0.8888888888888888,
             "#fdca26"
            ],
            [
             1,
             "#f0f921"
            ]
           ]
          },
          "colorway": [
           "#636efa",
           "#EF553B",
           "#00cc96",
           "#ab63fa",
           "#FFA15A",
           "#19d3f3",
           "#FF6692",
           "#B6E880",
           "#FF97FF",
           "#FECB52"
          ],
          "font": {
           "color": "#2a3f5f"
          },
          "geo": {
           "bgcolor": "white",
           "lakecolor": "white",
           "landcolor": "#E5ECF6",
           "showlakes": true,
           "showland": true,
           "subunitcolor": "white"
          },
          "hoverlabel": {
           "align": "left"
          },
          "hovermode": "closest",
          "mapbox": {
           "style": "light"
          },
          "paper_bgcolor": "white",
          "plot_bgcolor": "#E5ECF6",
          "polar": {
           "angularaxis": {
            "gridcolor": "white",
            "linecolor": "white",
            "ticks": ""
           },
           "bgcolor": "#E5ECF6",
           "radialaxis": {
            "gridcolor": "white",
            "linecolor": "white",
            "ticks": ""
           }
          },
          "scene": {
           "xaxis": {
            "backgroundcolor": "#E5ECF6",
            "gridcolor": "white",
            "gridwidth": 2,
            "linecolor": "white",
            "showbackground": true,
            "ticks": "",
            "zerolinecolor": "white"
           },
           "yaxis": {
            "backgroundcolor": "#E5ECF6",
            "gridcolor": "white",
            "gridwidth": 2,
            "linecolor": "white",
            "showbackground": true,
            "ticks": "",
            "zerolinecolor": "white"
           },
           "zaxis": {
            "backgroundcolor": "#E5ECF6",
            "gridcolor": "white",
            "gridwidth": 2,
            "linecolor": "white",
            "showbackground": true,
            "ticks": "",
            "zerolinecolor": "white"
           }
          },
          "shapedefaults": {
           "line": {
            "color": "#2a3f5f"
           }
          },
          "ternary": {
           "aaxis": {
            "gridcolor": "white",
            "linecolor": "white",
            "ticks": ""
           },
           "baxis": {
            "gridcolor": "white",
            "linecolor": "white",
            "ticks": ""
           },
           "bgcolor": "#E5ECF6",
           "caxis": {
            "gridcolor": "white",
            "linecolor": "white",
            "ticks": ""
           }
          },
          "title": {
           "x": 0.05
          },
          "xaxis": {
           "automargin": true,
           "gridcolor": "white",
           "linecolor": "white",
           "ticks": "",
           "title": {
            "standoff": 15
           },
           "zerolinecolor": "white",
           "zerolinewidth": 2
          },
          "yaxis": {
           "automargin": true,
           "gridcolor": "white",
           "linecolor": "white",
           "ticks": "",
           "title": {
            "standoff": 15
           },
           "zerolinecolor": "white",
           "zerolinewidth": 2
          }
         }
        },
        "xaxis": {
         "anchor": "y",
         "domain": [
          0,
          1
         ],
         "title": {
          "text": "Nombre IED"
         }
        },
        "yaxis": {
         "anchor": "x",
         "domain": [
          0,
          1
         ],
         "title": {
          "text": "Cantidad"
         }
        }
       }
      }
     },
     "metadata": {},
     "output_type": "display_data"
    },
    {
     "data": {
      "application/vnd.plotly.v1+json": {
       "config": {
        "plotlyServerURL": "https://plot.ly"
       },
       "data": [
        {
         "alignmentgroup": "True",
         "hovertemplate": "Institución Educativa=INSTITUCION EDUCATIVA DE BARANOA JULIO PANTOJA MALDONADO<br>Municipio=%{x}<br>Máximo Número de Visitas=%{y}<extra></extra>",
         "legendgroup": "INSTITUCION EDUCATIVA DE BARANOA JULIO PANTOJA MALDONADO",
         "marker": {
          "color": "rgb(141,211,199)",
          "pattern": {
           "shape": ""
          }
         },
         "name": "INSTITUCION EDUCATIVA DE BARANOA JULIO PANTOJA MALDONADO",
         "offsetgroup": "INSTITUCION EDUCATIVA DE BARANOA JULIO PANTOJA MALDONADO",
         "orientation": "v",
         "showlegend": true,
         "textposition": "auto",
         "type": "bar",
         "x": [
          "BARANOA"
         ],
         "xaxis": "x",
         "y": [
          12
         ],
         "yaxis": "y"
        },
        {
         "alignmentgroup": "True",
         "hovertemplate": "Institución Educativa=INSTITUCION EDUCATIVA ESCUELA NORMAL SUPERIOR SANTA ANA DE BARANOA<br>Municipio=%{x}<br>Máximo Número de Visitas=%{y}<extra></extra>",
         "legendgroup": "INSTITUCION EDUCATIVA ESCUELA NORMAL SUPERIOR SANTA ANA DE BARANOA",
         "marker": {
          "color": "rgb(255,255,179)",
          "pattern": {
           "shape": ""
          }
         },
         "name": "INSTITUCION EDUCATIVA ESCUELA NORMAL SUPERIOR SANTA ANA DE BARANOA",
         "offsetgroup": "INSTITUCION EDUCATIVA ESCUELA NORMAL SUPERIOR SANTA ANA DE BARANOA",
         "orientation": "v",
         "showlegend": true,
         "textposition": "auto",
         "type": "bar",
         "x": [
          "BARANOA",
          "Baranoa"
         ],
         "xaxis": "x",
         "y": [
          11,
          1
         ],
         "yaxis": "y"
        },
        {
         "alignmentgroup": "True",
         "hovertemplate": "Institución Educativa=INSTITUCION EDUCATIVA TECNICA AGROPECUARIO DE CAMPECHE<br>Municipio=%{x}<br>Máximo Número de Visitas=%{y}<extra></extra>",
         "legendgroup": "INSTITUCION EDUCATIVA TECNICA AGROPECUARIO DE CAMPECHE",
         "marker": {
          "color": "rgb(190,186,218)",
          "pattern": {
           "shape": ""
          }
         },
         "name": "INSTITUCION EDUCATIVA TECNICA AGROPECUARIO DE CAMPECHE",
         "offsetgroup": "INSTITUCION EDUCATIVA TECNICA AGROPECUARIO DE CAMPECHE",
         "orientation": "v",
         "showlegend": true,
         "textposition": "auto",
         "type": "bar",
         "x": [
          "BARANOA"
         ],
         "xaxis": "x",
         "y": [
          11
         ],
         "yaxis": "y"
        },
        {
         "alignmentgroup": "True",
         "hovertemplate": "Institución Educativa=INSTITUCION EDUCATIVA TECNICA JUAN JOSE NIETO<br>Municipio=%{x}<br>Máximo Número de Visitas=%{y}<extra></extra>",
         "legendgroup": "INSTITUCION EDUCATIVA TECNICA JUAN JOSE NIETO",
         "marker": {
          "color": "rgb(251,128,114)",
          "pattern": {
           "shape": ""
          }
         },
         "name": "INSTITUCION EDUCATIVA TECNICA JUAN JOSE NIETO",
         "offsetgroup": "INSTITUCION EDUCATIVA TECNICA JUAN JOSE NIETO",
         "orientation": "v",
         "showlegend": true,
         "textposition": "auto",
         "type": "bar",
         "x": [
          "BARANOA"
         ],
         "xaxis": "x",
         "y": [
          11
         ],
         "yaxis": "y"
        },
        {
         "alignmentgroup": "True",
         "hovertemplate": "Institución Educativa=INSTITUCION EDUCATIVA TECNICA MARIA INMACULADA DE PITAL DE MEGUA<br>Municipio=%{x}<br>Máximo Número de Visitas=%{y}<extra></extra>",
         "legendgroup": "INSTITUCION EDUCATIVA TECNICA MARIA INMACULADA DE PITAL DE MEGUA",
         "marker": {
          "color": "rgb(128,177,211)",
          "pattern": {
           "shape": ""
          }
         },
         "name": "INSTITUCION EDUCATIVA TECNICA MARIA INMACULADA DE PITAL DE MEGUA",
         "offsetgroup": "INSTITUCION EDUCATIVA TECNICA MARIA INMACULADA DE PITAL DE MEGUA",
         "orientation": "v",
         "showlegend": true,
         "textposition": "auto",
         "type": "bar",
         "x": [
          "BARANOA"
         ],
         "xaxis": "x",
         "y": [
          11
         ],
         "yaxis": "y"
        },
        {
         "alignmentgroup": "True",
         "hovertemplate": "Institución Educativa=INSTITUCION EDUCATIVA TECNICO INDUSTRIAL PEDRO A OÑORO DE BARANOA<br>Municipio=%{x}<br>Máximo Número de Visitas=%{y}<extra></extra>",
         "legendgroup": "INSTITUCION EDUCATIVA TECNICO INDUSTRIAL PEDRO A OÑORO DE BARANOA",
         "marker": {
          "color": "rgb(253,180,98)",
          "pattern": {
           "shape": ""
          }
         },
         "name": "INSTITUCION EDUCATIVA TECNICO INDUSTRIAL PEDRO A OÑORO DE BARANOA",
         "offsetgroup": "INSTITUCION EDUCATIVA TECNICO INDUSTRIAL PEDRO A OÑORO DE BARANOA",
         "orientation": "v",
         "showlegend": true,
         "textposition": "auto",
         "type": "bar",
         "x": [
          "BARANOA"
         ],
         "xaxis": "x",
         "y": [
          10
         ],
         "yaxis": "y"
        },
        {
         "alignmentgroup": "True",
         "hovertemplate": "Institución Educativa=INSTITUCION EDUCATIVA JUAN JOSE NIETO<br>Municipio=%{x}<br>Máximo Número de Visitas=%{y}<extra></extra>",
         "legendgroup": "INSTITUCION EDUCATIVA JUAN JOSE NIETO",
         "marker": {
          "color": "rgb(179,222,105)",
          "pattern": {
           "shape": ""
          }
         },
         "name": "INSTITUCION EDUCATIVA JUAN JOSE NIETO",
         "offsetgroup": "INSTITUCION EDUCATIVA JUAN JOSE NIETO",
         "orientation": "v",
         "showlegend": true,
         "textposition": "auto",
         "type": "bar",
         "x": [
          "Baranoa"
         ],
         "xaxis": "x",
         "y": [
          1
         ],
         "yaxis": "y"
        },
        {
         "alignmentgroup": "True",
         "hovertemplate": "Institución Educativa=INSTITUCION EDUCATIVA TECNICA AGROPECUARIA DE CAMPECHE<br>Municipio=%{x}<br>Máximo Número de Visitas=%{y}<extra></extra>",
         "legendgroup": "INSTITUCION EDUCATIVA TECNICA AGROPECUARIA DE CAMPECHE",
         "marker": {
          "color": "rgb(252,205,229)",
          "pattern": {
           "shape": ""
          }
         },
         "name": "INSTITUCION EDUCATIVA TECNICA AGROPECUARIA DE CAMPECHE",
         "offsetgroup": "INSTITUCION EDUCATIVA TECNICA AGROPECUARIA DE CAMPECHE",
         "orientation": "v",
         "showlegend": true,
         "textposition": "auto",
         "type": "bar",
         "x": [
          "Baranoa"
         ],
         "xaxis": "x",
         "y": [
          1
         ],
         "yaxis": "y"
        },
        {
         "alignmentgroup": "True",
         "hovertemplate": "Institución Educativa=INSTITUCION EDUCATIVA BOHORQUEZ<br>Municipio=%{x}<br>Máximo Número de Visitas=%{y}<extra></extra>",
         "legendgroup": "INSTITUCION EDUCATIVA BOHORQUEZ",
         "marker": {
          "color": "rgb(217,217,217)",
          "pattern": {
           "shape": ""
          }
         },
         "name": "INSTITUCION EDUCATIVA BOHORQUEZ",
         "offsetgroup": "INSTITUCION EDUCATIVA BOHORQUEZ",
         "orientation": "v",
         "showlegend": true,
         "textposition": "auto",
         "type": "bar",
         "x": [
          "CAMPO DE LA CRUZ"
         ],
         "xaxis": "x",
         "y": [
          5
         ],
         "yaxis": "y"
        },
        {
         "alignmentgroup": "True",
         "hovertemplate": "Institución Educativa=INSTITUCION EDUCATIVA CAMPO DE LA CRUZ<br>Municipio=%{x}<br>Máximo Número de Visitas=%{y}<extra></extra>",
         "legendgroup": "INSTITUCION EDUCATIVA CAMPO DE LA CRUZ",
         "marker": {
          "color": "rgb(188,128,189)",
          "pattern": {
           "shape": ""
          }
         },
         "name": "INSTITUCION EDUCATIVA CAMPO DE LA CRUZ",
         "offsetgroup": "INSTITUCION EDUCATIVA CAMPO DE LA CRUZ",
         "orientation": "v",
         "showlegend": true,
         "textposition": "auto",
         "type": "bar",
         "x": [
          "CAMPO DE LA CRUZ"
         ],
         "xaxis": "x",
         "y": [
          10
         ],
         "yaxis": "y"
        },
        {
         "alignmentgroup": "True",
         "hovertemplate": "Institución Educativa=INSTITUCION EDUCATIVA PANFILO CANTILLO MENDOZA<br>Municipio=%{x}<br>Máximo Número de Visitas=%{y}<extra></extra>",
         "legendgroup": "INSTITUCION EDUCATIVA PANFILO CANTILLO MENDOZA",
         "marker": {
          "color": "rgb(204,235,197)",
          "pattern": {
           "shape": ""
          }
         },
         "name": "INSTITUCION EDUCATIVA PANFILO CANTILLO MENDOZA",
         "offsetgroup": "INSTITUCION EDUCATIVA PANFILO CANTILLO MENDOZA",
         "orientation": "v",
         "showlegend": true,
         "textposition": "auto",
         "type": "bar",
         "x": [
          "CAMPO DE LA CRUZ"
         ],
         "xaxis": "x",
         "y": [
          10
         ],
         "yaxis": "y"
        },
        {
         "alignmentgroup": "True",
         "hovertemplate": "Institución Educativa=INSTITUCION EDUCATIVA TECNICA COMERCIAL LA INMACULADA<br>Municipio=%{x}<br>Máximo Número de Visitas=%{y}<extra></extra>",
         "legendgroup": "INSTITUCION EDUCATIVA TECNICA COMERCIAL LA INMACULADA",
         "marker": {
          "color": "rgb(255,237,111)",
          "pattern": {
           "shape": ""
          }
         },
         "name": "INSTITUCION EDUCATIVA TECNICA COMERCIAL LA INMACULADA",
         "offsetgroup": "INSTITUCION EDUCATIVA TECNICA COMERCIAL LA INMACULADA",
         "orientation": "v",
         "showlegend": true,
         "textposition": "auto",
         "type": "bar",
         "x": [
          "CAMPO DE LA CRUZ",
          "Campo de La Cruz"
         ],
         "xaxis": "x",
         "y": [
          10,
          1
         ],
         "yaxis": "y"
        },
        {
         "alignmentgroup": "True",
         "hovertemplate": "Institución Educativa=INSTITUCION EDUCATIVA DE CARRETO<br>Municipio=%{x}<br>Máximo Número de Visitas=%{y}<extra></extra>",
         "legendgroup": "INSTITUCION EDUCATIVA DE CARRETO",
         "marker": {
          "color": "rgb(141,211,199)",
          "pattern": {
           "shape": ""
          }
         },
         "name": "INSTITUCION EDUCATIVA DE CARRETO",
         "offsetgroup": "INSTITUCION EDUCATIVA DE CARRETO",
         "orientation": "v",
         "showlegend": true,
         "textposition": "auto",
         "type": "bar",
         "x": [
          "CANDELARIA"
         ],
         "xaxis": "x",
         "y": [
          2
         ],
         "yaxis": "y"
        },
        {
         "alignmentgroup": "True",
         "hovertemplate": "Institución Educativa=INSTITUCION EDUCATIVA DE LEÑA<br>Municipio=%{x}<br>Máximo Número de Visitas=%{y}<extra></extra>",
         "legendgroup": "INSTITUCION EDUCATIVA DE LEÑA",
         "marker": {
          "color": "rgb(255,255,179)",
          "pattern": {
           "shape": ""
          }
         },
         "name": "INSTITUCION EDUCATIVA DE LEÑA",
         "offsetgroup": "INSTITUCION EDUCATIVA DE LEÑA",
         "orientation": "v",
         "showlegend": true,
         "textposition": "auto",
         "type": "bar",
         "x": [
          "CANDELARIA",
          "Candelaria"
         ],
         "xaxis": "x",
         "y": [
          10,
          1
         ],
         "yaxis": "y"
        },
        {
         "alignmentgroup": "True",
         "hovertemplate": "Institución Educativa=I.E. DE CAMPO DE LA CRUZ<br>Municipio=%{x}<br>Máximo Número de Visitas=%{y}<extra></extra>",
         "legendgroup": "I.E. DE CAMPO DE LA CRUZ",
         "marker": {
          "color": "rgb(190,186,218)",
          "pattern": {
           "shape": ""
          }
         },
         "name": "I.E. DE CAMPO DE LA CRUZ",
         "offsetgroup": "I.E. DE CAMPO DE LA CRUZ",
         "orientation": "v",
         "showlegend": true,
         "textposition": "auto",
         "type": "bar",
         "x": [
          "Campo de La Cruz"
         ],
         "xaxis": "x",
         "y": [
          1
         ],
         "yaxis": "y"
        },
        {
         "alignmentgroup": "True",
         "hovertemplate": "Institución Educativa=INSTITUCION EDUCATIVA DE BOHORQUEZ<br>Municipio=%{x}<br>Máximo Número de Visitas=%{y}<extra></extra>",
         "legendgroup": "INSTITUCION EDUCATIVA DE BOHORQUEZ",
         "marker": {
          "color": "rgb(251,128,114)",
          "pattern": {
           "shape": ""
          }
         },
         "name": "INSTITUCION EDUCATIVA DE BOHORQUEZ",
         "offsetgroup": "INSTITUCION EDUCATIVA DE BOHORQUEZ",
         "orientation": "v",
         "showlegend": true,
         "textposition": "auto",
         "type": "bar",
         "x": [
          "Campo de La Cruz"
         ],
         "xaxis": "x",
         "y": [
          1
         ],
         "yaxis": "y"
        },
        {
         "alignmentgroup": "True",
         "hovertemplate": "Institución Educativa=CENTRO EDUCATIVO ALPES DE SEVILLA<br>Municipio=%{x}<br>Máximo Número de Visitas=%{y}<extra></extra>",
         "legendgroup": "CENTRO EDUCATIVO ALPES DE SEVILLA",
         "marker": {
          "color": "rgb(128,177,211)",
          "pattern": {
           "shape": ""
          }
         },
         "name": "CENTRO EDUCATIVO ALPES DE SEVILLA",
         "offsetgroup": "CENTRO EDUCATIVO ALPES DE SEVILLA",
         "orientation": "v",
         "showlegend": true,
         "textposition": "auto",
         "type": "bar",
         "x": [
          "GALAPA",
          "Galapa"
         ],
         "xaxis": "x",
         "y": [
          2,
          null
         ],
         "yaxis": "y"
        },
        {
         "alignmentgroup": "True",
         "hovertemplate": "Institución Educativa=INSTITUCION EDUCATIVA ANTONIO NARIÑO DE PALUATO<br>Municipio=%{x}<br>Máximo Número de Visitas=%{y}<extra></extra>",
         "legendgroup": "INSTITUCION EDUCATIVA ANTONIO NARIÑO DE PALUATO",
         "marker": {
          "color": "rgb(253,180,98)",
          "pattern": {
           "shape": ""
          }
         },
         "name": "INSTITUCION EDUCATIVA ANTONIO NARIÑO DE PALUATO",
         "offsetgroup": "INSTITUCION EDUCATIVA ANTONIO NARIÑO DE PALUATO",
         "orientation": "v",
         "showlegend": true,
         "textposition": "auto",
         "type": "bar",
         "x": [
          "GALAPA"
         ],
         "xaxis": "x",
         "y": [
          5
         ],
         "yaxis": "y"
        },
        {
         "alignmentgroup": "True",
         "hovertemplate": "Institución Educativa=INSTITUCION EDUCATIVA FRUTO DE LA ESPERANZA<br>Municipio=%{x}<br>Máximo Número de Visitas=%{y}<extra></extra>",
         "legendgroup": "INSTITUCION EDUCATIVA FRUTO DE LA ESPERANZA",
         "marker": {
          "color": "rgb(179,222,105)",
          "pattern": {
           "shape": ""
          }
         },
         "name": "INSTITUCION EDUCATIVA FRUTO DE LA ESPERANZA",
         "offsetgroup": "INSTITUCION EDUCATIVA FRUTO DE LA ESPERANZA",
         "orientation": "v",
         "showlegend": true,
         "textposition": "auto",
         "type": "bar",
         "x": [
          "GALAPA"
         ],
         "xaxis": "x",
         "y": [
          2
         ],
         "yaxis": "y"
        },
        {
         "alignmentgroup": "True",
         "hovertemplate": "Institución Educativa=INSTITUCION EDUCATIVA MARIA AUXILIADORA<br>Municipio=%{x}<br>Máximo Número de Visitas=%{y}<extra></extra>",
         "legendgroup": "INSTITUCION EDUCATIVA MARIA AUXILIADORA",
         "marker": {
          "color": "rgb(252,205,229)",
          "pattern": {
           "shape": ""
          }
         },
         "name": "INSTITUCION EDUCATIVA MARIA AUXILIADORA",
         "offsetgroup": "INSTITUCION EDUCATIVA MARIA AUXILIADORA",
         "orientation": "v",
         "showlegend": true,
         "textposition": "auto",
         "type": "bar",
         "x": [
          "GALAPA"
         ],
         "xaxis": "x",
         "y": [
          6
         ],
         "yaxis": "y"
        },
        {
         "alignmentgroup": "True",
         "hovertemplate": "Institución Educativa=INSTITUCION EDUCATIVA TECNICA FRANCISCO DE PAULA SANTANDER<br>Municipio=%{x}<br>Máximo Número de Visitas=%{y}<extra></extra>",
         "legendgroup": "INSTITUCION EDUCATIVA TECNICA FRANCISCO DE PAULA SANTANDER",
         "marker": {
          "color": "rgb(217,217,217)",
          "pattern": {
           "shape": ""
          }
         },
         "name": "INSTITUCION EDUCATIVA TECNICA FRANCISCO DE PAULA SANTANDER",
         "offsetgroup": "INSTITUCION EDUCATIVA TECNICA FRANCISCO DE PAULA SANTANDER",
         "orientation": "v",
         "showlegend": true,
         "textposition": "auto",
         "type": "bar",
         "x": [
          "GALAPA"
         ],
         "xaxis": "x",
         "y": [
          4
         ],
         "yaxis": "y"
        },
        {
         "alignmentgroup": "True",
         "hovertemplate": "Institución Educativa=INSTITUCIÓN EDUCATIVA TECNICA VILLA OLIMPICA DE GALAPA<br>Municipio=%{x}<br>Máximo Número de Visitas=%{y}<extra></extra>",
         "legendgroup": "INSTITUCIÓN EDUCATIVA TECNICA VILLA OLIMPICA DE GALAPA",
         "marker": {
          "color": "rgb(188,128,189)",
          "pattern": {
           "shape": ""
          }
         },
         "name": "INSTITUCIÓN EDUCATIVA TECNICA VILLA OLIMPICA DE GALAPA",
         "offsetgroup": "INSTITUCIÓN EDUCATIVA TECNICA VILLA OLIMPICA DE GALAPA",
         "orientation": "v",
         "showlegend": true,
         "textposition": "auto",
         "type": "bar",
         "x": [
          "GALAPA"
         ],
         "xaxis": "x",
         "y": [
          10
         ],
         "yaxis": "y"
        },
        {
         "alignmentgroup": "True",
         "hovertemplate": "Institución Educativa=INSTITUCION EDUCATIVA FRANCISCO DE PAULA SANTANDER<br>Municipio=%{x}<br>Máximo Número de Visitas=%{y}<extra></extra>",
         "legendgroup": "INSTITUCION EDUCATIVA FRANCISCO DE PAULA SANTANDER",
         "marker": {
          "color": "rgb(204,235,197)",
          "pattern": {
           "shape": ""
          }
         },
         "name": "INSTITUCION EDUCATIVA FRANCISCO DE PAULA SANTANDER",
         "offsetgroup": "INSTITUCION EDUCATIVA FRANCISCO DE PAULA SANTANDER",
         "orientation": "v",
         "showlegend": true,
         "textposition": "auto",
         "type": "bar",
         "x": [
          "Galapa"
         ],
         "xaxis": "x",
         "y": [
          1
         ],
         "yaxis": "y"
        },
        {
         "alignmentgroup": "True",
         "hovertemplate": "Institución Educativa=INSTITUCION EDUCATIVA MUNDO FELIZ DE GALAPA - SEDE PRINCIPAL<br>Municipio=%{x}<br>Máximo Número de Visitas=%{y}<extra></extra>",
         "legendgroup": "INSTITUCION EDUCATIVA MUNDO FELIZ DE GALAPA - SEDE PRINCIPAL",
         "marker": {
          "color": "rgb(255,237,111)",
          "pattern": {
           "shape": ""
          }
         },
         "name": "INSTITUCION EDUCATIVA MUNDO FELIZ DE GALAPA - SEDE PRINCIPAL",
         "offsetgroup": "INSTITUCION EDUCATIVA MUNDO FELIZ DE GALAPA - SEDE PRINCIPAL",
         "orientation": "v",
         "showlegend": true,
         "textposition": "auto",
         "type": "bar",
         "x": [
          "Galapa"
         ],
         "xaxis": "x",
         "y": [
          1
         ],
         "yaxis": "y"
        },
        {
         "alignmentgroup": "True",
         "hovertemplate": "Institución Educativa=INSTITUCIÓN EDUCATIVA TECNICA VILLA OLIMPICA<br>Municipio=%{x}<br>Máximo Número de Visitas=%{y}<extra></extra>",
         "legendgroup": "INSTITUCIÓN EDUCATIVA TECNICA VILLA OLIMPICA",
         "marker": {
          "color": "rgb(141,211,199)",
          "pattern": {
           "shape": ""
          }
         },
         "name": "INSTITUCIÓN EDUCATIVA TECNICA VILLA OLIMPICA",
         "offsetgroup": "INSTITUCIÓN EDUCATIVA TECNICA VILLA OLIMPICA",
         "orientation": "v",
         "showlegend": true,
         "textposition": "auto",
         "type": "bar",
         "x": [
          "Galapa"
         ],
         "xaxis": "x",
         "y": [
          1
         ],
         "yaxis": "y"
        },
        {
         "alignmentgroup": "True",
         "hovertemplate": "Institución Educativa=INSTITUCION EDUCATIVA ACADEMICA Y TECNICA - TURISTICA DE SANTA VERONICA<br>Municipio=%{x}<br>Máximo Número de Visitas=%{y}<extra></extra>",
         "legendgroup": "INSTITUCION EDUCATIVA ACADEMICA Y TECNICA - TURISTICA DE SANTA VERONICA",
         "marker": {
          "color": "rgb(255,255,179)",
          "pattern": {
           "shape": ""
          }
         },
         "name": "INSTITUCION EDUCATIVA ACADEMICA Y TECNICA - TURISTICA DE SANTA VERONICA",
         "offsetgroup": "INSTITUCION EDUCATIVA ACADEMICA Y TECNICA - TURISTICA DE SANTA VERONICA",
         "orientation": "v",
         "showlegend": true,
         "textposition": "auto",
         "type": "bar",
         "x": [
          "JUAN DE ACOSTA"
         ],
         "xaxis": "x",
         "y": [
          4
         ],
         "yaxis": "y"
        },
        {
         "alignmentgroup": "True",
         "hovertemplate": "Institución Educativa=INSTITUCION EDUCATIVA FERMIN TILANO<br>Municipio=%{x}<br>Máximo Número de Visitas=%{y}<extra></extra>",
         "legendgroup": "INSTITUCION EDUCATIVA FERMIN TILANO",
         "marker": {
          "color": "rgb(190,186,218)",
          "pattern": {
           "shape": ""
          }
         },
         "name": "INSTITUCION EDUCATIVA FERMIN TILANO",
         "offsetgroup": "INSTITUCION EDUCATIVA FERMIN TILANO",
         "orientation": "v",
         "showlegend": true,
         "textposition": "auto",
         "type": "bar",
         "x": [
          "JUAN DE ACOSTA"
         ],
         "xaxis": "x",
         "y": [
          11
         ],
         "yaxis": "y"
        },
        {
         "alignmentgroup": "True",
         "hovertemplate": "Institución Educativa=INSTITUCION EDUCATIVA JUAN V PADILLA<br>Municipio=%{x}<br>Máximo Número de Visitas=%{y}<extra></extra>",
         "legendgroup": "INSTITUCION EDUCATIVA JUAN V PADILLA",
         "marker": {
          "color": "rgb(251,128,114)",
          "pattern": {
           "shape": ""
          }
         },
         "name": "INSTITUCION EDUCATIVA JUAN V PADILLA",
         "offsetgroup": "INSTITUCION EDUCATIVA JUAN V PADILLA",
         "orientation": "v",
         "showlegend": true,
         "textposition": "auto",
         "type": "bar",
         "x": [
          "JUAN DE ACOSTA"
         ],
         "xaxis": "x",
         "y": [
          10
         ],
         "yaxis": "y"
        },
        {
         "alignmentgroup": "True",
         "hovertemplate": "Institución Educativa=INSTITUCION EDUCATIVA SAN JOSE DE SACO<br>Municipio=%{x}<br>Máximo Número de Visitas=%{y}<extra></extra>",
         "legendgroup": "INSTITUCION EDUCATIVA SAN JOSE DE SACO",
         "marker": {
          "color": "rgb(128,177,211)",
          "pattern": {
           "shape": ""
          }
         },
         "name": "INSTITUCION EDUCATIVA SAN JOSE DE SACO",
         "offsetgroup": "INSTITUCION EDUCATIVA SAN JOSE DE SACO",
         "orientation": "v",
         "showlegend": true,
         "textposition": "auto",
         "type": "bar",
         "x": [
          "JUAN DE ACOSTA",
          "Juan de Acosta"
         ],
         "xaxis": "x",
         "y": [
          10,
          1
         ],
         "yaxis": "y"
        },
        {
         "alignmentgroup": "True",
         "hovertemplate": "Institución Educativa=I.E. TÉCNICA JUAN V PADILLA<br>Municipio=%{x}<br>Máximo Número de Visitas=%{y}<extra></extra>",
         "legendgroup": "I.E. TÉCNICA JUAN V PADILLA",
         "marker": {
          "color": "rgb(253,180,98)",
          "pattern": {
           "shape": ""
          }
         },
         "name": "I.E. TÉCNICA JUAN V PADILLA",
         "offsetgroup": "I.E. TÉCNICA JUAN V PADILLA",
         "orientation": "v",
         "showlegend": true,
         "textposition": "auto",
         "type": "bar",
         "x": [
          "Juan de Acosta"
         ],
         "xaxis": "x",
         "y": [
          1
         ],
         "yaxis": "y"
        },
        {
         "alignmentgroup": "True",
         "hovertemplate": "Institución Educativa=INSTITUCION EDUCATIVA ARROYO DE PIEDRA EL BUEN PASTOR<br>Municipio=%{x}<br>Máximo Número de Visitas=%{y}<extra></extra>",
         "legendgroup": "INSTITUCION EDUCATIVA ARROYO DE PIEDRA EL BUEN PASTOR",
         "marker": {
          "color": "rgb(179,222,105)",
          "pattern": {
           "shape": ""
          }
         },
         "name": "INSTITUCION EDUCATIVA ARROYO DE PIEDRA EL BUEN PASTOR",
         "offsetgroup": "INSTITUCION EDUCATIVA ARROYO DE PIEDRA EL BUEN PASTOR",
         "orientation": "v",
         "showlegend": true,
         "textposition": "auto",
         "type": "bar",
         "x": [
          "LURUACO"
         ],
         "xaxis": "x",
         "y": [
          1
         ],
         "yaxis": "y"
        },
        {
         "alignmentgroup": "True",
         "hovertemplate": "Institución Educativa=INSTITUCION EDUCATIVA PALMAR DE CANDELARIA<br>Municipio=%{x}<br>Máximo Número de Visitas=%{y}<extra></extra>",
         "legendgroup": "INSTITUCION EDUCATIVA PALMAR DE CANDELARIA",
         "marker": {
          "color": "rgb(252,205,229)",
          "pattern": {
           "shape": ""
          }
         },
         "name": "INSTITUCION EDUCATIVA PALMAR DE CANDELARIA",
         "offsetgroup": "INSTITUCION EDUCATIVA PALMAR DE CANDELARIA",
         "orientation": "v",
         "showlegend": true,
         "textposition": "auto",
         "type": "bar",
         "x": [
          "LURUACO",
          "Luruaco"
         ],
         "xaxis": "x",
         "y": [
          2,
          1
         ],
         "yaxis": "y"
        },
        {
         "alignmentgroup": "True",
         "hovertemplate": "Institución Educativa=INSTITUCION EDUCATIVA SAN JUAN DE TOCAGUA<br>Municipio=%{x}<br>Máximo Número de Visitas=%{y}<extra></extra>",
         "legendgroup": "INSTITUCION EDUCATIVA SAN JUAN DE TOCAGUA",
         "marker": {
          "color": "rgb(217,217,217)",
          "pattern": {
           "shape": ""
          }
         },
         "name": "INSTITUCION EDUCATIVA SAN JUAN DE TOCAGUA",
         "offsetgroup": "INSTITUCION EDUCATIVA SAN JUAN DE TOCAGUA",
         "orientation": "v",
         "showlegend": true,
         "textposition": "auto",
         "type": "bar",
         "x": [
          "LURUACO"
         ],
         "xaxis": "x",
         "y": [
          2
         ],
         "yaxis": "y"
        },
        {
         "alignmentgroup": "True",
         "hovertemplate": "Institución Educativa=INSTITUCION EDUCATIVA TECNICA AGROPECUARIA DE LURUACO<br>Municipio=%{x}<br>Máximo Número de Visitas=%{y}<extra></extra>",
         "legendgroup": "INSTITUCION EDUCATIVA TECNICA AGROPECUARIA DE LURUACO",
         "marker": {
          "color": "rgb(188,128,189)",
          "pattern": {
           "shape": ""
          }
         },
         "name": "INSTITUCION EDUCATIVA TECNICA AGROPECUARIA DE LURUACO",
         "offsetgroup": "INSTITUCION EDUCATIVA TECNICA AGROPECUARIA DE LURUACO",
         "orientation": "v",
         "showlegend": true,
         "textposition": "auto",
         "type": "bar",
         "x": [
          "LURUACO"
         ],
         "xaxis": "x",
         "y": [
          10
         ],
         "yaxis": "y"
        },
        {
         "alignmentgroup": "True",
         "hovertemplate": "Institución Educativa=INSTITUCION EDUCATIVA TECNICA AGROPECUARIA DE SANTA CRUZ<br>Municipio=%{x}<br>Máximo Número de Visitas=%{y}<extra></extra>",
         "legendgroup": "INSTITUCION EDUCATIVA TECNICA AGROPECUARIA DE SANTA CRUZ",
         "marker": {
          "color": "rgb(204,235,197)",
          "pattern": {
           "shape": ""
          }
         },
         "name": "INSTITUCION EDUCATIVA TECNICA AGROPECUARIA DE SANTA CRUZ",
         "offsetgroup": "INSTITUCION EDUCATIVA TECNICA AGROPECUARIA DE SANTA CRUZ",
         "orientation": "v",
         "showlegend": true,
         "textposition": "auto",
         "type": "bar",
         "x": [
          "LURUACO"
         ],
         "xaxis": "x",
         "y": [
          10
         ],
         "yaxis": "y"
        },
        {
         "alignmentgroup": "True",
         "hovertemplate": "Institución Educativa=INSTITUCION EDUCATIVA TECNICA AGROPECUARIA NUESTRA SEÑORA DEL CARMEN DE PENDALES<br>Municipio=%{x}<br>Máximo Número de Visitas=%{y}<extra></extra>",
         "legendgroup": "INSTITUCION EDUCATIVA TECNICA AGROPECUARIA NUESTRA SEÑORA DEL CARMEN DE PENDALES",
         "marker": {
          "color": "rgb(255,237,111)",
          "pattern": {
           "shape": ""
          }
         },
         "name": "INSTITUCION EDUCATIVA TECNICA AGROPECUARIA NUESTRA SEÑORA DEL CARMEN DE PENDALES",
         "offsetgroup": "INSTITUCION EDUCATIVA TECNICA AGROPECUARIA NUESTRA SEÑORA DEL CARMEN DE PENDALES",
         "orientation": "v",
         "showlegend": true,
         "textposition": "auto",
         "type": "bar",
         "x": [
          "LURUACO"
         ],
         "xaxis": "x",
         "y": [
          9
         ],
         "yaxis": "y"
        },
        {
         "alignmentgroup": "True",
         "hovertemplate": "Institución Educativa=I.E. TECNICO AGROPECUARIA<br>Municipio=%{x}<br>Máximo Número de Visitas=%{y}<extra></extra>",
         "legendgroup": "I.E. TECNICO AGROPECUARIA",
         "marker": {
          "color": "rgb(141,211,199)",
          "pattern": {
           "shape": ""
          }
         },
         "name": "I.E. TECNICO AGROPECUARIA",
         "offsetgroup": "I.E. TECNICO AGROPECUARIA",
         "orientation": "v",
         "showlegend": true,
         "textposition": "auto",
         "type": "bar",
         "x": [
          "Luruaco"
         ],
         "xaxis": "x",
         "y": [
          1
         ],
         "yaxis": "y"
        },
        {
         "alignmentgroup": "True",
         "hovertemplate": "Institución Educativa=INSTITUCION EDUCATIVA SAN JOSE DE LURUACO<br>Municipio=%{x}<br>Máximo Número de Visitas=%{y}<extra></extra>",
         "legendgroup": "INSTITUCION EDUCATIVA SAN JOSE DE LURUACO",
         "marker": {
          "color": "rgb(255,255,179)",
          "pattern": {
           "shape": ""
          }
         },
         "name": "INSTITUCION EDUCATIVA SAN JOSE DE LURUACO",
         "offsetgroup": "INSTITUCION EDUCATIVA SAN JOSE DE LURUACO",
         "orientation": "v",
         "showlegend": true,
         "textposition": "auto",
         "type": "bar",
         "x": [
          "Luruaco"
         ],
         "xaxis": "x",
         "y": [
          1
         ],
         "yaxis": "y"
        },
        {
         "alignmentgroup": "True",
         "hovertemplate": "Institución Educativa=INSTITUCION EDUCATIVA TECNICA AGROPECUARIA NUESTRA SE¿ORA DEL CARMEN DE PENDALES<br>Municipio=%{x}<br>Máximo Número de Visitas=%{y}<extra></extra>",
         "legendgroup": "INSTITUCION EDUCATIVA TECNICA AGROPECUARIA NUESTRA SE¿ORA DEL CARMEN DE PENDALES",
         "marker": {
          "color": "rgb(190,186,218)",
          "pattern": {
           "shape": ""
          }
         },
         "name": "INSTITUCION EDUCATIVA TECNICA AGROPECUARIA NUESTRA SE¿ORA DEL CARMEN DE PENDALES",
         "offsetgroup": "INSTITUCION EDUCATIVA TECNICA AGROPECUARIA NUESTRA SE¿ORA DEL CARMEN DE PENDALES",
         "orientation": "v",
         "showlegend": true,
         "textposition": "auto",
         "type": "bar",
         "x": [
          "Luruaco"
         ],
         "xaxis": "x",
         "y": [
          1
         ],
         "yaxis": "y"
        },
        {
         "alignmentgroup": "True",
         "hovertemplate": "Institución Educativa=INSTITUCION EDUCATIVA NORMAL SUPERIOR DE MANATI<br>Municipio=%{x}<br>Máximo Número de Visitas=%{y}<extra></extra>",
         "legendgroup": "INSTITUCION EDUCATIVA NORMAL SUPERIOR DE MANATI",
         "marker": {
          "color": "rgb(251,128,114)",
          "pattern": {
           "shape": ""
          }
         },
         "name": "INSTITUCION EDUCATIVA NORMAL SUPERIOR DE MANATI",
         "offsetgroup": "INSTITUCION EDUCATIVA NORMAL SUPERIOR DE MANATI",
         "orientation": "v",
         "showlegend": true,
         "textposition": "auto",
         "type": "bar",
         "x": [
          "MANATÍ",
          "Manatí"
         ],
         "xaxis": "x",
         "y": [
          10,
          1
         ],
         "yaxis": "y"
        },
        {
         "alignmentgroup": "True",
         "hovertemplate": "Institución Educativa=INSTITUCION EDUCATIVA TECNICA AGROPISCICOLA LAS COMPUERTAS<br>Municipio=%{x}<br>Máximo Número de Visitas=%{y}<extra></extra>",
         "legendgroup": "INSTITUCION EDUCATIVA TECNICA AGROPISCICOLA LAS COMPUERTAS",
         "marker": {
          "color": "rgb(128,177,211)",
          "pattern": {
           "shape": ""
          }
         },
         "name": "INSTITUCION EDUCATIVA TECNICA AGROPISCICOLA LAS COMPUERTAS",
         "offsetgroup": "INSTITUCION EDUCATIVA TECNICA AGROPISCICOLA LAS COMPUERTAS",
         "orientation": "v",
         "showlegend": true,
         "textposition": "auto",
         "type": "bar",
         "x": [
          "MANATÍ"
         ],
         "xaxis": "x",
         "y": [
          1
         ],
         "yaxis": "y"
        },
        {
         "alignmentgroup": "True",
         "hovertemplate": "Institución Educativa=INSTITUCION EDUCATIVA TECNICA AGROPECUARIA DE PALMAR DE VARELA<br>Municipio=%{x}<br>Máximo Número de Visitas=%{y}<extra></extra>",
         "legendgroup": "INSTITUCION EDUCATIVA TECNICA AGROPECUARIA DE PALMAR DE VARELA",
         "marker": {
          "color": "rgb(253,180,98)",
          "pattern": {
           "shape": ""
          }
         },
         "name": "INSTITUCION EDUCATIVA TECNICA AGROPECUARIA DE PALMAR DE VARELA",
         "offsetgroup": "INSTITUCION EDUCATIVA TECNICA AGROPECUARIA DE PALMAR DE VARELA",
         "orientation": "v",
         "showlegend": true,
         "textposition": "auto",
         "type": "bar",
         "x": [
          "PALMAR DE VARELA"
         ],
         "xaxis": "x",
         "y": [
          10
         ],
         "yaxis": "y"
        },
        {
         "alignmentgroup": "True",
         "hovertemplate": "Institución Educativa=INSTITUCION EDUCATIVA TECNICA COMERCIAL DE PALMAR DE VARELA<br>Municipio=%{x}<br>Máximo Número de Visitas=%{y}<extra></extra>",
         "legendgroup": "INSTITUCION EDUCATIVA TECNICA COMERCIAL DE PALMAR DE VARELA",
         "marker": {
          "color": "rgb(179,222,105)",
          "pattern": {
           "shape": ""
          }
         },
         "name": "INSTITUCION EDUCATIVA TECNICA COMERCIAL DE PALMAR DE VARELA",
         "offsetgroup": "INSTITUCION EDUCATIVA TECNICA COMERCIAL DE PALMAR DE VARELA",
         "orientation": "v",
         "showlegend": true,
         "textposition": "auto",
         "type": "bar",
         "x": [
          "PALMAR DE VARELA"
         ],
         "xaxis": "x",
         "y": [
          11
         ],
         "yaxis": "y"
        },
        {
         "alignmentgroup": "True",
         "hovertemplate": "Institución Educativa=INSTITUCION EDUCATIVA NIÑO JESUS DE PRAGADE HIBACHARO PIOJO<br>Municipio=%{x}<br>Máximo Número de Visitas=%{y}<extra></extra>",
         "legendgroup": "INSTITUCION EDUCATIVA NIÑO JESUS DE PRAGADE HIBACHARO PIOJO",
         "marker": {
          "color": "rgb(252,205,229)",
          "pattern": {
           "shape": ""
          }
         },
         "name": "INSTITUCION EDUCATIVA NIÑO JESUS DE PRAGADE HIBACHARO PIOJO",
         "offsetgroup": "INSTITUCION EDUCATIVA NIÑO JESUS DE PRAGADE HIBACHARO PIOJO",
         "orientation": "v",
         "showlegend": true,
         "textposition": "auto",
         "type": "bar",
         "x": [
          "PIOJÓ"
         ],
         "xaxis": "x",
         "y": [
          11
         ],
         "yaxis": "y"
        },
        {
         "alignmentgroup": "True",
         "hovertemplate": "Institución Educativa=INSTITUCION EDUCATIVA SAN ANTONIO<br>Municipio=%{x}<br>Máximo Número de Visitas=%{y}<extra></extra>",
         "legendgroup": "INSTITUCION EDUCATIVA SAN ANTONIO",
         "marker": {
          "color": "rgb(217,217,217)",
          "pattern": {
           "shape": ""
          }
         },
         "name": "INSTITUCION EDUCATIVA SAN ANTONIO",
         "offsetgroup": "INSTITUCION EDUCATIVA SAN ANTONIO",
         "orientation": "v",
         "showlegend": true,
         "textposition": "auto",
         "type": "bar",
         "x": [
          "PIOJÓ"
         ],
         "xaxis": "x",
         "y": [
          9
         ],
         "yaxis": "y"
        },
        {
         "alignmentgroup": "True",
         "hovertemplate": "Institución Educativa=INSTITUCION EDUCATIVA NUESTRA SEÑORA DEL ROSARIO DE PITALITO<br>Municipio=%{x}<br>Máximo Número de Visitas=%{y}<extra></extra>",
         "legendgroup": "INSTITUCION EDUCATIVA NUESTRA SEÑORA DEL ROSARIO DE PITALITO",
         "marker": {
          "color": "rgb(188,128,189)",
          "pattern": {
           "shape": ""
          }
         },
         "name": "INSTITUCION EDUCATIVA NUESTRA SEÑORA DEL ROSARIO DE PITALITO",
         "offsetgroup": "INSTITUCION EDUCATIVA NUESTRA SEÑORA DEL ROSARIO DE PITALITO",
         "orientation": "v",
         "showlegend": true,
         "textposition": "auto",
         "type": "bar",
         "x": [
          "POLONUEVO",
          "Polonuevo"
         ],
         "xaxis": "x",
         "y": [
          11,
          1
         ],
         "yaxis": "y"
        },
        {
         "alignmentgroup": "True",
         "hovertemplate": "Institución Educativa=INSTITUCION EDUCATIVA TECNICA SAN PABLO DE POLONUEVO<br>Municipio=%{x}<br>Máximo Número de Visitas=%{y}<extra></extra>",
         "legendgroup": "INSTITUCION EDUCATIVA TECNICA SAN PABLO DE POLONUEVO",
         "marker": {
          "color": "rgb(204,235,197)",
          "pattern": {
           "shape": ""
          }
         },
         "name": "INSTITUCION EDUCATIVA TECNICA SAN PABLO DE POLONUEVO",
         "offsetgroup": "INSTITUCION EDUCATIVA TECNICA SAN PABLO DE POLONUEVO",
         "orientation": "v",
         "showlegend": true,
         "textposition": "auto",
         "type": "bar",
         "x": [
          "POLONUEVO"
         ],
         "xaxis": "x",
         "y": [
          11
         ],
         "yaxis": "y"
        },
        {
         "alignmentgroup": "True",
         "hovertemplate": "Institución Educativa=INSTITUCION EDUCATIVA LA RETIRADA<br>Municipio=%{x}<br>Máximo Número de Visitas=%{y}<extra></extra>",
         "legendgroup": "INSTITUCION EDUCATIVA LA RETIRADA",
         "marker": {
          "color": "rgb(255,237,111)",
          "pattern": {
           "shape": ""
          }
         },
         "name": "INSTITUCION EDUCATIVA LA RETIRADA",
         "offsetgroup": "INSTITUCION EDUCATIVA LA RETIRADA",
         "orientation": "v",
         "showlegend": true,
         "textposition": "auto",
         "type": "bar",
         "x": [
          "PONEDERA"
         ],
         "xaxis": "x",
         "y": [
          2
         ],
         "yaxis": "y"
        },
        {
         "alignmentgroup": "True",
         "hovertemplate": "Institución Educativa=INSTITUCION EDUCATIVA MARTILLO<br>Municipio=%{x}<br>Máximo Número de Visitas=%{y}<extra></extra>",
         "legendgroup": "INSTITUCION EDUCATIVA MARTILLO",
         "marker": {
          "color": "rgb(141,211,199)",
          "pattern": {
           "shape": ""
          }
         },
         "name": "INSTITUCION EDUCATIVA MARTILLO",
         "offsetgroup": "INSTITUCION EDUCATIVA MARTILLO",
         "orientation": "v",
         "showlegend": true,
         "textposition": "auto",
         "type": "bar",
         "x": [
          "PONEDERA"
         ],
         "xaxis": "x",
         "y": [
          2
         ],
         "yaxis": "y"
        },
        {
         "alignmentgroup": "True",
         "hovertemplate": "Institución Educativa=INSTITUCION EDUCATIVA TECNICA AGROPECUARIA DE PUERTO GIRALDO<br>Municipio=%{x}<br>Máximo Número de Visitas=%{y}<extra></extra>",
         "legendgroup": "INSTITUCION EDUCATIVA TECNICA AGROPECUARIA DE PUERTO GIRALDO",
         "marker": {
          "color": "rgb(255,255,179)",
          "pattern": {
           "shape": ""
          }
         },
         "name": "INSTITUCION EDUCATIVA TECNICA AGROPECUARIA DE PUERTO GIRALDO",
         "offsetgroup": "INSTITUCION EDUCATIVA TECNICA AGROPECUARIA DE PUERTO GIRALDO",
         "orientation": "v",
         "showlegend": true,
         "textposition": "auto",
         "type": "bar",
         "x": [
          "PONEDERA"
         ],
         "xaxis": "x",
         "y": [
          11
         ],
         "yaxis": "y"
        },
        {
         "alignmentgroup": "True",
         "hovertemplate": "Institución Educativa=INSTITUCION EDUCATIVA TECNICA AGROPECUARIA LA CANDELARIA<br>Municipio=%{x}<br>Máximo Número de Visitas=%{y}<extra></extra>",
         "legendgroup": "INSTITUCION EDUCATIVA TECNICA AGROPECUARIA LA CANDELARIA",
         "marker": {
          "color": "rgb(190,186,218)",
          "pattern": {
           "shape": ""
          }
         },
         "name": "INSTITUCION EDUCATIVA TECNICA AGROPECUARIA LA CANDELARIA",
         "offsetgroup": "INSTITUCION EDUCATIVA TECNICA AGROPECUARIA LA CANDELARIA",
         "orientation": "v",
         "showlegend": true,
         "textposition": "auto",
         "type": "bar",
         "x": [
          "PONEDERA"
         ],
         "xaxis": "x",
         "y": [
          11
         ],
         "yaxis": "y"
        },
        {
         "alignmentgroup": "True",
         "hovertemplate": "Institución Educativa=INSTITUCION EDUCATIVA TECNICA COMERCIAL DE PONEDERA<br>Municipio=%{x}<br>Máximo Número de Visitas=%{y}<extra></extra>",
         "legendgroup": "INSTITUCION EDUCATIVA TECNICA COMERCIAL DE PONEDERA",
         "marker": {
          "color": "rgb(251,128,114)",
          "pattern": {
           "shape": ""
          }
         },
         "name": "INSTITUCION EDUCATIVA TECNICA COMERCIAL DE PONEDERA",
         "offsetgroup": "INSTITUCION EDUCATIVA TECNICA COMERCIAL DE PONEDERA",
         "orientation": "v",
         "showlegend": true,
         "textposition": "auto",
         "type": "bar",
         "x": [
          "PONEDERA"
         ],
         "xaxis": "x",
         "y": [
          6
         ],
         "yaxis": "y"
        },
        {
         "alignmentgroup": "True",
         "hovertemplate": "Institución Educativa=INSTITUCION EDUCATIVA MARIA MANCILLA SANCHEZ<br>Municipio=%{x}<br>Máximo Número de Visitas=%{y}<extra></extra>",
         "legendgroup": "INSTITUCION EDUCATIVA MARIA MANCILLA SANCHEZ",
         "marker": {
          "color": "rgb(128,177,211)",
          "pattern": {
           "shape": ""
          }
         },
         "name": "INSTITUCION EDUCATIVA MARIA MANCILLA SANCHEZ",
         "offsetgroup": "INSTITUCION EDUCATIVA MARIA MANCILLA SANCHEZ",
         "orientation": "v",
         "showlegend": true,
         "textposition": "auto",
         "type": "bar",
         "x": [
          "PUERTO COLOMBIA",
          "Puerto Colombia"
         ],
         "xaxis": "x",
         "y": [
          11,
          1
         ],
         "yaxis": "y"
        },
        {
         "alignmentgroup": "True",
         "hovertemplate": "Institución Educativa=INSTITUCION EDUCATIVA SAN NICOLAS DE TOLENTINO<br>Municipio=%{x}<br>Máximo Número de Visitas=%{y}<extra></extra>",
         "legendgroup": "INSTITUCION EDUCATIVA SAN NICOLAS DE TOLENTINO",
         "marker": {
          "color": "rgb(253,180,98)",
          "pattern": {
           "shape": ""
          }
         },
         "name": "INSTITUCION EDUCATIVA SAN NICOLAS DE TOLENTINO",
         "offsetgroup": "INSTITUCION EDUCATIVA SAN NICOLAS DE TOLENTINO",
         "orientation": "v",
         "showlegend": true,
         "textposition": "auto",
         "type": "bar",
         "x": [
          "PUERTO COLOMBIA"
         ],
         "xaxis": "x",
         "y": [
          10
         ],
         "yaxis": "y"
        },
        {
         "alignmentgroup": "True",
         "hovertemplate": "Institución Educativa=INSTITUCION EDUCATIVA TECNICA COMERCIAL FRANCISCO JAVIER CISNEROS<br>Municipio=%{x}<br>Máximo Número de Visitas=%{y}<extra></extra>",
         "legendgroup": "INSTITUCION EDUCATIVA TECNICA COMERCIAL FRANCISCO JAVIER CISNEROS",
         "marker": {
          "color": "rgb(179,222,105)",
          "pattern": {
           "shape": ""
          }
         },
         "name": "INSTITUCION EDUCATIVA TECNICA COMERCIAL FRANCISCO JAVIER CISNEROS",
         "offsetgroup": "INSTITUCION EDUCATIVA TECNICA COMERCIAL FRANCISCO JAVIER CISNEROS",
         "orientation": "v",
         "showlegend": true,
         "textposition": "auto",
         "type": "bar",
         "x": [
          "PUERTO COLOMBIA"
         ],
         "xaxis": "x",
         "y": [
          11
         ],
         "yaxis": "y"
        },
        {
         "alignmentgroup": "True",
         "hovertemplate": "Institución Educativa=INSTITUCION EDUCATIVA TECNICA TURISTICA SIMON BOLIVAR<br>Municipio=%{x}<br>Máximo Número de Visitas=%{y}<extra></extra>",
         "legendgroup": "INSTITUCION EDUCATIVA TECNICA TURISTICA SIMON BOLIVAR",
         "marker": {
          "color": "rgb(252,205,229)",
          "pattern": {
           "shape": ""
          }
         },
         "name": "INSTITUCION EDUCATIVA TECNICA TURISTICA SIMON BOLIVAR",
         "offsetgroup": "INSTITUCION EDUCATIVA TECNICA TURISTICA SIMON BOLIVAR",
         "orientation": "v",
         "showlegend": true,
         "textposition": "auto",
         "type": "bar",
         "x": [
          "PUERTO COLOMBIA"
         ],
         "xaxis": "x",
         "y": [
          11
         ],
         "yaxis": "y"
        },
        {
         "alignmentgroup": "True",
         "hovertemplate": "Institución Educativa=INSTITUCION EDUCATIVA COMERCIAL DE PALMAR<br>Municipio=%{x}<br>Máximo Número de Visitas=%{y}<extra></extra>",
         "legendgroup": "INSTITUCION EDUCATIVA COMERCIAL DE PALMAR",
         "marker": {
          "color": "rgb(217,217,217)",
          "pattern": {
           "shape": ""
          }
         },
         "name": "INSTITUCION EDUCATIVA COMERCIAL DE PALMAR",
         "offsetgroup": "INSTITUCION EDUCATIVA COMERCIAL DE PALMAR",
         "orientation": "v",
         "showlegend": true,
         "textposition": "auto",
         "type": "bar",
         "x": [
          "Palmar de Varela"
         ],
         "xaxis": "x",
         "y": [
          1
         ],
         "yaxis": "y"
        },
        {
         "alignmentgroup": "True",
         "hovertemplate": "Institución Educativa=I.E. SAN ANTONIO DE PIOJÓ<br>Municipio=%{x}<br>Máximo Número de Visitas=%{y}<extra></extra>",
         "legendgroup": "I.E. SAN ANTONIO DE PIOJÓ",
         "marker": {
          "color": "rgb(188,128,189)",
          "pattern": {
           "shape": ""
          }
         },
         "name": "I.E. SAN ANTONIO DE PIOJÓ",
         "offsetgroup": "I.E. SAN ANTONIO DE PIOJÓ",
         "orientation": "v",
         "showlegend": true,
         "textposition": "auto",
         "type": "bar",
         "x": [
          "Piojó"
         ],
         "xaxis": "x",
         "y": [
          1
         ],
         "yaxis": "y"
        },
        {
         "alignmentgroup": "True",
         "hovertemplate": "Institución Educativa=INSTITUCION EDUCATIVA SAN PABLO DE POLONUEVO<br>Municipio=%{x}<br>Máximo Número de Visitas=%{y}<extra></extra>",
         "legendgroup": "INSTITUCION EDUCATIVA SAN PABLO DE POLONUEVO",
         "marker": {
          "color": "rgb(204,235,197)",
          "pattern": {
           "shape": ""
          }
         },
         "name": "INSTITUCION EDUCATIVA SAN PABLO DE POLONUEVO",
         "offsetgroup": "INSTITUCION EDUCATIVA SAN PABLO DE POLONUEVO",
         "orientation": "v",
         "showlegend": true,
         "textposition": "auto",
         "type": "bar",
         "x": [
          "Polonuevo"
         ],
         "xaxis": "x",
         "y": [
          1
         ],
         "yaxis": "y"
        },
        {
         "alignmentgroup": "True",
         "hovertemplate": "Institución Educativa=CENTRO EDUCATIVO LA RETIRADA<br>Municipio=%{x}<br>Máximo Número de Visitas=%{y}<extra></extra>",
         "legendgroup": "CENTRO EDUCATIVO LA RETIRADA",
         "marker": {
          "color": "rgb(255,237,111)",
          "pattern": {
           "shape": ""
          }
         },
         "name": "CENTRO EDUCATIVO LA RETIRADA",
         "offsetgroup": "CENTRO EDUCATIVO LA RETIRADA",
         "orientation": "v",
         "showlegend": true,
         "textposition": "auto",
         "type": "bar",
         "x": [
          "Ponedera"
         ],
         "xaxis": "x",
         "y": [
          1
         ],
         "yaxis": "y"
        },
        {
         "alignmentgroup": "True",
         "hovertemplate": "Institución Educativa=I.E. MARTILLO<br>Municipio=%{x}<br>Máximo Número de Visitas=%{y}<extra></extra>",
         "legendgroup": "I.E. MARTILLO",
         "marker": {
          "color": "rgb(141,211,199)",
          "pattern": {
           "shape": ""
          }
         },
         "name": "I.E. MARTILLO",
         "offsetgroup": "I.E. MARTILLO",
         "orientation": "v",
         "showlegend": true,
         "textposition": "auto",
         "type": "bar",
         "x": [
          "Ponedera"
         ],
         "xaxis": "x",
         "y": [
          1
         ],
         "yaxis": "y"
        },
        {
         "alignmentgroup": "True",
         "hovertemplate": "Institución Educativa=I.E. TECNICA AGROPECUARIA DE PUERTO GIRALDO<br>Municipio=%{x}<br>Máximo Número de Visitas=%{y}<extra></extra>",
         "legendgroup": "I.E. TECNICA AGROPECUARIA DE PUERTO GIRALDO",
         "marker": {
          "color": "rgb(255,255,179)",
          "pattern": {
           "shape": ""
          }
         },
         "name": "I.E. TECNICA AGROPECUARIA DE PUERTO GIRALDO",
         "offsetgroup": "I.E. TECNICA AGROPECUARIA DE PUERTO GIRALDO",
         "orientation": "v",
         "showlegend": true,
         "textposition": "auto",
         "type": "bar",
         "x": [
          "Ponedera"
         ],
         "xaxis": "x",
         "y": [
          1
         ],
         "yaxis": "y"
        },
        {
         "alignmentgroup": "True",
         "hovertemplate": "Institución Educativa=I.E. TECNICA AGROPECUARIA LA CANDELARIA<br>Municipio=%{x}<br>Máximo Número de Visitas=%{y}<extra></extra>",
         "legendgroup": "I.E. TECNICA AGROPECUARIA LA CANDELARIA",
         "marker": {
          "color": "rgb(190,186,218)",
          "pattern": {
           "shape": ""
          }
         },
         "name": "I.E. TECNICA AGROPECUARIA LA CANDELARIA",
         "offsetgroup": "I.E. TECNICA AGROPECUARIA LA CANDELARIA",
         "orientation": "v",
         "showlegend": true,
         "textposition": "auto",
         "type": "bar",
         "x": [
          "Ponedera"
         ],
         "xaxis": "x",
         "y": [
          1
         ],
         "yaxis": "y"
        },
        {
         "alignmentgroup": "True",
         "hovertemplate": "Institución Educativa=I.E. SAN NICOLAS DE TOLENTINO<br>Municipio=%{x}<br>Máximo Número de Visitas=%{y}<extra></extra>",
         "legendgroup": "I.E. SAN NICOLAS DE TOLENTINO",
         "marker": {
          "color": "rgb(251,128,114)",
          "pattern": {
           "shape": ""
          }
         },
         "name": "I.E. SAN NICOLAS DE TOLENTINO",
         "offsetgroup": "I.E. SAN NICOLAS DE TOLENTINO",
         "orientation": "v",
         "showlegend": true,
         "textposition": "auto",
         "type": "bar",
         "x": [
          "Puerto Colombia"
         ],
         "xaxis": "x",
         "y": [
          1
         ],
         "yaxis": "y"
        },
        {
         "alignmentgroup": "True",
         "hovertemplate": "Institución Educativa=INSTITUCION EDUCATIVA CIEN PESOS Y LAS TABLAS<br>Municipio=%{x}<br>Máximo Número de Visitas=%{y}<extra></extra>",
         "legendgroup": "INSTITUCION EDUCATIVA CIEN PESOS Y LAS TABLAS",
         "marker": {
          "color": "rgb(128,177,211)",
          "pattern": {
           "shape": ""
          }
         },
         "name": "INSTITUCION EDUCATIVA CIEN PESOS Y LAS TABLAS",
         "offsetgroup": "INSTITUCION EDUCATIVA CIEN PESOS Y LAS TABLAS",
         "orientation": "v",
         "showlegend": true,
         "textposition": "auto",
         "type": "bar",
         "x": [
          "REPELÓN",
          "Repelón"
         ],
         "xaxis": "x",
         "y": [
          2,
          1
         ],
         "yaxis": "y"
        },
        {
         "alignmentgroup": "True",
         "hovertemplate": "Institución Educativa=INSTITUCION EDUCATIVA DEPARTAMENTAL ARROYO NEGRO<br>Municipio=%{x}<br>Máximo Número de Visitas=%{y}<extra></extra>",
         "legendgroup": "INSTITUCION EDUCATIVA DEPARTAMENTAL ARROYO NEGRO",
         "marker": {
          "color": "rgb(253,180,98)",
          "pattern": {
           "shape": ""
          }
         },
         "name": "INSTITUCION EDUCATIVA DEPARTAMENTAL ARROYO NEGRO",
         "offsetgroup": "INSTITUCION EDUCATIVA DEPARTAMENTAL ARROYO NEGRO",
         "orientation": "v",
         "showlegend": true,
         "textposition": "auto",
         "type": "bar",
         "x": [
          "REPELÓN"
         ],
         "xaxis": "x",
         "y": [
          1
         ],
         "yaxis": "y"
        },
        {
         "alignmentgroup": "True",
         "hovertemplate": "Institución Educativa=INSTITUCION EDUCATIVA JOSE DAVID MONTEZUMA RECUERO<br>Municipio=%{x}<br>Máximo Número de Visitas=%{y}<extra></extra>",
         "legendgroup": "INSTITUCION EDUCATIVA JOSE DAVID MONTEZUMA RECUERO",
         "marker": {
          "color": "rgb(179,222,105)",
          "pattern": {
           "shape": ""
          }
         },
         "name": "INSTITUCION EDUCATIVA JOSE DAVID MONTEZUMA RECUERO",
         "offsetgroup": "INSTITUCION EDUCATIVA JOSE DAVID MONTEZUMA RECUERO",
         "orientation": "v",
         "showlegend": true,
         "textposition": "auto",
         "type": "bar",
         "x": [
          "REPELÓN"
         ],
         "xaxis": "x",
         "y": [
          6
         ],
         "yaxis": "y"
        },
        {
         "alignmentgroup": "True",
         "hovertemplate": "Institución Educativa=INSTITUCION EDUCATIVA TECNICA AGROPECUARIA DE VILLA ROSA<br>Municipio=%{x}<br>Máximo Número de Visitas=%{y}<extra></extra>",
         "legendgroup": "INSTITUCION EDUCATIVA TECNICA AGROPECUARIA DE VILLA ROSA",
         "marker": {
          "color": "rgb(252,205,229)",
          "pattern": {
           "shape": ""
          }
         },
         "name": "INSTITUCION EDUCATIVA TECNICA AGROPECUARIA DE VILLA ROSA",
         "offsetgroup": "INSTITUCION EDUCATIVA TECNICA AGROPECUARIA DE VILLA ROSA",
         "orientation": "v",
         "showlegend": true,
         "textposition": "auto",
         "type": "bar",
         "x": [
          "REPELÓN"
         ],
         "xaxis": "x",
         "y": [
          11
         ],
         "yaxis": "y"
        },
        {
         "alignmentgroup": "True",
         "hovertemplate": "Institución Educativa=INSTITUCION EDUCATIVA TECNICA AGROPISCICOLA DE ROTINET<br>Municipio=%{x}<br>Máximo Número de Visitas=%{y}<extra></extra>",
         "legendgroup": "INSTITUCION EDUCATIVA TECNICA AGROPISCICOLA DE ROTINET",
         "marker": {
          "color": "rgb(217,217,217)",
          "pattern": {
           "shape": ""
          }
         },
         "name": "INSTITUCION EDUCATIVA TECNICA AGROPISCICOLA DE ROTINET",
         "offsetgroup": "INSTITUCION EDUCATIVA TECNICA AGROPISCICOLA DE ROTINET",
         "orientation": "v",
         "showlegend": true,
         "textposition": "auto",
         "type": "bar",
         "x": [
          "REPELÓN"
         ],
         "xaxis": "x",
         "y": [
          7
         ],
         "yaxis": "y"
        },
        {
         "alignmentgroup": "True",
         "hovertemplate": "Institución Educativa=INSTITUCION EDUCATIVA JOHN F. KENNEDY DE REPELON<br>Municipio=%{x}<br>Máximo Número de Visitas=%{y}<extra></extra>",
         "legendgroup": "INSTITUCION EDUCATIVA JOHN F. KENNEDY DE REPELON",
         "marker": {
          "color": "rgb(188,128,189)",
          "pattern": {
           "shape": ""
          }
         },
         "name": "INSTITUCION EDUCATIVA JOHN F. KENNEDY DE REPELON",
         "offsetgroup": "INSTITUCION EDUCATIVA JOHN F. KENNEDY DE REPELON",
         "orientation": "v",
         "showlegend": true,
         "textposition": "auto",
         "type": "bar",
         "x": [
          "Repelón"
         ],
         "xaxis": "x",
         "y": [
          1
         ],
         "yaxis": "y"
        },
        {
         "alignmentgroup": "True",
         "hovertemplate": "Institución Educativa=INSTITUCION EDUCATIVA TECNICO AGROPECUARIA DE VILLA ROSA<br>Municipio=%{x}<br>Máximo Número de Visitas=%{y}<extra></extra>",
         "legendgroup": "INSTITUCION EDUCATIVA TECNICO AGROPECUARIA DE VILLA ROSA",
         "marker": {
          "color": "rgb(204,235,197)",
          "pattern": {
           "shape": ""
          }
         },
         "name": "INSTITUCION EDUCATIVA TECNICO AGROPECUARIA DE VILLA ROSA",
         "offsetgroup": "INSTITUCION EDUCATIVA TECNICO AGROPECUARIA DE VILLA ROSA",
         "orientation": "v",
         "showlegend": true,
         "textposition": "auto",
         "type": "bar",
         "x": [
          "Repelón"
         ],
         "xaxis": "x",
         "y": [
          1
         ],
         "yaxis": "y"
        },
        {
         "alignmentgroup": "True",
         "hovertemplate": "Institución Educativa=INSTITUCION EDUCATIVA NORMAL SUPERIOR NUESTRA SEÑORA DE FATIMA<br>Municipio=%{x}<br>Máximo Número de Visitas=%{y}<extra></extra>",
         "legendgroup": "INSTITUCION EDUCATIVA NORMAL SUPERIOR NUESTRA SEÑORA DE FATIMA",
         "marker": {
          "color": "rgb(255,237,111)",
          "pattern": {
           "shape": ""
          }
         },
         "name": "INSTITUCION EDUCATIVA NORMAL SUPERIOR NUESTRA SEÑORA DE FATIMA",
         "offsetgroup": "INSTITUCION EDUCATIVA NORMAL SUPERIOR NUESTRA SEÑORA DE FATIMA",
         "orientation": "v",
         "showlegend": true,
         "textposition": "auto",
         "type": "bar",
         "x": [
          "SABANAGRANDE"
         ],
         "xaxis": "x",
         "y": [
          11
         ],
         "yaxis": "y"
        },
        {
         "alignmentgroup": "True",
         "hovertemplate": "Institución Educativa=INSTITUCION EDUCATIVA SAN JUAN BOSCO<br>Municipio=%{x}<br>Máximo Número de Visitas=%{y}<extra></extra>",
         "legendgroup": "INSTITUCION EDUCATIVA SAN JUAN BOSCO",
         "marker": {
          "color": "rgb(141,211,199)",
          "pattern": {
           "shape": ""
          }
         },
         "name": "INSTITUCION EDUCATIVA SAN JUAN BOSCO",
         "offsetgroup": "INSTITUCION EDUCATIVA SAN JUAN BOSCO",
         "orientation": "v",
         "showlegend": true,
         "textposition": "auto",
         "type": "bar",
         "x": [
          "SABANAGRANDE",
          "Sabanagrande"
         ],
         "xaxis": "x",
         "y": [
          10,
          1
         ],
         "yaxis": "y"
        },
        {
         "alignmentgroup": "True",
         "hovertemplate": "Institución Educativa=INSTITUCION EDUCATIVA TECNICA COMERCIAL DE SABANAGRANDE<br>Municipio=%{x}<br>Máximo Número de Visitas=%{y}<extra></extra>",
         "legendgroup": "INSTITUCION EDUCATIVA TECNICA COMERCIAL DE SABANAGRANDE",
         "marker": {
          "color": "rgb(255,255,179)",
          "pattern": {
           "shape": ""
          }
         },
         "name": "INSTITUCION EDUCATIVA TECNICA COMERCIAL DE SABANAGRANDE",
         "offsetgroup": "INSTITUCION EDUCATIVA TECNICA COMERCIAL DE SABANAGRANDE",
         "orientation": "v",
         "showlegend": true,
         "textposition": "auto",
         "type": "bar",
         "x": [
          "SABANAGRANDE"
         ],
         "xaxis": "x",
         "y": [
          10
         ],
         "yaxis": "y"
        },
        {
         "alignmentgroup": "True",
         "hovertemplate": "Institución Educativa=INSTITUCION EDUCATIVA ANTONIA SANTOS DE MOLINEROS<br>Municipio=%{x}<br>Máximo Número de Visitas=%{y}<extra></extra>",
         "legendgroup": "INSTITUCION EDUCATIVA ANTONIA SANTOS DE MOLINEROS",
         "marker": {
          "color": "rgb(190,186,218)",
          "pattern": {
           "shape": ""
          }
         },
         "name": "INSTITUCION EDUCATIVA ANTONIA SANTOS DE MOLINEROS",
         "offsetgroup": "INSTITUCION EDUCATIVA ANTONIA SANTOS DE MOLINEROS",
         "orientation": "v",
         "showlegend": true,
         "textposition": "auto",
         "type": "bar",
         "x": [
          "SABANALARGA"
         ],
         "xaxis": "x",
         "y": [
          1
         ],
         "yaxis": "y"
        },
        {
         "alignmentgroup": "True",
         "hovertemplate": "Institución Educativa=INSTITUCION EDUCATIVA DE SABANALARGA<br>Municipio=%{x}<br>Máximo Número de Visitas=%{y}<extra></extra>",
         "legendgroup": "INSTITUCION EDUCATIVA DE SABANALARGA",
         "marker": {
          "color": "rgb(251,128,114)",
          "pattern": {
           "shape": ""
          }
         },
         "name": "INSTITUCION EDUCATIVA DE SABANALARGA",
         "offsetgroup": "INSTITUCION EDUCATIVA DE SABANALARGA",
         "orientation": "v",
         "showlegend": true,
         "textposition": "auto",
         "type": "bar",
         "x": [
          "SABANALARGA",
          "Sabanalarga"
         ],
         "xaxis": "x",
         "y": [
          11,
          1
         ],
         "yaxis": "y"
        },
        {
         "alignmentgroup": "True",
         "hovertemplate": "Institución Educativa=INSTITUCION EDUCATIVA DE SABANALARGA FERNANDO HOYOS RIPOLL<br>Municipio=%{x}<br>Máximo Número de Visitas=%{y}<extra></extra>",
         "legendgroup": "INSTITUCION EDUCATIVA DE SABANALARGA FERNANDO HOYOS RIPOLL",
         "marker": {
          "color": "rgb(128,177,211)",
          "pattern": {
           "shape": ""
          }
         },
         "name": "INSTITUCION EDUCATIVA DE SABANALARGA FERNANDO HOYOS RIPOLL",
         "offsetgroup": "INSTITUCION EDUCATIVA DE SABANALARGA FERNANDO HOYOS RIPOLL",
         "orientation": "v",
         "showlegend": true,
         "textposition": "auto",
         "type": "bar",
         "x": [
          "SABANALARGA",
          "Sabanalarga"
         ],
         "xaxis": "x",
         "y": [
          11,
          1
         ],
         "yaxis": "y"
        },
        {
         "alignmentgroup": "True",
         "hovertemplate": "Institución Educativa=INSTITUCION EDUCATIVA JOSE CONSUEGRA HIGGINS<br>Municipio=%{x}<br>Máximo Número de Visitas=%{y}<extra></extra>",
         "legendgroup": "INSTITUCION EDUCATIVA JOSE CONSUEGRA HIGGINS",
         "marker": {
          "color": "rgb(253,180,98)",
          "pattern": {
           "shape": ""
          }
         },
         "name": "INSTITUCION EDUCATIVA JOSE CONSUEGRA HIGGINS",
         "offsetgroup": "INSTITUCION EDUCATIVA JOSE CONSUEGRA HIGGINS",
         "orientation": "v",
         "showlegend": true,
         "textposition": "auto",
         "type": "bar",
         "x": [
          "SABANALARGA"
         ],
         "xaxis": "x",
         "y": [
          2
         ],
         "yaxis": "y"
        },
        {
         "alignmentgroup": "True",
         "hovertemplate": "Institución Educativa=INSTITUCION EDUCATIVA MAXIMO MERCADO<br>Municipio=%{x}<br>Máximo Número de Visitas=%{y}<extra></extra>",
         "legendgroup": "INSTITUCION EDUCATIVA MAXIMO MERCADO",
         "marker": {
          "color": "rgb(179,222,105)",
          "pattern": {
           "shape": ""
          }
         },
         "name": "INSTITUCION EDUCATIVA MAXIMO MERCADO",
         "offsetgroup": "INSTITUCION EDUCATIVA MAXIMO MERCADO",
         "orientation": "v",
         "showlegend": true,
         "textposition": "auto",
         "type": "bar",
         "x": [
          "SABANALARGA",
          "Sabanalarga"
         ],
         "xaxis": "x",
         "y": [
          11,
          1
         ],
         "yaxis": "y"
        },
        {
         "alignmentgroup": "True",
         "hovertemplate": "Institución Educativa=INSTITUCION EDUCATIVA SAN JOSE DE AGUADA DE PABLO<br>Municipio=%{x}<br>Máximo Número de Visitas=%{y}<extra></extra>",
         "legendgroup": "INSTITUCION EDUCATIVA SAN JOSE DE AGUADA DE PABLO",
         "marker": {
          "color": "rgb(252,205,229)",
          "pattern": {
           "shape": ""
          }
         },
         "name": "INSTITUCION EDUCATIVA SAN JOSE DE AGUADA DE PABLO",
         "offsetgroup": "INSTITUCION EDUCATIVA SAN JOSE DE AGUADA DE PABLO",
         "orientation": "v",
         "showlegend": true,
         "textposition": "auto",
         "type": "bar",
         "x": [
          "SABANALARGA",
          "Sabanalarga"
         ],
         "xaxis": "x",
         "y": [
          11,
          1
         ],
         "yaxis": "y"
        },
        {
         "alignmentgroup": "True",
         "hovertemplate": "Institución Educativa=INSTITUCION EDUCATIVA TECNICA AGROPECUARIA SAN CAYETANO DE GALLEGO<br>Municipio=%{x}<br>Máximo Número de Visitas=%{y}<extra></extra>",
         "legendgroup": "INSTITUCION EDUCATIVA TECNICA AGROPECUARIA SAN CAYETANO DE GALLEGO",
         "marker": {
          "color": "rgb(217,217,217)",
          "pattern": {
           "shape": ""
          }
         },
         "name": "INSTITUCION EDUCATIVA TECNICA AGROPECUARIA SAN CAYETANO DE GALLEGO",
         "offsetgroup": "INSTITUCION EDUCATIVA TECNICA AGROPECUARIA SAN CAYETANO DE GALLEGO",
         "orientation": "v",
         "showlegend": true,
         "textposition": "auto",
         "type": "bar",
         "x": [
          "SABANALARGA"
         ],
         "xaxis": "x",
         "y": [
          6
         ],
         "yaxis": "y"
        },
        {
         "alignmentgroup": "True",
         "hovertemplate": "Institución Educativa=INSTITUCION EDUCATIVA TECNICA DE LA PEÑA<br>Municipio=%{x}<br>Máximo Número de Visitas=%{y}<extra></extra>",
         "legendgroup": "INSTITUCION EDUCATIVA TECNICA DE LA PEÑA",
         "marker": {
          "color": "rgb(188,128,189)",
          "pattern": {
           "shape": ""
          }
         },
         "name": "INSTITUCION EDUCATIVA TECNICA DE LA PEÑA",
         "offsetgroup": "INSTITUCION EDUCATIVA TECNICA DE LA PEÑA",
         "orientation": "v",
         "showlegend": true,
         "textposition": "auto",
         "type": "bar",
         "x": [
          "SABANALARGA"
         ],
         "xaxis": "x",
         "y": [
          11
         ],
         "yaxis": "y"
        },
        {
         "alignmentgroup": "True",
         "hovertemplate": "Institución Educativa=INSTITUCION EDUCATIVA TECNICA INDUSTRIAL DE SABANALARGA<br>Municipio=%{x}<br>Máximo Número de Visitas=%{y}<extra></extra>",
         "legendgroup": "INSTITUCION EDUCATIVA TECNICA INDUSTRIAL DE SABANALARGA",
         "marker": {
          "color": "rgb(204,235,197)",
          "pattern": {
           "shape": ""
          }
         },
         "name": "INSTITUCION EDUCATIVA TECNICA INDUSTRIAL DE SABANALARGA",
         "offsetgroup": "INSTITUCION EDUCATIVA TECNICA INDUSTRIAL DE SABANALARGA",
         "orientation": "v",
         "showlegend": true,
         "textposition": "auto",
         "type": "bar",
         "x": [
          "SABANALARGA"
         ],
         "xaxis": "x",
         "y": [
          6
         ],
         "yaxis": "y"
        },
        {
         "alignmentgroup": "True",
         "hovertemplate": "Institución Educativa=INSTITUCION EDUCATIVA TECNICA JOSÉ AGUSTIN BLANCO BARROS<br>Municipio=%{x}<br>Máximo Número de Visitas=%{y}<extra></extra>",
         "legendgroup": "INSTITUCION EDUCATIVA TECNICA JOSÉ AGUSTIN BLANCO BARROS",
         "marker": {
          "color": "rgb(255,237,111)",
          "pattern": {
           "shape": ""
          }
         },
         "name": "INSTITUCION EDUCATIVA TECNICA JOSÉ AGUSTIN BLANCO BARROS",
         "offsetgroup": "INSTITUCION EDUCATIVA TECNICA JOSÉ AGUSTIN BLANCO BARROS",
         "orientation": "v",
         "showlegend": true,
         "textposition": "auto",
         "type": "bar",
         "x": [
          "SABANALARGA"
         ],
         "xaxis": "x",
         "y": [
          11
         ],
         "yaxis": "y"
        },
        {
         "alignmentgroup": "True",
         "hovertemplate": "Institución Educativa=INSTITUCION EDUCATIVA TECNICO COMERCIAL DE SABANALARGA<br>Municipio=%{x}<br>Máximo Número de Visitas=%{y}<extra></extra>",
         "legendgroup": "INSTITUCION EDUCATIVA TECNICO COMERCIAL DE SABANALARGA",
         "marker": {
          "color": "rgb(141,211,199)",
          "pattern": {
           "shape": ""
          }
         },
         "name": "INSTITUCION EDUCATIVA TECNICO COMERCIAL DE SABANALARGA",
         "offsetgroup": "INSTITUCION EDUCATIVA TECNICO COMERCIAL DE SABANALARGA",
         "orientation": "v",
         "showlegend": true,
         "textposition": "auto",
         "type": "bar",
         "x": [
          "SABANALARGA",
          "Sabanalarga"
         ],
         "xaxis": "x",
         "y": [
          6,
          1
         ],
         "yaxis": "y"
        },
        {
         "alignmentgroup": "True",
         "hovertemplate": "Institución Educativa=INSTITUCIÓN EDUCATIVA  SIMON BOLIVAR DE COLOMBIA<br>Municipio=%{x}<br>Máximo Número de Visitas=%{y}<extra></extra>",
         "legendgroup": "INSTITUCIÓN EDUCATIVA  SIMON BOLIVAR DE COLOMBIA",
         "marker": {
          "color": "rgb(255,255,179)",
          "pattern": {
           "shape": ""
          }
         },
         "name": "INSTITUCIÓN EDUCATIVA  SIMON BOLIVAR DE COLOMBIA",
         "offsetgroup": "INSTITUCIÓN EDUCATIVA  SIMON BOLIVAR DE COLOMBIA",
         "orientation": "v",
         "showlegend": true,
         "textposition": "auto",
         "type": "bar",
         "x": [
          "SABANALARGA"
         ],
         "xaxis": "x",
         "y": [
          2
         ],
         "yaxis": "y"
        },
        {
         "alignmentgroup": "True",
         "hovertemplate": "Institución Educativa=INSTITUCION EDUCATIVA ALGODONAL<br>Municipio=%{x}<br>Máximo Número de Visitas=%{y}<extra></extra>",
         "legendgroup": "INSTITUCION EDUCATIVA ALGODONAL",
         "marker": {
          "color": "rgb(190,186,218)",
          "pattern": {
           "shape": ""
          }
         },
         "name": "INSTITUCION EDUCATIVA ALGODONAL",
         "offsetgroup": "INSTITUCION EDUCATIVA ALGODONAL",
         "orientation": "v",
         "showlegend": true,
         "textposition": "auto",
         "type": "bar",
         "x": [
          "SANTA LUCÍA"
         ],
         "xaxis": "x",
         "y": [
          10
         ],
         "yaxis": "y"
        },
        {
         "alignmentgroup": "True",
         "hovertemplate": "Institución Educativa=INSTITUCION EDUCATIVA SANTA LUCIA<br>Municipio=%{x}<br>Máximo Número de Visitas=%{y}<extra></extra>",
         "legendgroup": "INSTITUCION EDUCATIVA SANTA LUCIA",
         "marker": {
          "color": "rgb(251,128,114)",
          "pattern": {
           "shape": ""
          }
         },
         "name": "INSTITUCION EDUCATIVA SANTA LUCIA",
         "offsetgroup": "INSTITUCION EDUCATIVA SANTA LUCIA",
         "orientation": "v",
         "showlegend": true,
         "textposition": "auto",
         "type": "bar",
         "x": [
          "SANTA LUCÍA",
          "Santa Lucía"
         ],
         "xaxis": "x",
         "y": [
          10,
          1
         ],
         "yaxis": "y"
        },
        {
         "alignmentgroup": "True",
         "hovertemplate": "Institución Educativa=INSTITUCION EDUCATIVA TECNICA  COMERCIAL DE SANTO TOMAS<br>Municipio=%{x}<br>Máximo Número de Visitas=%{y}<extra></extra>",
         "legendgroup": "INSTITUCION EDUCATIVA TECNICA  COMERCIAL DE SANTO TOMAS",
         "marker": {
          "color": "rgb(128,177,211)",
          "pattern": {
           "shape": ""
          }
         },
         "name": "INSTITUCION EDUCATIVA TECNICA  COMERCIAL DE SANTO TOMAS",
         "offsetgroup": "INSTITUCION EDUCATIVA TECNICA  COMERCIAL DE SANTO TOMAS",
         "orientation": "v",
         "showlegend": true,
         "textposition": "auto",
         "type": "bar",
         "x": [
          "SANTO TOMÁS",
          "Santo Tomás"
         ],
         "xaxis": "x",
         "y": [
          11,
          1
         ],
         "yaxis": "y"
        },
        {
         "alignmentgroup": "True",
         "hovertemplate": "Institución Educativa=INSTITUCIÓN EDUCATIVA DIVERSIFICADA ORIENTAL DE SANTO TOMAS<br>Municipio=%{x}<br>Máximo Número de Visitas=%{y}<extra></extra>",
         "legendgroup": "INSTITUCIÓN EDUCATIVA DIVERSIFICADA ORIENTAL DE SANTO TOMAS",
         "marker": {
          "color": "rgb(253,180,98)",
          "pattern": {
           "shape": ""
          }
         },
         "name": "INSTITUCIÓN EDUCATIVA DIVERSIFICADA ORIENTAL DE SANTO TOMAS",
         "offsetgroup": "INSTITUCIÓN EDUCATIVA DIVERSIFICADA ORIENTAL DE SANTO TOMAS",
         "orientation": "v",
         "showlegend": true,
         "textposition": "auto",
         "type": "bar",
         "x": [
          "SANTO TOMÁS"
         ],
         "xaxis": "x",
         "y": [
          8
         ],
         "yaxis": "y"
        },
        {
         "alignmentgroup": "True",
         "hovertemplate": "Institución Educativa=INSTITUCION EDUCATIVA ADOLFO LEÓN BOLIVAR MARENCO DE SUAN<br>Municipio=%{x}<br>Máximo Número de Visitas=%{y}<extra></extra>",
         "legendgroup": "INSTITUCION EDUCATIVA ADOLFO LEÓN BOLIVAR MARENCO DE SUAN",
         "marker": {
          "color": "rgb(179,222,105)",
          "pattern": {
           "shape": ""
          }
         },
         "name": "INSTITUCION EDUCATIVA ADOLFO LEÓN BOLIVAR MARENCO DE SUAN",
         "offsetgroup": "INSTITUCION EDUCATIVA ADOLFO LEÓN BOLIVAR MARENCO DE SUAN",
         "orientation": "v",
         "showlegend": true,
         "textposition": "auto",
         "type": "bar",
         "x": [
          "SUAN"
         ],
         "xaxis": "x",
         "y": [
          10
         ],
         "yaxis": "y"
        },
        {
         "alignmentgroup": "True",
         "hovertemplate": "Institución Educativa=I.E. JOSE CONSUEGRA HIGGINS<br>Municipio=%{x}<br>Máximo Número de Visitas=%{y}<extra></extra>",
         "legendgroup": "I.E. JOSE CONSUEGRA HIGGINS",
         "marker": {
          "color": "rgb(252,205,229)",
          "pattern": {
           "shape": ""
          }
         },
         "name": "I.E. JOSE CONSUEGRA HIGGINS",
         "offsetgroup": "I.E. JOSE CONSUEGRA HIGGINS",
         "orientation": "v",
         "showlegend": true,
         "textposition": "auto",
         "type": "bar",
         "x": [
          "Sabanalarga"
         ],
         "xaxis": "x",
         "y": [
          1
         ],
         "yaxis": "y"
        },
        {
         "alignmentgroup": "True",
         "hovertemplate": "Institución Educativa=I.E. TECNICA AGROPECUARIA SAN CAYETANO DE GALLEGO<br>Municipio=%{x}<br>Máximo Número de Visitas=%{y}<extra></extra>",
         "legendgroup": "I.E. TECNICA AGROPECUARIA SAN CAYETANO DE GALLEGO",
         "marker": {
          "color": "rgb(217,217,217)",
          "pattern": {
           "shape": ""
          }
         },
         "name": "I.E. TECNICA AGROPECUARIA SAN CAYETANO DE GALLEGO",
         "offsetgroup": "I.E. TECNICA AGROPECUARIA SAN CAYETANO DE GALLEGO",
         "orientation": "v",
         "showlegend": true,
         "textposition": "auto",
         "type": "bar",
         "x": [
          "Sabanalarga"
         ],
         "xaxis": "x",
         "y": [
          1
         ],
         "yaxis": "y"
        },
        {
         "alignmentgroup": "True",
         "hovertemplate": "Institución Educativa=I.E. TECNICA JOSÉ AGUSTIN BLANCO BARROS<br>Municipio=%{x}<br>Máximo Número de Visitas=%{y}<extra></extra>",
         "legendgroup": "I.E. TECNICA JOSÉ AGUSTIN BLANCO BARROS",
         "marker": {
          "color": "rgb(188,128,189)",
          "pattern": {
           "shape": ""
          }
         },
         "name": "I.E. TECNICA JOSÉ AGUSTIN BLANCO BARROS",
         "offsetgroup": "I.E. TECNICA JOSÉ AGUSTIN BLANCO BARROS",
         "orientation": "v",
         "showlegend": true,
         "textposition": "auto",
         "type": "bar",
         "x": [
          "Sabanalarga"
         ],
         "xaxis": "x",
         "y": [
          1
         ],
         "yaxis": "y"
        },
        {
         "alignmentgroup": "True",
         "hovertemplate": "Institución Educativa=INSTITUCION EDUCATIVA SAN PEDRO CLAVER DE CASCAJAL<br>Municipio=%{x}<br>Máximo Número de Visitas=%{y}<extra></extra>",
         "legendgroup": "INSTITUCION EDUCATIVA SAN PEDRO CLAVER DE CASCAJAL",
         "marker": {
          "color": "rgb(204,235,197)",
          "pattern": {
           "shape": ""
          }
         },
         "name": "INSTITUCION EDUCATIVA SAN PEDRO CLAVER DE CASCAJAL",
         "offsetgroup": "INSTITUCION EDUCATIVA SAN PEDRO CLAVER DE CASCAJAL",
         "orientation": "v",
         "showlegend": true,
         "textposition": "auto",
         "type": "bar",
         "x": [
          "Sabanalarga"
         ],
         "xaxis": "x",
         "y": [
          1
         ],
         "yaxis": "y"
        },
        {
         "alignmentgroup": "True",
         "hovertemplate": "Institución Educativa=INSTITUCION EDUCATIVA TECNICO DE LA PE¿A<br>Municipio=%{x}<br>Máximo Número de Visitas=%{y}<extra></extra>",
         "legendgroup": "INSTITUCION EDUCATIVA TECNICO DE LA PE¿A",
         "marker": {
          "color": "rgb(255,237,111)",
          "pattern": {
           "shape": ""
          }
         },
         "name": "INSTITUCION EDUCATIVA TECNICO DE LA PE¿A",
         "offsetgroup": "INSTITUCION EDUCATIVA TECNICO DE LA PE¿A",
         "orientation": "v",
         "showlegend": true,
         "textposition": "auto",
         "type": "bar",
         "x": [
          "Sabanalarga"
         ],
         "xaxis": "x",
         "y": [
          1
         ],
         "yaxis": "y"
        },
        {
         "alignmentgroup": "True",
         "hovertemplate": "Institución Educativa=INSTITUCION EDUCATIVA TECNICA AGROINDUSTRIAL ORIENTAL<br>Municipio=%{x}<br>Máximo Número de Visitas=%{y}<extra></extra>",
         "legendgroup": "INSTITUCION EDUCATIVA TECNICA AGROINDUSTRIAL ORIENTAL",
         "marker": {
          "color": "rgb(141,211,199)",
          "pattern": {
           "shape": ""
          }
         },
         "name": "INSTITUCION EDUCATIVA TECNICA AGROINDUSTRIAL ORIENTAL",
         "offsetgroup": "INSTITUCION EDUCATIVA TECNICA AGROINDUSTRIAL ORIENTAL",
         "orientation": "v",
         "showlegend": true,
         "textposition": "auto",
         "type": "bar",
         "x": [
          "Santo Tomás"
         ],
         "xaxis": "x",
         "y": [
          1
         ],
         "yaxis": "y"
        },
        {
         "alignmentgroup": "True",
         "hovertemplate": "Institución Educativa=I.E. ADOLFO LEÓN BOLIVAR MARENCO DE SUAN<br>Municipio=%{x}<br>Máximo Número de Visitas=%{y}<extra></extra>",
         "legendgroup": "I.E. ADOLFO LEÓN BOLIVAR MARENCO DE SUAN",
         "marker": {
          "color": "rgb(255,255,179)",
          "pattern": {
           "shape": ""
          }
         },
         "name": "I.E. ADOLFO LEÓN BOLIVAR MARENCO DE SUAN",
         "offsetgroup": "I.E. ADOLFO LEÓN BOLIVAR MARENCO DE SUAN",
         "orientation": "v",
         "showlegend": true,
         "textposition": "auto",
         "type": "bar",
         "x": [
          "Suan"
         ],
         "xaxis": "x",
         "y": [
          1
         ],
         "yaxis": "y"
        },
        {
         "alignmentgroup": "True",
         "hovertemplate": "Institución Educativa=CENTRO EDUCATIVO JUARUCO<br>Municipio=%{x}<br>Máximo Número de Visitas=%{y}<extra></extra>",
         "legendgroup": "CENTRO EDUCATIVO JUARUCO",
         "marker": {
          "color": "rgb(190,186,218)",
          "pattern": {
           "shape": ""
          }
         },
         "name": "CENTRO EDUCATIVO JUARUCO",
         "offsetgroup": "CENTRO EDUCATIVO JUARUCO",
         "orientation": "v",
         "showlegend": true,
         "textposition": "auto",
         "type": "bar",
         "x": [
          "TUBARÁ",
          "Tubará"
         ],
         "xaxis": "x",
         "y": [
          1,
          1
         ],
         "yaxis": "y"
        },
        {
         "alignmentgroup": "True",
         "hovertemplate": "Institución Educativa=INSTITUCION EDUCATIVA PLAYA MENDOZA<br>Municipio=%{x}<br>Máximo Número de Visitas=%{y}<extra></extra>",
         "legendgroup": "INSTITUCION EDUCATIVA PLAYA MENDOZA",
         "marker": {
          "color": "rgb(251,128,114)",
          "pattern": {
           "shape": ""
          }
         },
         "name": "INSTITUCION EDUCATIVA PLAYA MENDOZA",
         "offsetgroup": "INSTITUCION EDUCATIVA PLAYA MENDOZA",
         "orientation": "v",
         "showlegend": true,
         "textposition": "auto",
         "type": "bar",
         "x": [
          "TUBARÁ",
          "Tubará"
         ],
         "xaxis": "x",
         "y": [
          1,
          1
         ],
         "yaxis": "y"
        },
        {
         "alignmentgroup": "True",
         "hovertemplate": "Institución Educativa=INSTITUCION EDUCATIVA TECNICA AGROPECUARIA<br>Municipio=%{x}<br>Máximo Número de Visitas=%{y}<extra></extra>",
         "legendgroup": "INSTITUCION EDUCATIVA TECNICA AGROPECUARIA",
         "marker": {
          "color": "rgb(128,177,211)",
          "pattern": {
           "shape": ""
          }
         },
         "name": "INSTITUCION EDUCATIVA TECNICA AGROPECUARIA",
         "offsetgroup": "INSTITUCION EDUCATIVA TECNICA AGROPECUARIA",
         "orientation": "v",
         "showlegend": true,
         "textposition": "auto",
         "type": "bar",
         "x": [
          "TUBARÁ"
         ],
         "xaxis": "x",
         "y": [
          11
         ],
         "yaxis": "y"
        },
        {
         "alignmentgroup": "True",
         "hovertemplate": "Institución Educativa=INSTITUCION EDUCATIVA NUESTRA SEÑORA DEL TRANSITO DE USIACURI<br>Municipio=%{x}<br>Máximo Número de Visitas=%{y}<extra></extra>",
         "legendgroup": "INSTITUCION EDUCATIVA NUESTRA SEÑORA DEL TRANSITO DE USIACURI",
         "marker": {
          "color": "rgb(253,180,98)",
          "pattern": {
           "shape": ""
          }
         },
         "name": "INSTITUCION EDUCATIVA NUESTRA SEÑORA DEL TRANSITO DE USIACURI",
         "offsetgroup": "INSTITUCION EDUCATIVA NUESTRA SEÑORA DEL TRANSITO DE USIACURI",
         "orientation": "v",
         "showlegend": true,
         "textposition": "auto",
         "type": "bar",
         "x": [
          "USIACURÍ"
         ],
         "xaxis": "x",
         "y": [
          11
         ],
         "yaxis": "y"
        },
        {
         "alignmentgroup": "True",
         "hovertemplate": "Institución Educativa=prueba<br>Municipio=%{x}<br>Máximo Número de Visitas=%{y}<extra></extra>",
         "legendgroup": "prueba",
         "marker": {
          "color": "rgb(179,222,105)",
          "pattern": {
           "shape": ""
          }
         },
         "name": "prueba",
         "offsetgroup": "prueba",
         "orientation": "v",
         "showlegend": true,
         "textposition": "auto",
         "type": "bar",
         "x": [
          "prueba"
         ],
         "xaxis": "x",
         "y": [
          1
         ],
         "yaxis": "y"
        }
       ],
       "layout": {
        "barmode": "relative",
        "legend": {
         "bgcolor": "rgba(255, 255, 255, 0.8)",
         "font": {
          "size": 1
         },
         "title": {
          "text": ""
         },
         "tracegroupgap": 0,
         "traceorder": "normal",
         "x": 1.02,
         "xanchor": "left",
         "y": 1,
         "yanchor": "top"
        },
        "margin": {
         "r": 200
        },
        "template": {
         "data": {
          "bar": [
           {
            "error_x": {
             "color": "#2a3f5f"
            },
            "error_y": {
             "color": "#2a3f5f"
            },
            "marker": {
             "line": {
              "color": "#E5ECF6",
              "width": 0.5
             },
             "pattern": {
              "fillmode": "overlay",
              "size": 10,
              "solidity": 0.2
             }
            },
            "type": "bar"
           }
          ],
          "barpolar": [
           {
            "marker": {
             "line": {
              "color": "#E5ECF6",
              "width": 0.5
             },
             "pattern": {
              "fillmode": "overlay",
              "size": 10,
              "solidity": 0.2
             }
            },
            "type": "barpolar"
           }
          ],
          "carpet": [
           {
            "aaxis": {
             "endlinecolor": "#2a3f5f",
             "gridcolor": "white",
             "linecolor": "white",
             "minorgridcolor": "white",
             "startlinecolor": "#2a3f5f"
            },
            "baxis": {
             "endlinecolor": "#2a3f5f",
             "gridcolor": "white",
             "linecolor": "white",
             "minorgridcolor": "white",
             "startlinecolor": "#2a3f5f"
            },
            "type": "carpet"
           }
          ],
          "choropleth": [
           {
            "colorbar": {
             "outlinewidth": 0,
             "ticks": ""
            },
            "type": "choropleth"
           }
          ],
          "contour": [
           {
            "colorbar": {
             "outlinewidth": 0,
             "ticks": ""
            },
            "colorscale": [
             [
              0,
              "#0d0887"
             ],
             [
              0.1111111111111111,
              "#46039f"
             ],
             [
              0.2222222222222222,
              "#7201a8"
             ],
             [
              0.3333333333333333,
              "#9c179e"
             ],
             [
              0.4444444444444444,
              "#bd3786"
             ],
             [
              0.5555555555555556,
              "#d8576b"
             ],
             [
              0.6666666666666666,
              "#ed7953"
             ],
             [
              0.7777777777777778,
              "#fb9f3a"
             ],
             [
              0.8888888888888888,
              "#fdca26"
             ],
             [
              1,
              "#f0f921"
             ]
            ],
            "type": "contour"
           }
          ],
          "contourcarpet": [
           {
            "colorbar": {
             "outlinewidth": 0,
             "ticks": ""
            },
            "type": "contourcarpet"
           }
          ],
          "heatmap": [
           {
            "colorbar": {
             "outlinewidth": 0,
             "ticks": ""
            },
            "colorscale": [
             [
              0,
              "#0d0887"
             ],
             [
              0.1111111111111111,
              "#46039f"
             ],
             [
              0.2222222222222222,
              "#7201a8"
             ],
             [
              0.3333333333333333,
              "#9c179e"
             ],
             [
              0.4444444444444444,
              "#bd3786"
             ],
             [
              0.5555555555555556,
              "#d8576b"
             ],
             [
              0.6666666666666666,
              "#ed7953"
             ],
             [
              0.7777777777777778,
              "#fb9f3a"
             ],
             [
              0.8888888888888888,
              "#fdca26"
             ],
             [
              1,
              "#f0f921"
             ]
            ],
            "type": "heatmap"
           }
          ],
          "heatmapgl": [
           {
            "colorbar": {
             "outlinewidth": 0,
             "ticks": ""
            },
            "colorscale": [
             [
              0,
              "#0d0887"
             ],
             [
              0.1111111111111111,
              "#46039f"
             ],
             [
              0.2222222222222222,
              "#7201a8"
             ],
             [
              0.3333333333333333,
              "#9c179e"
             ],
             [
              0.4444444444444444,
              "#bd3786"
             ],
             [
              0.5555555555555556,
              "#d8576b"
             ],
             [
              0.6666666666666666,
              "#ed7953"
             ],
             [
              0.7777777777777778,
              "#fb9f3a"
             ],
             [
              0.8888888888888888,
              "#fdca26"
             ],
             [
              1,
              "#f0f921"
             ]
            ],
            "type": "heatmapgl"
           }
          ],
          "histogram": [
           {
            "marker": {
             "pattern": {
              "fillmode": "overlay",
              "size": 10,
              "solidity": 0.2
             }
            },
            "type": "histogram"
           }
          ],
          "histogram2d": [
           {
            "colorbar": {
             "outlinewidth": 0,
             "ticks": ""
            },
            "colorscale": [
             [
              0,
              "#0d0887"
             ],
             [
              0.1111111111111111,
              "#46039f"
             ],
             [
              0.2222222222222222,
              "#7201a8"
             ],
             [
              0.3333333333333333,
              "#9c179e"
             ],
             [
              0.4444444444444444,
              "#bd3786"
             ],
             [
              0.5555555555555556,
              "#d8576b"
             ],
             [
              0.6666666666666666,
              "#ed7953"
             ],
             [
              0.7777777777777778,
              "#fb9f3a"
             ],
             [
              0.8888888888888888,
              "#fdca26"
             ],
             [
              1,
              "#f0f921"
             ]
            ],
            "type": "histogram2d"
           }
          ],
          "histogram2dcontour": [
           {
            "colorbar": {
             "outlinewidth": 0,
             "ticks": ""
            },
            "colorscale": [
             [
              0,
              "#0d0887"
             ],
             [
              0.1111111111111111,
              "#46039f"
             ],
             [
              0.2222222222222222,
              "#7201a8"
             ],
             [
              0.3333333333333333,
              "#9c179e"
             ],
             [
              0.4444444444444444,
              "#bd3786"
             ],
             [
              0.5555555555555556,
              "#d8576b"
             ],
             [
              0.6666666666666666,
              "#ed7953"
             ],
             [
              0.7777777777777778,
              "#fb9f3a"
             ],
             [
              0.8888888888888888,
              "#fdca26"
             ],
             [
              1,
              "#f0f921"
             ]
            ],
            "type": "histogram2dcontour"
           }
          ],
          "mesh3d": [
           {
            "colorbar": {
             "outlinewidth": 0,
             "ticks": ""
            },
            "type": "mesh3d"
           }
          ],
          "parcoords": [
           {
            "line": {
             "colorbar": {
              "outlinewidth": 0,
              "ticks": ""
             }
            },
            "type": "parcoords"
           }
          ],
          "pie": [
           {
            "automargin": true,
            "type": "pie"
           }
          ],
          "scatter": [
           {
            "fillpattern": {
             "fillmode": "overlay",
             "size": 10,
             "solidity": 0.2
            },
            "type": "scatter"
           }
          ],
          "scatter3d": [
           {
            "line": {
             "colorbar": {
              "outlinewidth": 0,
              "ticks": ""
             }
            },
            "marker": {
             "colorbar": {
              "outlinewidth": 0,
              "ticks": ""
             }
            },
            "type": "scatter3d"
           }
          ],
          "scattercarpet": [
           {
            "marker": {
             "colorbar": {
              "outlinewidth": 0,
              "ticks": ""
             }
            },
            "type": "scattercarpet"
           }
          ],
          "scattergeo": [
           {
            "marker": {
             "colorbar": {
              "outlinewidth": 0,
              "ticks": ""
             }
            },
            "type": "scattergeo"
           }
          ],
          "scattergl": [
           {
            "marker": {
             "colorbar": {
              "outlinewidth": 0,
              "ticks": ""
             }
            },
            "type": "scattergl"
           }
          ],
          "scattermapbox": [
           {
            "marker": {
             "colorbar": {
              "outlinewidth": 0,
              "ticks": ""
             }
            },
            "type": "scattermapbox"
           }
          ],
          "scatterpolar": [
           {
            "marker": {
             "colorbar": {
              "outlinewidth": 0,
              "ticks": ""
             }
            },
            "type": "scatterpolar"
           }
          ],
          "scatterpolargl": [
           {
            "marker": {
             "colorbar": {
              "outlinewidth": 0,
              "ticks": ""
             }
            },
            "type": "scatterpolargl"
           }
          ],
          "scatterternary": [
           {
            "marker": {
             "colorbar": {
              "outlinewidth": 0,
              "ticks": ""
             }
            },
            "type": "scatterternary"
           }
          ],
          "surface": [
           {
            "colorbar": {
             "outlinewidth": 0,
             "ticks": ""
            },
            "colorscale": [
             [
              0,
              "#0d0887"
             ],
             [
              0.1111111111111111,
              "#46039f"
             ],
             [
              0.2222222222222222,
              "#7201a8"
             ],
             [
              0.3333333333333333,
              "#9c179e"
             ],
             [
              0.4444444444444444,
              "#bd3786"
             ],
             [
              0.5555555555555556,
              "#d8576b"
             ],
             [
              0.6666666666666666,
              "#ed7953"
             ],
             [
              0.7777777777777778,
              "#fb9f3a"
             ],
             [
              0.8888888888888888,
              "#fdca26"
             ],
             [
              1,
              "#f0f921"
             ]
            ],
            "type": "surface"
           }
          ],
          "table": [
           {
            "cells": {
             "fill": {
              "color": "#EBF0F8"
             },
             "line": {
              "color": "white"
             }
            },
            "header": {
             "fill": {
              "color": "#C8D4E3"
             },
             "line": {
              "color": "white"
             }
            },
            "type": "table"
           }
          ]
         },
         "layout": {
          "annotationdefaults": {
           "arrowcolor": "#2a3f5f",
           "arrowhead": 0,
           "arrowwidth": 1
          },
          "autotypenumbers": "strict",
          "coloraxis": {
           "colorbar": {
            "outlinewidth": 0,
            "ticks": ""
           }
          },
          "colorscale": {
           "diverging": [
            [
             0,
             "#8e0152"
            ],
            [
             0.1,
             "#c51b7d"
            ],
            [
             0.2,
             "#de77ae"
            ],
            [
             0.3,
             "#f1b6da"
            ],
            [
             0.4,
             "#fde0ef"
            ],
            [
             0.5,
             "#f7f7f7"
            ],
            [
             0.6,
             "#e6f5d0"
            ],
            [
             0.7,
             "#b8e186"
            ],
            [
             0.8,
             "#7fbc41"
            ],
            [
             0.9,
             "#4d9221"
            ],
            [
             1,
             "#276419"
            ]
           ],
           "sequential": [
            [
             0,
             "#0d0887"
            ],
            [
             0.1111111111111111,
             "#46039f"
            ],
            [
             0.2222222222222222,
             "#7201a8"
            ],
            [
             0.3333333333333333,
             "#9c179e"
            ],
            [
             0.4444444444444444,
             "#bd3786"
            ],
            [
             0.5555555555555556,
             "#d8576b"
            ],
            [
             0.6666666666666666,
             "#ed7953"
            ],
            [
             0.7777777777777778,
             "#fb9f3a"
            ],
            [
             0.8888888888888888,
             "#fdca26"
            ],
            [
             1,
             "#f0f921"
            ]
           ],
           "sequentialminus": [
            [
             0,
             "#0d0887"
            ],
            [
             0.1111111111111111,
             "#46039f"
            ],
            [
             0.2222222222222222,
             "#7201a8"
            ],
            [
             0.3333333333333333,
             "#9c179e"
            ],
            [
             0.4444444444444444,
             "#bd3786"
            ],
            [
             0.5555555555555556,
             "#d8576b"
            ],
            [
             0.6666666666666666,
             "#ed7953"
            ],
            [
             0.7777777777777778,
             "#fb9f3a"
            ],
            [
             0.8888888888888888,
             "#fdca26"
            ],
            [
             1,
             "#f0f921"
            ]
           ]
          },
          "colorway": [
           "#636efa",
           "#EF553B",
           "#00cc96",
           "#ab63fa",
           "#FFA15A",
           "#19d3f3",
           "#FF6692",
           "#B6E880",
           "#FF97FF",
           "#FECB52"
          ],
          "font": {
           "color": "#2a3f5f"
          },
          "geo": {
           "bgcolor": "white",
           "lakecolor": "white",
           "landcolor": "#E5ECF6",
           "showlakes": true,
           "showland": true,
           "subunitcolor": "white"
          },
          "hoverlabel": {
           "align": "left"
          },
          "hovermode": "closest",
          "mapbox": {
           "style": "light"
          },
          "paper_bgcolor": "white",
          "plot_bgcolor": "#E5ECF6",
          "polar": {
           "angularaxis": {
            "gridcolor": "white",
            "linecolor": "white",
            "ticks": ""
           },
           "bgcolor": "#E5ECF6",
           "radialaxis": {
            "gridcolor": "white",
            "linecolor": "white",
            "ticks": ""
           }
          },
          "scene": {
           "xaxis": {
            "backgroundcolor": "#E5ECF6",
            "gridcolor": "white",
            "gridwidth": 2,
            "linecolor": "white",
            "showbackground": true,
            "ticks": "",
            "zerolinecolor": "white"
           },
           "yaxis": {
            "backgroundcolor": "#E5ECF6",
            "gridcolor": "white",
            "gridwidth": 2,
            "linecolor": "white",
            "showbackground": true,
            "ticks": "",
            "zerolinecolor": "white"
           },
           "zaxis": {
            "backgroundcolor": "#E5ECF6",
            "gridcolor": "white",
            "gridwidth": 2,
            "linecolor": "white",
            "showbackground": true,
            "ticks": "",
            "zerolinecolor": "white"
           }
          },
          "shapedefaults": {
           "line": {
            "color": "#2a3f5f"
           }
          },
          "ternary": {
           "aaxis": {
            "gridcolor": "white",
            "linecolor": "white",
            "ticks": ""
           },
           "baxis": {
            "gridcolor": "white",
            "linecolor": "white",
            "ticks": ""
           },
           "bgcolor": "#E5ECF6",
           "caxis": {
            "gridcolor": "white",
            "linecolor": "white",
            "ticks": ""
           }
          },
          "title": {
           "x": 0.05
          },
          "xaxis": {
           "automargin": true,
           "gridcolor": "white",
           "linecolor": "white",
           "ticks": "",
           "title": {
            "standoff": 15
           },
           "zerolinecolor": "white",
           "zerolinewidth": 2
          },
          "yaxis": {
           "automargin": true,
           "gridcolor": "white",
           "linecolor": "white",
           "ticks": "",
           "title": {
            "standoff": 15
           },
           "zerolinecolor": "white",
           "zerolinewidth": 2
          }
         }
        },
        "title": {
         "text": "Máximo Número de Visitas por Institución Educativa<br>en Cada Municipio"
        },
        "xaxis": {
         "anchor": "y",
         "domain": [
          0,
          1
         ],
         "title": {
          "text": "Municipio"
         }
        },
        "yaxis": {
         "anchor": "x",
         "domain": [
          0,
          1
         ],
         "title": {
          "text": "Máximo Número de Visitas"
         }
        }
       }
      }
     },
     "metadata": {},
     "output_type": "display_data"
    }
   ],
   "source": [
    "import pandas as pd \n",
    "import plotly.express as px\n",
    "import seaborn as sns\n",
    "import re\n",
    "\n",
    "df = pd.read_csv(\"C:/Users/madro/OneDrive - Universidad Nacional de Colombia/Documentos/Python-/PAE_Interventoria/2024-I/Resultados_PAE.csv\") # type: ignore\n",
    "df_BO = pd.read_csv('C:/Users/madro/OneDrive - Universidad Nacional de Colombia/Documentos/Python-/PAE_Interventoria/2024-I/Reporte IE.csv')\n",
    "df_IE = pd.read_csv('C:/Users/madro/OneDrive - Universidad Nacional de Colombia/Documentos/Python-/PAE_Interventoria/2024-I/Resultados_PAE.csv')\n",
    "\n",
    "null_percent = df.isnull().mean() * 100\n",
    "print(null_percent)\n",
    "\n",
    "def extraer_dos_letras(codigo):\n",
    "    # Usamos regex para encontrar las dos primeras letras en mayúscula\n",
    "    match = re.match(r'^([A-Z]{2})-', codigo)\n",
    "    return match.group(1) if match else None\n",
    "\n",
    "# Aplicar la función para extraer las dos letras iniciales\n",
    "df['iniciales'] = df['Código'].apply(extraer_dos_letras)\n",
    "\n",
    "# Contar las iniciales únicas y sumar las ocurrencias\n",
    "conteo_iniciales = df['iniciales'].value_counts()\n",
    "\n",
    "print(\"\\nConteo de iniciales únicas:\")\n",
    "print(conteo_iniciales)\n",
    "\n",
    "if 'Nombre IED' not in df.columns or 'Código' not in df.columns:\n",
    "    raise ValueError(\"Las columnas 'institucion' y 'codigo' deben existir en el DataFrame.\")\n",
    "\n",
    "\n",
    "#agrupacion por institucion\n",
    "Conteo_Codigos = df.groupby('Nombre IED').agg({'Código': 'count'}).reset_index()\n",
    "Conteo_Codigos = Conteo_Codigos.rename(columns={'Código': 'Cantidad'})\n",
    "\n",
    "#grafica\n",
    "\n",
    "fig = px.bar(Conteo_Codigos, x= 'Nombre IED', y='Cantidad')\n",
    "\n",
    "fig.show()\n",
    "\n",
    "if 'Nombre IED' not in df.columns or 'Código' not in df.columns:\n",
    "    raise ValueError(\"Las columnas 'institucion' y 'codigo' deben existir en el DataFrame.\")\n",
    "\n",
    "\n",
    "#agrupacion por institucion\n",
    "Conteo_Codigos = df.groupby('Nombre IED').agg({'Código': 'count'}).reset_index()\n",
    "Conteo_Codigos = Conteo_Codigos.rename(columns={'Código': 'Cantidad'})\n",
    "\n",
    "#grafica\n",
    "\n",
    "fig = px.bar(Conteo_Codigos, x= 'Nombre IED', y='Cantidad')\n",
    "\n",
    "fig.show()\n",
    "\n",
    "# Agrupar por 'Municipio' y 'Nombre IED' y calcular el número máximo de 'N° Visita'\n",
    "municipio_institucion_visita = df.groupby(['Municipio', 'Nombre IED'])['N° Visita'].max().reset_index()\n",
    "\n",
    "# Cambiar nombre de columnas\n",
    "municipio_institucion_visita = municipio_institucion_visita.rename(columns={'N° Visita': 'Max Visitas'})\n",
    "\n",
    "# Crear el gráfico de barras con Plotly Express\n",
    "fig = px.bar(\n",
    "    municipio_institucion_visita,\n",
    "    x='Municipio',\n",
    "    y='Max Visitas',\n",
    "    color='Nombre IED',\n",
    "    title='Máximo Número de Visitas por Institución Educativa<br>en Cada Municipio',\n",
    "    labels={\n",
    "        'Municipio': 'Municipio',\n",
    "        'Max Visitas': 'Máximo Número de Visitas',\n",
    "        'Nombre IED': 'Institución Educativa'\n",
    "    },\n",
    "    color_discrete_sequence=px.colors.qualitative.Set3  # Opcional: Cambia la paleta de colores\n",
    ")\n",
    "\n",
    "# Configurar la leyenda para mostrar solo colores\n",
    "fig.update_layout(\n",
    "    legend=dict(\n",
    "        traceorder='normal',\n",
    "        yanchor='top',\n",
    "        y=1,\n",
    "        xanchor='left',\n",
    "        x=1.02,\n",
    "        title_text='',  # Oculta el título de la leyenda\n",
    "        font=dict(size=1),  # Establece el tamaño de la fuente a 0 para ocultar nombres\n",
    "        bgcolor='rgba(255, 255, 255, 0.8)'  # Fondo semitransparente para la leyenda\n",
    "    ),\n",
    "    margin=dict(r=200)  # Espacio adicional en el lado derecho para la leyenda\n",
    ")\n",
    "\n",
    "# Mostrar el gráfico\n",
    "fig.show()\n"
   ]
  }
 ],
 "metadata": {
  "kernelspec": {
   "display_name": "Python 3",
   "language": "python",
   "name": "python3"
  },
  "language_info": {
   "codemirror_mode": {
    "name": "ipython",
    "version": 3
   },
   "file_extension": ".py",
   "mimetype": "text/x-python",
   "name": "python",
   "nbconvert_exporter": "python",
   "pygments_lexer": "ipython3",
   "version": "3.12.4"
  }
 },
 "nbformat": 4,
 "nbformat_minor": 2
}
