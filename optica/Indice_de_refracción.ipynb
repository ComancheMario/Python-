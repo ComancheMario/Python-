{
  "cells": [
    {
      "cell_type": "markdown",
      "metadata": {
        "id": "3S4m049SLG38"
      },
      "source": [
        "**Propagación de error para calcular el indice de refracción del agua**\n"
      ]
    },
    {
      "cell_type": "code",
      "execution_count": null,
      "metadata": {
        "id": "Yy34FbucLW0B"
      },
      "outputs": [],
      "source": [
        "import sympy as sp\n",
        "import math\n",
        "import numpy as np\n"
      ]
    },
    {
      "cell_type": "markdown",
      "metadata": {
        "id": "L-1LtrQbtKeV"
      },
      "source": [
        "**Propagación de error para el ángulo  $\\beta$ y el ángulo incidente**"
      ]
    },
    {
      "cell_type": "code",
      "execution_count": null,
      "metadata": {
        "colab": {
          "base_uri": "https://localhost:8080/"
        },
        "id": "iicGlj7QVKzw",
        "outputId": "0be23b23-c2c2-4271-efd2-7c981c3f14f9"
      },
      "outputs": [
        {
          "name": "stdout",
          "output_type": "stream",
          "text": [
            "Resultado de arctan(9.5/17.8): 1.0805474553599244\n",
            "Incertidumbre en el resultado: 0.004956268010936433\n",
            "\n",
            "Resultado de arctan(8.5/18.6): 1.142145364151246\n",
            "Incertidumbre en el resultado: 0.004889931702556367\n",
            "\n",
            "Resultado de arctan(7.6/16.8): 1.1459641638755542\n",
            "Incertidumbre en el resultado: 0.005423261445466405\n",
            "\n",
            "Resultado de arctan(5.6/15.4): 1.2220253232109897\n",
            "Incertidumbre en el resultado: 0.006102554697976864\n",
            "\n"
          ]
        }
      ],
      "source": [
        "\n",
        "\n",
        "# Definir una función para calcular arctan(x/y) y su incertidumbre\n",
        "def calcular_arctan(x, y, delta_x, delta_y):\n",
        "    # Calcular el valor de la función arctan(x/y)\n",
        "    resultado = np.arctan2(y, x) #  a= D-c, D= ya cot(\\beta)\n",
        "\n",
        "    # Calcular la incertidumbre en la función arctan(x/y) utilizando la propagación de errores\n",
        "    d_arctan_dx = -y / (x**2 + y**2)\n",
        "    d_arctan_dy = x / (x**2 + y**2)\n",
        "    delta_resultado = np.sqrt((d_arctan_dx * delta_x)**2 + (d_arctan_dy * delta_y)**2)\n",
        "\n",
        "    return resultado, delta_resultado\n",
        "\n",
        "# Definir diferentes valores de x e y\n",
        "valores_x = [9.5, 8.5, 7.6,5.6]\n",
        "valores_y = [17.8, 18.6, 16.8, 15.4]\n",
        "delta_x = 0.1\n",
        "delta_y = 0.1\n",
        "\n",
        "# Calcular y mostrar los resultados para cada combinación de valores de x e y\n",
        "for x, y in zip(valores_x, valores_y):\n",
        "    resultado, incertidumbre = calcular_arctan(x, y, delta_x, delta_y)\n",
        "    print(f\"Resultado de arctan({x}/{y}): {resultado}\")\n",
        "    print(f\"Incertidumbre en el resultado: {incertidumbre}\")\n",
        "    print()\n"
      ]
    },
    {
      "cell_type": "markdown",
      "metadata": {
        "id": "eRcsRQQ_rcPx"
      },
      "source": [
        "**Propagación del error para la distancia D **"
      ]
    },
    {
      "cell_type": "code",
      "execution_count": null,
      "metadata": {
        "colab": {
          "base_uri": "https://localhost:8080/"
        },
        "id": "Q7jpueVZpZYH",
        "outputId": "cb42f4e3-b87a-440a-b987-485cba9877d5"
      },
      "outputs": [
        {
          "name": "stdout",
          "output_type": "stream",
          "text": [
            "Resultado de z = 6.7 * cot(1.08): 3.580556819512353\n",
            "Incertidumbre en el resultado: 0.06358483840932683\n",
            "\n",
            "Resultado de z = 6.7 * cot(1.14): 3.079220817283375\n",
            "Incertidumbre en el resultado: 0.05626615142788699\n",
            "\n",
            "Resultado de z = 6.7 * cot(1.15): 2.9984377484749216\n",
            "Incertidumbre en el resultado: 0.055114099049187106\n",
            "\n",
            "Resultado de z = 6.7 * cot(1.22): 2.4517389824887124\n",
            "Incertidumbre en el resultado: 0.04756603512769036\n",
            "\n"
          ]
        }
      ],
      "source": [
        "import numpy as np\n",
        "\n",
        "# Definir una función para calcular z = x * cot(y) y su incertidumbre\n",
        "def calcular_z(x, y, delta_x, delta_y):\n",
        "    # Calcular el valor de la función z = x * cot(y)\n",
        "    resultado = x / np.tan(y)\n",
        "\n",
        "    # Calcular las derivadas parciales de z con respecto a x e y\n",
        "    dz_dx = 1.0 / np.tan(y)\n",
        "    dz_dy = -x / (np.sin(y)**2)\n",
        "\n",
        "    # Calcular la incertidumbre en la función z utilizando la regla de propagación de errores\n",
        "    delta_z = np.sqrt((dz_dx * delta_x)**2 + (dz_dy * delta_y)**2)\n",
        "\n",
        "    return resultado, delta_z\n",
        "\n",
        "# Definir diferentes valores de x e y\n",
        "valores_x = [6.7, 6.7, 6.7, 6.7]\n",
        "valores_y = [1.08, 1.14, 1.15, 1.22]\n",
        "delta_x = 0.1\n",
        "delta_y = 0.004\n",
        "\n",
        "# Calcular y mostrar los resultados para cada combinación de valores de x e y\n",
        "for x, y in zip(valores_x, valores_y):\n",
        "    resultado, incertidumbre = calcular_z(x, y, delta_x, delta_y)\n",
        "    print(f\"Resultado de z = {x} * cot({y}): {resultado}\")\n",
        "    print(f\"Incertidumbre en el resultado: {incertidumbre}\")\n",
        "    print()\n"
      ]
    },
    {
      "cell_type": "markdown",
      "metadata": {
        "id": "ywdeSeupxBbV"
      },
      "source": [
        "**Propagación de error para la distancia x **\n"
      ]
    },
    {
      "cell_type": "code",
      "execution_count": null,
      "metadata": {
        "colab": {
          "base_uri": "https://localhost:8080/"
        },
        "id": "vKQlHD2zxmD3",
        "outputId": "7003e4e0-5dcf-417c-d0cd-947b205384b2"
      },
      "outputs": [
        {
          "name": "stdout",
          "output_type": "stream",
          "text": [
            "Para x = 3.58, y = 1.0:\n",
            "z = 2.58 +/- 0.1181905241548577\n",
            "\n",
            "Para x = 3.08, y = 0.9:\n",
            "z = 2.18 +/- 0.11461239025515522\n",
            "\n",
            "Para x = 3.0, y = 0.9:\n",
            "z = 2.1 +/- 0.11412712210513329\n",
            "\n",
            "Para x = 2.45, y = 0.8:\n",
            "z = 1.6500000000000001 +/- 0.1104943437466371\n",
            "\n"
          ]
        }
      ],
      "source": [
        "import numpy as np\n",
        "\n",
        "def propagacion_error_resta(x, y, error_x, error_y):\n",
        "    # Calcula el valor de z para cada par de valores de x e y\n",
        "    z = x - y\n",
        "\n",
        "    # Calcula el error asociado a la resta para cada par de valores de x e y\n",
        "    error_z = np.sqrt(error_x**2 + error_y**2)\n",
        "\n",
        "    return z, error_z\n",
        "\n",
        "# Valores de x, y y sus errores asociados (cada uno con 4 valores)\n",
        "x = np.array([3.58,3.08 , 3.0, 2.45])\n",
        "y = np.array([1, 0.9, 0.9, 0.8])\n",
        "error_x = np.array([0.063,0.056 , 0.055,0.047 ])\n",
        "error_y = np.array([0.1, 0.1, 0.1, 0.1])\n",
        "\n",
        "# Calcula la propagación del error para cada par de valores de x e y\n",
        "z, error_z = propagacion_error_resta(x, y, error_x, error_y)\n",
        "\n",
        "# Imprime los resultados para cada par de valores\n",
        "for i in range(len(x)):\n",
        "    print(f\"Para x = {x[i]}, y = {y[i]}:\")\n",
        "    print(f\"z = {z[i]} +/- {error_z[i]}\")\n",
        "    print()\n"
      ]
    },
    {
      "cell_type": "markdown",
      "metadata": {
        "id": "onCPHnv40tRD"
      },
      "source": [
        "Error para la función $senΘ_{i}$\n"
      ]
    },
    {
      "cell_type": "code",
      "execution_count": null,
      "metadata": {
        "colab": {
          "base_uri": "https://localhost:8080/"
        },
        "id": "gzDBMM5A0-lk",
        "outputId": "cd9d48ea-7e3a-4f1f-8691-238109f0cca0"
      },
      "outputs": [
        {
          "name": "stdout",
          "output_type": "stream",
          "text": [
            "Para x = 9.5, h = 17.5:\n",
            "y = 0.4770918629042341 +/- 0.005445609331423351\n",
            "\n",
            "Para x = 8.5, h = 18.6:\n",
            "y = 0.41564419471729125 +/- 0.00522768701697117\n",
            "\n",
            "Para x = 7.6, h = 16.8:\n",
            "y = 0.41216786985544673 +/- 0.005793054510512989\n",
            "\n",
            "Para x = 5.7, h = 15.4:\n",
            "y = 0.3471160086431225 +/- 0.006404302159946148\n",
            "\n"
          ]
        }
      ],
      "source": [
        "import numpy as np\n",
        "\n",
        "def propagacion_error_division(x, h, error_x, error_h):\n",
        "    # Calcula el valor de y para cada par de valores de x e h\n",
        "    y = x / np.sqrt(x**2 + h**2)\n",
        "\n",
        "    # Calcula el error asociado a la división utilizando la regla de propagación de errores\n",
        "    term1 = (1 / np.sqrt(x**2 + h**2)) * error_x\n",
        "    term2 = (x * h / ((x**2 + h**2)**(3/2))) * error_h\n",
        "    error_y = np.sqrt(term1**2 + term2**2)\n",
        "\n",
        "    return y, error_y\n",
        "\n",
        "# Valores de x, h y sus errores asociados (cada uno con 4 valores)\n",
        "x = np.array([9.5, 8.5, 7.6, 5.7])\n",
        "h = np.array([17.5, 18.6, 16.8, 15.4])\n",
        "error_x = np.array([0.1, 0.1, 0.1, 0.1])\n",
        "error_h = np.array([0.1, 0.1, 0.1, 0.1])\n",
        "\n",
        "# Calcula la propagación del error para cada par de valores de x e h\n",
        "y, error_y = propagacion_error_division(x, h, error_x, error_h)\n",
        "\n",
        "# Imprime los resultados para cada par de valores\n",
        "for i in range(len(x)):\n",
        "    print(f\"Para x = {x[i]}, h = {h[i]}:\")\n",
        "    print(f\"y = {y[i]} +/- {error_y[i]}\")\n",
        "    print()\n"
      ]
    },
    {
      "cell_type": "markdown",
      "metadata": {
        "id": "bPPcQ4P0f666"
      },
      "source": [
        "$SenΘ_{r}$\n"
      ]
    },
    {
      "cell_type": "code",
      "execution_count": null,
      "metadata": {
        "colab": {
          "base_uri": "https://localhost:8080/"
        },
        "id": "kCj6Bbx2bM0A",
        "outputId": "be6d6d0e-43db-48b4-efe4-9b8778d386d0"
      },
      "outputs": [
        {
          "name": "stdout",
          "output_type": "stream",
          "text": [
            "Para x = 2.5, h = 6.7:\n",
            "y = 0.3495905197258726 +/- 0.017394170669795088\n",
            "\n",
            "Para x = 2.18, h = 6.7:\n",
            "y = 0.30940698138257555 +/- 0.016161112502382415\n",
            "\n",
            "Para x = 2.1, h = 6.7:\n",
            "y = 0.2990858282453397 +/- 0.01618510203734618\n",
            "\n",
            "Para x = 1.65, h = 6.7:\n",
            "y = 0.2391241566630528 +/- 0.01629287457204335\n",
            "\n"
          ]
        }
      ],
      "source": [
        "import numpy as np\n",
        "\n",
        "def propagacion_error_division(x, h, error_x, error_h):\n",
        "    # Calcula el valor de y para cada par de valores de x e h\n",
        "    y = x / np.sqrt(x**2 + h**2)\n",
        "\n",
        "    # Calcula el error asociado a la división utilizando la regla de propagación de errores\n",
        "    term1 = (1 / np.sqrt(x**2 + h**2)) * error_x\n",
        "    term2 = (x * h / ((x**2 + h**2)**(3/2))) * error_h\n",
        "    error_y = np.sqrt(term1**2 + term2**2)\n",
        "\n",
        "    return y, error_y\n",
        "\n",
        "# Valores de x, h y sus errores asociados (cada uno con 4 valores)\n",
        "x = np.array([2.5, 2.18, 2.10, 1.65])\n",
        "h = np.array([6.7, 6.7, 6.7, 6.7])\n",
        "error_x = np.array([0.12,0.11 ,0.11,0.11 ])\n",
        "error_h = np.array([0.1, 0.1, 0.1, 0.1])\n",
        "\n",
        "# Calcula la propagación del error para cada par de valores de x e h\n",
        "y, error_y = propagacion_error_division(x, h, error_x, error_h)\n",
        "\n",
        "# Imprime los resultados para cada par de valores\n",
        "for i in range(len(x)):\n",
        "    print(f\"Para x = {x[i]}, h = {h[i]}:\")\n",
        "    print(f\"y = {y[i]} +/- {error_y[i]}\")\n",
        "    print()\n"
      ]
    },
    {
      "cell_type": "markdown",
      "metadata": {
        "id": "zpp5JwyveDA0"
      },
      "source": [
        "**Finalmente el error de $n_r$**\n"
      ]
    },
    {
      "cell_type": "code",
      "execution_count": null,
      "metadata": {
        "colab": {
          "base_uri": "https://localhost:8080/"
        },
        "id": "VRBzzhR-eZl3",
        "outputId": "b5326eb1-f0d5-4569-dbb9-90771efdebbb"
      },
      "outputs": [
        {
          "name": "stdout",
          "output_type": "stream",
          "text": [
            "Para x = 0.491, y = 0.37:\n",
            "z = 1.303893429015701 +/- 0.035760380700620875\n",
            "\n",
            "Para x = 0.431, y = 0.31:\n",
            "z = 1.3695057594917885 +/- 0.0452724814955684\n",
            "\n",
            "Para x = 0.421, y = 0.3:\n",
            "z = 1.3828947353025616 +/- 0.04839349285847722\n",
            "\n",
            "Para x = 0.351, y = 0.24:\n",
            "z = 1.4465006707372123 +/- 0.22898509462098748\n",
            "\n"
          ]
        }
      ],
      "source": [
        "import numpy as np\n",
        "\n",
        "def propagacion_error_division_seno(x, y, error_x, error_y):\n",
        "    # Calcula el valor de z para cada par de valores de x e y\n",
        "    z = np.sin(x) / np.sin(y)\n",
        "\n",
        "    # Calcula el error asociado a la división utilizando la aproximación de primer orden\n",
        "    term1 = (np.cos(x) / np.sin(y)) * error_x\n",
        "    term2 = (np.sin(x) * np.cos(y) / (np.sin(y)**2)) * error_y\n",
        "    error_z = np.sqrt(term1**2 + term2**2)\n",
        "\n",
        "    return z, error_z\n",
        "\n",
        "# Valores de x, y y sus errores asociados (cada uno con 4 valores)\n",
        "x = np.array([0.491, 0.431, 0.421, 0.351])\n",
        "y = np.array([0.37, 0.31, 0.30, 0.24])\n",
        "error_x = np.array([0.005, 0.005, 0.006, 0.056])\n",
        "error_y = np.array([0.01, 0.01, 0.01, 0.01])\n",
        "\n",
        "# Calcula la propagación del error para cada par de valores de x e y\n",
        "z, error_z = propagacion_error_division_seno(x, y, error_x, error_y)\n",
        "\n",
        "# Imprime los resultados para cada par de valores\n",
        "for i in range(len(x)):\n",
        "    print(f\"Para x = {x[i]}, y = {y[i]}:\")\n",
        "    print(f\"z = {z[i]} +/- {error_z[i]}\")\n",
        "    print()\n"
      ]
    },
    {
      "cell_type": "markdown",
      "metadata": {
        "id": "JdLZRAkWnDqT"
      },
      "source": [
        "**Resultado promediado de nr **"
      ]
    },
    {
      "cell_type": "code",
      "execution_count": null,
      "metadata": {
        "colab": {
          "base_uri": "https://localhost:8080/"
        },
        "id": "nHZ7B-m3nLi2",
        "outputId": "1066ca51-e712-424b-9ec8-1aa582373c97"
      },
      "outputs": [
        {
          "name": "stdout",
          "output_type": "stream",
          "text": [
            "Promedio = 1.375 +/- 0.058213507882621196\n"
          ]
        }
      ],
      "source": [
        "import numpy as np\n",
        "\n",
        "def propagacion_error_promedio(datos, errores):\n",
        "    # Calcula el promedio de los datos\n",
        "    promedio = np.mean(datos)\n",
        "\n",
        "    # Calcula el error asociado al promedio\n",
        "    error_promedio = np.sqrt(np.sum(errores**2)) / len(datos)\n",
        "\n",
        "    return promedio, error_promedio\n",
        "\n",
        "# Valores de datos y sus errores asociados (cada uno con 4 valores)\n",
        "datos = np.array([1.30, 1.37, 1.38, 1.45])\n",
        "errores = np.array([0.036, 0.045, 0.05, 0.22])\n",
        "\n",
        "# Calcula la propagación del error para el promedio de los datos\n",
        "promedio, error_promedio = propagacion_error_promedio(datos, errores)\n",
        "\n",
        "print(f\"Promedio = {promedio} +/- {error_promedio}\")\n"
      ]
    },
    {
      "cell_type": "markdown",
      "metadata": {},
      "source": [
        "Fresnel"
      ]
    },
    {
      "cell_type": "code",
      "execution_count": 2,
      "metadata": {},
      "outputs": [
        {
          "name": "stdout",
          "output_type": "stream",
          "text": [
            "Reflectivity:  1.0000000000000004\n",
            "Transmissivity:  0.0\n"
          ]
        }
      ],
      "source": [
        "import numpy as np\n",
        "from scipy.special import fresnel\n",
        "\n",
        "def FresnelEquations(n, d, omega):\n",
        "    # define constants\n",
        "    c = 299792458 # speed of light in m/s\n",
        "\n",
        "    # compute angular frequency and wavenumber\n",
        "    k = 2 * np.pi * n / (d * c)\n",
        "    omega = 2 * np.pi * n / (d * c)\n",
        "\n",
        "    # compute phase factor\n",
        "    phase_factor = np.exp(1j * (k * d) / (2 * d))\n",
        "\n",
        "    # compute amplitude factors\n",
        "    r_te = 1 / (1 - (omega * d / 2) ** 2)\n",
        "    r_tm = 1 / (1 - (omega * d / 2) ** 2)\n",
        "\n",
        "    # compute reflectivity and transmissivity\n",
        "    r_s = r_te * r_tm\n",
        "    t_s = (r_te - r_tm) / (1 + r_te * r_tm)\n",
        "\n",
        "    return r_s, t_s\n",
        "\n",
        "# input parameters\n",
        "n = 1.5 # refractive index of medium\n",
        "d = 1.0 # thickness of medium in meters\n",
        "omega = 2 * np.pi * 500e12 # angular frequency in rad/s\n",
        "\n",
        "# calculate Fresnel equations\n",
        "r_s, t_s = FresnelEquations(n, d, omega)\n",
        "\n",
        "print(\"Reflectivity: \", r_s)\n",
        "print(\"Transmissivity: \", t_s)"
      ]
    },
    {
      "cell_type": "code",
      "execution_count": 2,
      "metadata": {},
      "outputs": [],
      "source": [
        "import numpy as np\n",
        "import matplotlib.pyplot as plt\n",
        "\n",
        "def fresnel_equations(angle, n1, n2):\n",
        "    '''\n",
        "    Compute the transmitted and reflected wave coefficients (amplitudes)\n",
        "    using the Fresnel equations for the interface between two dielectric materials.\n",
        "\n",
        "    Input:\n",
        "        angle: Incident angle (degrees)\n",
        "        n1: Refractive index of the first medium\n",
        "        n2: Refractive index of the second medium\n",
        "\n",
        "    Output:\n",
        "        A: Amplitude of the transmitted wave\n",
        "        B: Amplitude of the reflected wave\n",
        "    '''\n",
        "\n",
        "    # Convert angle to radians\n",
        "    theta = np.deg2rad(angle)\n",
        "\n",
        "    # Calculate the coefficients\n",
        "    sin_theta_n1 = np.sin(theta) / n1\n",
        "    sin_theta_n2 = np.sin(theta) / n2\n",
        "    cos_theta_n1 = np.cos(theta) / n1\n",
        "    cos_theta_n2 = np.cos(theta) / n2\n",
        "\n",
        "    # Compute the transmitted and reflected wave coefficients\n",
        "    A = (sin_theta_n2 - sin_theta_n1) / (sin_theta_n2 + sin_theta_n1)\n",
        "    B = (cos_theta_n1 - cos_theta_n2) / (cos_theta_n1 + cos_theta_n2)\n",
        "\n",
        "    return A, B\n",
        "\n",
        "\n",
        "def fresnel_transmitted_angle(angle, n1, n2):\n",
        "    '''\n",
        "    Calculate the transmitted angle of light after it passes through a dielectric interface.\n",
        "\n",
        "    Input:\n",
        "        angle: Incident angle (degrees)\n",
        "        n1: Refractive index of the first medium\n",
        "        n2: Refractive index of the second medium\n",
        "\n",
        "    Output:\n",
        "        theta_transmitted: Transmitted angle (degrees)\n",
        "    '''\n",
        "\n",
        "    # Convert angle to radians\n",
        "    theta = np.deg2rad(angle)\n",
        "\n",
        "    # Calculate the transmitted angle\n",
        "    theta_transmitted = np.arcsin(n1 * np.sin(theta) / n2)\n"
      ]
    },
    {
      "cell_type": "code",
      "execution_count": 4,
      "metadata": {},
      "outputs": [
        {
          "data": {
            "image/png": "[encoded data removed]",
            "text/plain": [
              "<Figure size 800x600 with 1 Axes>"
            ]
          },
          "metadata": {},
          "output_type": "display_data"
        }
      ],
      "source": [
        "import numpy as np\n",
        "import matplotlib.pyplot as plt\n",
        "from scipy.constants import pi, c, epsilon_0\n",
        "\n",
        "def fresnel_zone(theta):\n",
        "    '''Return the Fresnel zone (n = 1, 2, ...) in which theta falls.'''\n",
        "    return np.sqrt(theta**2 / (pi/2)**2)\n",
        "\n",
        "def fresnel_reflection_coefficient(theta, d):\n",
        "    '''Return the reflection coefficient (r) for Fresnel propagation.'''\n",
        "    # Fresnel zone\n",
        "    n = fresnel_zone(theta)\n",
        "    \n",
        "    # Wavelength and speed of light\n",
        "    lambda_ = c / (1 / (epsilon_0 * c) + 1j * d / (4 * pi))\n",
        "    \n",
        "    # Propagation distance for the first half of the wave\n",
        "    D = n * lambda_ / 2\n",
        "    \n",
        "    # Reflection coefficient (r)\n",
        "    r = 2 * D / lambda_\n",
        "    \n",
        "    return r\n",
        "\n",
        "# Propagation distance (m)\n",
        "d = 100\n",
        "\n",
        "# Angle range (degrees)\n",
        "theta_range = np.linspace(0, 89, 1000)\n",
        "\n",
        "# Reflection coefficients\n",
        "r_values = fresnel_reflection_coefficient(theta_range, d)\n",
        "\n",
        "# Propagation error\n",
        "propagation_error = np.abs(r_values) / (1 - np.abs(r_values))\n",
        "\n",
        "# Plot the propagation error as a function of angle\n",
        "plt.figure(figsize=(8, 6))\n",
        "plt.plot(theta_range, propagation_error, marker='o', label='Propagation Error')\n",
        "plt.xlabel('Angle (degrees)')\n",
        "plt.ylabel('Propagation Error')\n",
        "plt.legend()\n",
        "plt.title(f'Propagation Error for Fresnel Equations (d = {d} m)')\n",
        "plt.show()"
      ]
    }
  ],
  "metadata": {
    "colab": {
      "provenance": []
    },
    "kernelspec": {
      "display_name": "Python 3",
      "name": "python3"
    },
    "language_info": {
      "codemirror_mode": {
        "name": "ipython",
        "version": 3
      },
      "file_extension": ".py",
      "mimetype": "text/x-python",
      "name": "python",
      "nbconvert_exporter": "python",
      "pygments_lexer": "ipython3",
      "version": "3.12.0"
    }
  },
  "nbformat": 4,
  "nbformat_minor": 0
}
