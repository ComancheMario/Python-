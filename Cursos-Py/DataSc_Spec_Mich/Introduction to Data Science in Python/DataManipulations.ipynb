{
 "cells": [
  {
   "cell_type": "markdown",
   "metadata": {},
   "source": [
    "## Ejercicio"
   ]
  },
  {
   "cell_type": "markdown",
   "metadata": {},
   "source": [
    "    Parte A"
   ]
  },
  {
   "cell_type": "markdown",
   "metadata": {},
   "source": [
    "Find a list of all of all of the names in the following string using regex.\n"
   ]
  },
  {
   "cell_type": "code",
   "execution_count": 19,
   "metadata": {},
   "outputs": [],
   "source": [
    "import re\n",
    "def names():\n",
    "    simple_string = \"\"\"Amy is 5 years old, and her sister Mary is 2 years old. \n",
    "    Ruth and Peter, their parents, have 3 kids.\"\"\"\n",
    "\n",
    "    # YOUR CODE HERE\n",
    "    raise NotImplementedError()"
   ]
  },
  {
   "cell_type": "code",
   "execution_count": 20,
   "metadata": {},
   "outputs": [
    {
     "name": "stdout",
     "output_type": "stream",
     "text": [
      "['Amy', 'Mary', 'Ruth', 'Peter']\n"
     ]
    }
   ],
   "source": [
    "import re\n",
    "\n",
    "def names():\n",
    "    simple_string = \"\"\"Amy is 5 years old, and her sister Mary is 2 years old.\n",
    "    Ruth and Peter, their parents, have 3 kids.\"\"\"\n",
    "\n",
    "    # Crear una expresión regular que coincida con palabras que comiencen con una letra mayúscula\n",
    "    # El patrón r'\\b[A-Z][a-z]*\\b' coincide con palabras que comienzan con una letra mayúscula\n",
    "    pattern = r'\\b[A-Z][a-z]*\\b'\n",
    "    \n",
    "    # Usar re.findall() para encontrar todas las coincidencias en la cadena simple_string\n",
    "    matches = re.findall(pattern, simple_string)\n",
    "    \n",
    "    # Retornar la lista de nombres encontrados\n",
    "    return matches\n",
    "\n",
    "# Probar la función\n",
    "print(names())  # Debería imprimir: ['Amy', 'Mary', 'Ruth', 'Peter']\n"
   ]
  },
  {
   "cell_type": "markdown",
   "metadata": {},
   "source": [
    "    Parte B"
   ]
  },
  {
   "cell_type": "markdown",
   "metadata": {},
   "source": [
    "The dataset file in assets/grades.txt contains a line separated list of people with their grade in a class. Create a regex to generate a list of just those students who received a B in the course."
   ]
  },
  {
   "cell_type": "code",
   "execution_count": 1,
   "metadata": {},
   "outputs": [
    {
     "name": "stdout",
     "output_type": "stream",
     "text": [
      "['Bell Kassulke', 'Simon Loidl', 'Elias Jovanovic', 'Hakim Botros', 'Emilie Lorentsen', 'Jake Wood', 'Fatemeh Akhtar', 'Kim Weston', 'Yasmin Dar', 'Viswamitra Upandhye', 'Killian Kaufman', 'Elwood Page', 'Elodie Booker', 'Adnan Chen', 'Hank Spinka', 'Hannah Bayer']\n"
     ]
    }
   ],
   "source": [
    "import re\n",
    "\n",
    "def grades():\n",
    "    with open(\"assets/grades.txt\", \"r\") as file:\n",
    "        grades = file.read()\n",
    "\n",
    "    # Definir una expresión regular para encontrar líneas con calificación B\n",
    "    # El patrón r'^(.+):\\s+B$' coincide con líneas que comienzan con cualquier nombre (.+)\n",
    "    # seguido de ':', seguido de cualquier cantidad de espacios en blanco (\\s+), seguido de 'B'\n",
    "    pattern = r\"(.+):\\s+B\\s*$\"\n",
    "\n",
    "    # Usar re.findall() para buscar todas las líneas que coincidan con el patrón\n",
    "    # El resultado será una lista de nombres de estudiantes que recibieron una calificación de B\n",
    "    students_with_b = re.findall(pattern, grades, re.MULTILINE)\n",
    "\n",
    "    # Retornar la lista de estudiantes con calificación B\n",
    "    return students_with_b\n",
    "\n",
    "# Llamar a la función grades() para probarla\n",
    "print(grades())  # Esto debería imprimir una lista de estudiantes con calificación B\n"
   ]
  },
  {
   "cell_type": "markdown",
   "metadata": {},
   "source": [
    "    Part C\n"
   ]
  },
  {
   "cell_type": "markdown",
   "metadata": {},
   "source": [
    "\n",
    "Consider the standard web log file in [assets/logdata.txt](assets/logdata.txt). This file records the access a user makes when visiting a web page (like this one!). Each line of the log has the following items:\n",
    "\n",
    "* a host (e.g., '146.204.224.152') \n",
    "* a user_name (e.g., 'feest6811' **note: sometimes the user name is missing! In this case, use '-' as the value for the username.**)\n",
    "* the time a request was made (e.g., '21/Jun/2019:15:45:24 -0700')\n",
    "* the post request type (e.g., 'POST /incentivize HTTP/1.1' **note: not everything is a POST!**)\n",
    "\n",
    "Your task is to convert this into a list of dictionaries, where each dictionary looks like the following:\n",
    "```\n",
    "example_dict = {\"host\":\"146.204.224.152\", \n",
    "                \"user_name\":\"feest6811\", \n",
    "                \"time\":\"21/Jun/2019:15:45:24 -0700\",\n",
    "                \"request\":\"POST /incentivize HTTP/1.1\"}\n",
    "```"
   ]
  },
  {
   "cell_type": "code",
   "execution_count": 33,
   "metadata": {},
   "outputs": [
    {
     "name": "stdout",
     "output_type": "stream",
     "text": [
      "979\n"
     ]
    }
   ],
   "source": [
    "import re\n",
    "\n",
    "def logs():\n",
    "    file_path = 'assets/logdata.txt'\n",
    "    log_entries = []\n",
    "\n",
    "    # Define el patrón de expresión regular para analizar las líneas del archivo de registro\n",
    "    log_pattern = r'(?P<host>\\S+) - (?P<user_name>\\S+) \\[(?P<time>[^\\]]+)\\] \"(?P<request>[^\"]+)\"'\n",
    "\n",
    "    # Abre el archivo de texto\n",
    "    with open(file_path, 'r') as file:\n",
    "        for line in file:\n",
    "            # Busca coincidencias del patrón en la línea actual\n",
    "            match = re.match(log_pattern, line)\n",
    "            if match:\n",
    "                # Extrae los grupos coincidentes del patrón y crea un diccionario con ellos\n",
    "                entry_dict = match.groupdict()\n",
    "                # Agrega el diccionario a la lista de entradas de registro\n",
    "                log_entries.append(entry_dict)\n",
    "\n",
    "    return log_entries\n",
    "\n",
    "# Verificar si la longitud de la lista devuelta por la función logs() coincide con la aserción proporcionada\n",
    "#assert len(logs()) == 979\n",
    "\n",
    "# Imprimir la cantidad de entradas de registro\n",
    "print(len(logs()))\n"
   ]
  },
  {
   "cell_type": "code",
   "execution_count": 31,
   "metadata": {},
   "outputs": [],
   "source": [
    "assert len(logs()) == 979\n",
    "\n",
    "one_item={'host': '146.204.224.152',\n",
    "  'user_name': 'feest6811',\n",
    "  'time': '21/Jun/2019:15:45:24 -0700',\n",
    "  'request': 'POST /incentivize HTTP/1.1'}\n",
    "assert one_item in logs(), \"Sorry, this item should be in the log results, check your formating\"\n"
   ]
  },
  {
   "cell_type": "code",
   "execution_count": 30,
   "metadata": {},
   "outputs": [
    {
     "name": "stdout",
     "output_type": "stream",
     "text": [
      "Línea 1: 146.204.224.152 - feest6811 [21/Jun/2019:15:45:24 -0700] \"POST /incentivize HTTP/1.1\" 302 4622\n",
      "\n"
     ]
    }
   ],
   "source": [
    "def find_ip_lines(file_path, ip_address):\n",
    "    ip_lines = []\n",
    "    line_number = 0\n",
    "    with open(file_path, 'r') as file:\n",
    "        for line in file:\n",
    "            line_number += 1\n",
    "            if ip_address in line:\n",
    "                ip_lines.append((line_number, line))\n",
    "    return ip_lines\n",
    "\n",
    "# Ruta del archivo de registro\n",
    "#file_path = \"ruta_del_archivo_de_registro.log\"\n",
    "\n",
    "# Dirección IP a buscar\n",
    "ip_address = \"146.204.224.152\"\n",
    "\n",
    "# Buscar todas las líneas que contienen la IP específica\n",
    "ip_lines = find_ip_lines(file_path, ip_address)\n",
    "\n",
    "# Imprimir el número de línea y las líneas encontradas\n",
    "for line_number, line in ip_lines:\n",
    "    print(f\"Línea {line_number}: {line}\")\n"
   ]
  }
 ],
 "metadata": {
  "kernelspec": {
   "display_name": "Python 3",
   "language": "python",
   "name": "python3"
  },
  "language_info": {
   "codemirror_mode": {
    "name": "ipython",
    "version": 3
   },
   "file_extension": ".py",
   "mimetype": "text/x-python",
   "name": "python",
   "nbconvert_exporter": "python",
   "pygments_lexer": "ipython3",
   "version": "3.12.3"
  }
 },
 "nbformat": 4,
 "nbformat_minor": 2
}
