{
 "cells": [
  {
   "cell_type": "code",
   "execution_count": null,
   "metadata": {},
   "outputs": [],
   "source": []
  },
  {
   "cell_type": "code",
   "execution_count": 3,
   "metadata": {},
   "outputs": [
    {
     "name": "stdout",
     "output_type": "stream",
     "text": [
      "But soft what light through yonder window breaks\n",
      "It is the east and Juliet is the sun\n",
      "Arise fair sun and kill the envious moon\n",
      "Who is already sick and pale with grief\n"
     ]
    }
   ],
   "source": [
    "import urllib.request\n",
    "\n",
    "man_a = urllib.request.urlopen('http://data.pr4e.org/romeo.txt')\n",
    "for linea in man_a:\n",
    "    print(linea.decode().strip())\n"
   ]
  },
  {
   "cell_type": "code",
   "execution_count": 1,
   "metadata": {},
   "outputs": [
    {
     "name": "stdout",
     "output_type": "stream",
     "text": [
      "{'But': 1, 'soft': 1, 'what': 1, 'light': 1, 'through': 1, 'yonder': 1, 'window': 1, 'breaks': 1, 'It': 1, 'is': 3, 'the': 3, 'east': 1, 'and': 3, 'Juliet': 1, 'sun': 2, 'Arise': 1, 'fair': 1, 'kill': 1, 'envious': 1, 'moon': 1, 'Who': 1, 'already': 1, 'sick': 1, 'pale': 1, 'with': 1, 'grief': 1}\n"
     ]
    }
   ],
   "source": [
    "import urllib.request, urllib.parse, urllib.error\n",
    "\n",
    "man_a = urllib.request.urlopen('http://data.pr4e.org/romeo.txt')\n",
    "\n",
    "contadores = dict()\n",
    "for linea in man_a:\n",
    "    palabras = linea.decode().split()\n",
    "    for palabra in palabras:\n",
    "        contadores[palabra] = contadores.get(palabra, 0) + 1\n",
    "print(contadores)"
   ]
  },
  {
   "cell_type": "code",
   "execution_count": 4,
   "metadata": {},
   "outputs": [
    {
     "name": "stdout",
     "output_type": "stream",
     "text": [
      "http://www.dr-chuck.com/page2.htm\n"
     ]
    }
   ],
   "source": [
    "from bs4 import  BeautifulSoup\n",
    "\n",
    "url=input('Enter - ')\n",
    "html=urllib.request.urlopen(url).read()\n",
    "soup =BeautifulSoup(html, 'html.parser')\n",
    "\n",
    "# retieve all of the anchor tags\n",
    "tags = soup(\"a\")\n",
    "for  tag in tags:\n",
    "    print(tag.get('href', None))"
   ]
  },
  {
   "cell_type": "code",
   "execution_count": null,
   "metadata": {},
   "outputs": [],
   "source": [
    "x = urllib.request.urlopen('http://data.pr4e.org/romeo.txt')\n",
    "\n"
   ]
  },
  {
   "cell_type": "code",
   "execution_count": 1,
   "metadata": {},
   "outputs": [
    {
     "name": "stdout",
     "output_type": "stream",
     "text": [
      "URL encontrada: http://www.dr-chuck.com\n"
     ]
    }
   ],
   "source": [
    "import re\n",
    "\n",
    "html_text = '<p>Please click <a href=\"http://www.dr-chuck.com\">here</a></p>'\n",
    "\n",
    "# Expresión regular para extraer la URL del atributo href\n",
    "pattern = r'href=\"(.+)\"'\n",
    "\n",
    "# Buscar la URL usando la regex\n",
    "match = re.search(pattern, html_text)\n",
    "\n",
    "# Si se encuentra una coincidencia, obtener el valor de la URL\n",
    "if match:\n",
    "    url = match.group(1)\n",
    "    print(\"URL encontrada:\", url)\n",
    "else:\n",
    "    print(\"URL no encontrada\")\n"
   ]
  },
  {
   "cell_type": "markdown",
   "metadata": {},
   "source": [
    "## Ejercicio ##"
   ]
  },
  {
   "cell_type": "markdown",
   "metadata": {},
   "source": [
    "Welcome Mario Daniel Rodriguez Casallas from Using Python to Access Web Data\n",
    "\n",
    "Scraping Numbers from HTML using BeautifulSoup In this assignment you will write a Python program similar to http://www.py4e.com/code3/urllink2.py. The program will use urllib to read the HTML from the data files below, and parse the data, extracting numbers and compute the sum of the numbers in the file.\n",
    "\n",
    "We provide two files for this assignment. One is a sample file where we give you the sum for your testing and the other is the actual data you need to process for the assignment.\n",
    "\n",
    "    Sample data: http://py4e-data.dr-chuck.net/comments_42.html (Sum=2553)\n",
    "    Actual data: http://py4e-data.dr-chuck.net/comments_1968702.html (Sum ends with 95)\n",
    "\n",
    "You do not need to save these files to your folder since your program will read the data directly from the URL. Note: Each student will have a distinct data url for the assignment - so only use your own data url for analysis.\n",
    "\n",
    "Data Format\n",
    "\n",
    "The file is a table of names and comment counts. You can ignore most of the data in the file except for lines like the following:\n",
    "\n",
    "<tr><td>Modu</td><td><span class=\"comments\">90</span></td></tr>\n",
    "<tr><td>Kenzie</td><td><span class=\"comments\">88</span></td></tr>\n",
    "<tr><td>Hubert</td><td><span class=\"comments\">87</span></td></tr>\n",
    "\n",
    "You are to find all the <span> tags in the file and pull out the numbers from the tag and sum the numbers.\n",
    "\n",
    "Look at the sample code provided. It shows how to find all of a certain kind of tag, loop through the tags and extract the various aspects of the tags.\n",
    "\n",
    "...\n",
    "# Retrieve all of the anchor tags\n",
    "tags = soup('a')\n",
    "for tag in tags:\n",
    "   # Look at the parts of a tag\n",
    "   print 'TAG:',tag\n",
    "   print 'URL:',tag.get('href', None)\n",
    "   print 'Contents:',tag.contents[0]\n",
    "   print 'Attrs:',tag.attrs\n",
    "\n",
    "You need to adjust this code to look for span tags and pull out the text content of the span tag, convert them to integers and add them up to complete the assignment.\n",
    "\n",
    "Sample Execution\n",
    "\n",
    "$ python3 solution.py\n",
    "Enter - http://py4e-data.dr-chuck.net/comments_42.html\n",
    "Count 50\n",
    "Sum 2...\n",
    "\n",
    "Turning in the Assignment\n",
    "Enter the sum from the actual data and your Python code below:"
   ]
  },
  {
   "cell_type": "code",
   "execution_count": 5,
   "metadata": {},
   "outputs": [
    {
     "name": "stdout",
     "output_type": "stream",
     "text": [
      "Count: 50\n",
      "Sum: 2595\n"
     ]
    }
   ],
   "source": [
    "import urllib.request\n",
    "from bs4 import BeautifulSoup\n",
    "\n",
    "# Solicitar la URL\n",
    "url = input(\"Enter URL: \")\n",
    "if len(url) < 1:\n",
    "#    url = \"hhttp://py4e-data.dr-chuck.net/comments_42.html\"\n",
    "    url = \"http://py4e-data.dr-chuck.net/comments_1968702.html\"\n",
    "\n",
    "# Leer el contenido HTML de la URL\n",
    "html = urllib.request.urlopen(url).read()\n",
    "\n",
    "# Analizar el HTML con BeautifulSoup\n",
    "soup = BeautifulSoup(html, 'html.parser')\n",
    "\n",
    "# Encontrar todas las etiquetas <span> con la clase 'comments'\n",
    "span_tags = soup.find_all('span', class_='comments')\n",
    "\n",
    "# Inicializar la suma\n",
    "total_sum = 0\n",
    "\n",
    "# Iterar sobre las etiquetas <span> y sumar los números\n",
    "for span in span_tags:\n",
    "    # Extraer el contenido de texto de la etiqueta <span>\n",
    "    number = int(span.text)\n",
    "    # Sumar el número\n",
    "    total_sum += number\n",
    "\n",
    "# Imprimir la suma total\n",
    "print(f\"Count: {len(span_tags)}\")\n",
    "print(f\"Sum: {total_sum}\")\n"
   ]
  },
  {
   "cell_type": "markdown",
   "metadata": {},
   "source": [
    "## Ejercicio ##\n"
   ]
  },
  {
   "cell_type": "markdown",
   "metadata": {},
   "source": [
    "Welcome Mario Daniel Rodriguez Casallas from Using Python to Access Web Data\n",
    "\n",
    "Following Links in Python\n",
    "\n",
    "In this assignment you will write a Python program that expands on http://www.py4e.com/code3/urllinks.py. The program will use urllib to read the HTML from the data files below, extract the href= vaues from the anchor tags, scan for a tag that is in a particular position relative to the first name in the list, follow that link and repeat the process a number of times and report the last name you find.\n",
    "\n",
    "We provide two files for this assignment. One is a sample file where we give you the name for your testing and the other is the actual data you need to process for the assignment\n",
    "\n",
    "    Sample problem: Start at http://py4e-data.dr-chuck.net/known_by_Fikret.html\n",
    "    Find the link at position 3 (the first name is 1). Follow that link. Repeat this process 4 times. The answer is the last name that you retrieve.\n",
    "    Sequence of names: Fikret Montgomery Mhairade Butchi Anayah\n",
    "    Last name in sequence: Anayah\n",
    "    Actual problem: Start at: http://py4e-data.dr-chuck.net/known_by_Nasser.html\n",
    "    Find the link at position 18 (the first name is 1). Follow that link. Repeat this process 7 times. The answer is the last name that you retrieve.\n",
    "    Hint: The first character of the name of the last page that you will load is: T\n",
    "\n",
    "Strategy\n",
    "\n",
    "The web pages tweak the height between the links and hide the page after a few seconds to make it difficult for you to do the assignment without writing a Python program. But frankly with a little effort and patience you can overcome these attempts to make it a little harder to complete the assignment without writing a Python program. But that is not the point. The point is to write a clever Python program to solve the program.\n",
    "\n",
    "Sample execution\n",
    "\n",
    "Here is a sample execution of a solution:\n",
    "\n",
    "$ python3 solution.py\n",
    "Enter URL: http://py4e-data.dr-chuck.net/known_by_Fikret.html\n",
    "Enter count: 4\n",
    "Enter position: 3\n",
    "Retrieving: http://py4e-data.dr-chuck.net/known_by_Fikret.html\n",
    "Retrieving: http://py4e-data.dr-chuck.net/known_by_Montgomery.html\n",
    "Retrieving: http://py4e-data.dr-chuck.net/known_by_Mhairade.html\n",
    "Retrieving: http://py4e-data.dr-chuck.net/known_by_Butchi.html\n",
    "Retrieving: http://py4e-data.dr-chuck.net/known_by_Anayah.html\n",
    "\n",
    "The answer to the assignment for this execution is \"Anayah\".\n",
    "\n",
    "Turning in the Assignment\n",
    "Enter the last name retrieved and your Python code below:"
   ]
  },
  {
   "cell_type": "code",
   "execution_count": 11,
   "metadata": {},
   "outputs": [
    {
     "name": "stdout",
     "output_type": "stream",
     "text": [
      "Retrieving: http://py4e-data.dr-chuck.net/known_by_Samir.html\n",
      "Retrieving: http://py4e-data.dr-chuck.net/known_by_Neshawn.html\n",
      "Retrieving: http://py4e-data.dr-chuck.net/known_by_Calder.html\n",
      "Retrieving: http://py4e-data.dr-chuck.net/known_by_Hanim.html\n",
      "Retrieving: http://py4e-data.dr-chuck.net/known_by_Moore.html\n",
      "Retrieving: http://py4e-data.dr-chuck.net/known_by_Taqwah.html\n",
      "Retrieving: http://py4e-data.dr-chuck.net/known_by_Tamar.html\n",
      "Last name retrieved: Tamar\n"
     ]
    }
   ],
   "source": [
    "import urllib.request\n",
    "from bs4 import BeautifulSoup\n",
    "\n",
    "# Solicitar la URL inicial, el número de repeticiones y la posición\n",
    "url = input(\"Enter URL: \")\n",
    "\n",
    "if len(url) < 1:\n",
    "    url = \"http://py4e-data.dr-chuck.net/known_by_Nasser.html\"\n",
    "\n",
    "count = int(input(\"Enter count: \"))\n",
    "\n",
    "position = int(input(\"Enter position: \"))\n",
    "\n",
    "\n",
    "# Repetir el proceso count veces\n",
    "for i in range(count):\n",
    "    # Leer el contenido HTML de la URL\n",
    "    html = urllib.request.urlopen(url).read()\n",
    "    \n",
    "    # Analizar el HTML con BeautifulSoup\n",
    "    soup = BeautifulSoup(html, 'html.parser')\n",
    "    \n",
    "    # Encontrar todas las etiquetas <a>\n",
    "    a_tags = soup.find_all('a')\n",
    "    \n",
    "    # Extraer la URL de la posición especificada\n",
    "    url = a_tags[position - 1]['href']\n",
    "    \n",
    "    # Mostrar la URL que se está recuperando\n",
    "    print(\"Retrieving:\", url)\n",
    "\n",
    "# Imprimir la última URL visitada (último nombre recuperado)\n",
    "print(\"Last name retrieved:\", url.split('_')[-1].split('.')[0])\n"
   ]
  }
 ],
 "metadata": {
  "kernelspec": {
   "display_name": "Python 3",
   "language": "python",
   "name": "python3"
  },
  "language_info": {
   "codemirror_mode": {
    "name": "ipython",
    "version": 3
   },
   "file_extension": ".py",
   "mimetype": "text/x-python",
   "name": "python",
   "nbconvert_exporter": "python",
   "pygments_lexer": "ipython3",
   "version": "3.12.3"
  }
 },
 "nbformat": 4,
 "nbformat_minor": 2
}
